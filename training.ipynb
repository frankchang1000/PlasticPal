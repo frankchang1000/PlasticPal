{
 "cells": [
  {
   "cell_type": "markdown",
   "metadata": {},
   "source": [
    "Import Requirements"
   ]
  },
  {
   "cell_type": "code",
   "execution_count": 1,
   "metadata": {},
   "outputs": [],
   "source": [
    "import os\n",
    "import math\n",
    "import random\n",
    "\n",
    "import cv2\n",
    "import numpy as np\n",
    "import tensorflow as tf\n",
    "import albumentations as A\n",
    "import matplotlib.pyplot as plt"
   ]
  },
  {
   "cell_type": "markdown",
   "metadata": {},
   "source": [
    "Set the Hyperparameters"
   ]
  },
  {
   "cell_type": "code",
   "execution_count": 2,
   "metadata": {},
   "outputs": [],
   "source": [
    "model_name = \"efficientnet_b0\"\n",
    "weights = None #\"imagenet\"\n",
    "input_dims = (128, 128, 3)\n",
    "num_classes = 101\n",
    "epochs = 250\n",
    "batch_size = 256\n",
    "shuffle_size = 16\n",
    "learning_rate = 0.01\n",
    "precision = \"float32\"\n",
    "model_dir = \"models\"\n",
    "testing_set = 0.15"
   ]
  },
  {
   "cell_type": "markdown",
   "metadata": {},
   "source": [
    "Create the Models"
   ]
  },
  {
   "cell_type": "code",
   "execution_count": 3,
   "metadata": {},
   "outputs": [],
   "source": [
    "models = {\n",
    "    'efficientnet_b0': tf.keras.applications.EfficientNetB0,\n",
    "    'efficientnet_b1': tf.keras.applications.EfficientNetB1,\n",
    "    'efficientnet_b2': tf.keras.applications.EfficientNetB2,\n",
    "    'efficientnet_b3': tf.keras.applications.EfficientNetB3,\n",
    "    'efficientnet_b4': tf.keras.applications.EfficientNetB4,\n",
    "    'efficientnet_b5': tf.keras.applications.EfficientNetB5,\n",
    "    'efficientnet_b6': tf.keras.applications.EfficientNetB6,\n",
    "    'efficientnet_b7': tf.keras.applications.EfficientNetB7\n",
    "}\n",
    "inputs = tf.keras.Input(shape=input_dims)\n",
    "backbone = models[model_name](include_top=True,\n",
    "                        weights=weights,\n",
    "                        input_shape=input_dims,\n",
    "                        classes=num_classes)(inputs)\n",
    "backbone.trainable = True\n",
    "model = tf.keras.Model(inputs=inputs, outputs=backbone, name=model_name)"
   ]
  },
  {
   "cell_type": "code",
   "execution_count": 4,
   "metadata": {},
   "outputs": [
    {
     "name": "stdout",
     "output_type": "stream",
     "text": [
      "Model: \"efficientnet_b0\"\n",
      "_________________________________________________________________\n",
      " Layer (type)                Output Shape              Param #   \n",
      "=================================================================\n",
      " input_1 (InputLayer)        [(None, 128, 128, 3)]     0         \n",
      "                                                                 \n",
      " efficientnetb0 (Functional)  (None, 101)              4178952   \n",
      "                                                                 \n",
      "=================================================================\n",
      "Total params: 4,178,952\n",
      "Trainable params: 4,136,929\n",
      "Non-trainable params: 42,023\n",
      "_________________________________________________________________\n"
     ]
    }
   ],
   "source": [
    "model.summary()"
   ]
  },
  {
   "cell_type": "markdown",
   "metadata": {},
   "source": [
    "Import test training data (MNIST)"
   ]
  },
  {
   "cell_type": "code",
   "execution_count": 5,
   "metadata": {},
   "outputs": [
    {
     "data": {
      "text/plain": [
       "'\\n(x_train, y_train), (x_test, y_test) = tf.keras.datasets.cifar10.load_data()\\nprint(x_train.shape)\\nprint(y_train.shape)\\n'"
      ]
     },
     "execution_count": 5,
     "metadata": {},
     "output_type": "execute_result"
    }
   ],
   "source": [
    "\"\"\"\n",
    "(x_train, y_train), (x_test, y_test) = tf.keras.datasets.cifar10.load_data()\n",
    "print(x_train.shape)\n",
    "print(y_train.shape)\n",
    "\"\"\""
   ]
  },
  {
   "cell_type": "markdown",
   "metadata": {},
   "source": [
    "Import Real Training Data"
   ]
  },
  {
   "cell_type": "code",
   "execution_count": 27,
   "metadata": {},
   "outputs": [],
   "source": [
    "x_train = []\n",
    "y_train = []\n",
    "labels_list = []\n",
    "\n",
    "labels = os.listdir(\"data\")\n",
    "label_cn = 0\n",
    "for label in labels:\n",
    "    images_in_labels = os.listdir(\"data/\" + label)\n",
    "    for image in images_in_labels:\n",
    "        labels_list.append(image)\n",
    "        sub_images = os.path.join(\"data\", label, image)\n",
    "        for _t in os.listdir(sub_images):\n",
    "            try:\n",
    "                if _t.endswith(\".jpg\"):\n",
    "                    im = np.array(\n",
    "                            cv2.imread(\n",
    "                                os.path.join(sub_images, _t)))\n",
    "                    if len(im.shape) == 3:\n",
    "                        x_train.append(im)\n",
    "                        y_train.append(int(label))\n",
    "            except:\n",
    "                pass\n",
    "    label_cn += 1"
   ]
  },
  {
   "cell_type": "markdown",
   "metadata": {},
   "source": [
    "Preprocessing"
   ]
  },
  {
   "cell_type": "code",
   "execution_count": 9,
   "metadata": {},
   "outputs": [],
   "source": [
    "def augment_preprocess(image):\n",
    "    image = np.array(image)\n",
    "    image = cv2.cvtColor(image, cv2.COLOR_BGR2RGB)\n",
    "    image = cv2.resize(image, (input_dims[0], input_dims[1]))\n",
    "    return image\n",
    "\n",
    "def one_hot(indicies):\n",
    "    return tf.one_hot(indicies, num_classes)[0]"
   ]
  },
  {
   "cell_type": "code",
   "execution_count": 16,
   "metadata": {},
   "outputs": [],
   "source": [
    "x_training_np = [augment_preprocess(image) for image in x_train]\n",
    "y_training_np = [one_hot([label]) for label in y_train]\n",
    "\n",
    "# training_set = random.shuffle(list(zip(x_training_np, y_training_np)))\n",
    "# x_training_np, y_training_np = zip(*training_set)\n",
    "\n",
    "x_training_np = np.array(x_training_np)\n",
    "y_training_np = np.array(y_training_np)"
   ]
  },
  {
   "cell_type": "code",
   "execution_count": 17,
   "metadata": {},
   "outputs": [
    {
     "name": "stdout",
     "output_type": "stream",
     "text": [
      "Training image shapes (8179, 128, 128, 3)\n",
      "Training label shapes (8179, 101)\n",
      "Training set size 8179\n"
     ]
    }
   ],
   "source": [
    "print(\"Training image shapes \" + str(x_training_np.shape))\n",
    "print(\"Training label shapes \" + str(y_training_np.shape))\n",
    "\n",
    "print(\"Training set size \" + str(len(x_training_np)))"
   ]
  },
  {
   "cell_type": "markdown",
   "metadata": {},
   "source": [
    "Datagenerator"
   ]
  },
  {
   "cell_type": "code",
   "execution_count": 18,
   "metadata": {},
   "outputs": [],
   "source": [
    "from tensorflow.keras.preprocessing.image import ImageDataGenerator"
   ]
  },
  {
   "cell_type": "code",
   "execution_count": 19,
   "metadata": {},
   "outputs": [],
   "source": [
    "train_datagen = ImageDataGenerator(rotation_range=5,  # rotation\n",
    "                                   width_shift_range=0.2,  # horizontal shift\n",
    "                                   zoom_range=0.2,  # zoom\n",
    "                                   horizontal_flip=True,  # horizontal flip\n",
    "                                   brightness_range=[0.2,0.8])  # brightness"
   ]
  },
  {
   "cell_type": "markdown",
   "metadata": {},
   "source": [
    "Training Settings"
   ]
  },
  {
   "cell_type": "code",
   "execution_count": 20,
   "metadata": {},
   "outputs": [],
   "source": [
    "optimizer = tf.keras.optimizers.Adam(learning_rate=learning_rate)\n",
    "loss_func = tf.keras.losses.CategoricalCrossentropy(from_logits=False)"
   ]
  },
  {
   "cell_type": "code",
   "execution_count": 21,
   "metadata": {},
   "outputs": [],
   "source": [
    "tensorboard_cb = tf.keras.callbacks.TensorBoard(\n",
    "    log_dir=os.path.join(model_dir, model_name, \"tensorboard\"),\n",
    "    histogram_freq=0,\n",
    "    write_graph=True,\n",
    "    write_images=False,\n",
    "    write_steps_per_second=False,\n",
    "    update_freq=\"epoch\",\n",
    "    profile_batch=0,\n",
    "    embeddings_freq=0,\n",
    "    embeddings_metadata=None)"
   ]
  },
  {
   "cell_type": "markdown",
   "metadata": {},
   "source": [
    "Training"
   ]
  },
  {
   "cell_type": "code",
   "execution_count": 22,
   "metadata": {},
   "outputs": [
    {
     "name": "stdout",
     "output_type": "stream",
     "text": [
      "Epoch 1/250\n",
      "32/32 [==============================] - 35s 661ms/step - loss: 4.4002 - accuracy: 0.0752 - categorical_crossentropy: 4.4002\n",
      "Epoch 2/250\n",
      "32/32 [==============================] - 20s 606ms/step - loss: 3.8216 - accuracy: 0.0873 - categorical_crossentropy: 3.8216\n",
      "Epoch 3/250\n",
      "32/32 [==============================] - 20s 607ms/step - loss: 3.5690 - accuracy: 0.1316 - categorical_crossentropy: 3.5690\n",
      "Epoch 4/250\n",
      "32/32 [==============================] - 20s 612ms/step - loss: 3.3678 - accuracy: 0.1725 - categorical_crossentropy: 3.3678\n",
      "Epoch 5/250\n",
      "32/32 [==============================] - 19s 570ms/step - loss: 3.2342 - accuracy: 0.1945 - categorical_crossentropy: 3.2342\n",
      "Epoch 6/250\n",
      "32/32 [==============================] - 20s 617ms/step - loss: 3.0767 - accuracy: 0.2264 - categorical_crossentropy: 3.0767\n",
      "Epoch 7/250\n",
      "32/32 [==============================] - 20s 617ms/step - loss: 2.9707 - accuracy: 0.2483 - categorical_crossentropy: 2.9707\n",
      "Epoch 8/250\n",
      "32/32 [==============================] - 20s 613ms/step - loss: 2.8729 - accuracy: 0.2592 - categorical_crossentropy: 2.8729\n",
      "Epoch 9/250\n",
      "32/32 [==============================] - 20s 610ms/step - loss: 2.7969 - accuracy: 0.2810 - categorical_crossentropy: 2.7969\n",
      "Epoch 10/250\n",
      "32/32 [==============================] - 20s 622ms/step - loss: 2.6840 - accuracy: 0.3087 - categorical_crossentropy: 2.6840\n",
      "Epoch 11/250\n",
      "32/32 [==============================] - 20s 623ms/step - loss: 2.5946 - accuracy: 0.3255 - categorical_crossentropy: 2.5946\n",
      "Epoch 12/250\n",
      "32/32 [==============================] - 20s 617ms/step - loss: 2.5745 - accuracy: 0.3337 - categorical_crossentropy: 2.5745\n",
      "Epoch 13/250\n",
      "32/32 [==============================] - 20s 615ms/step - loss: 2.4773 - accuracy: 0.3521 - categorical_crossentropy: 2.4773\n",
      "Epoch 14/250\n",
      "32/32 [==============================] - 21s 626ms/step - loss: 2.3589 - accuracy: 0.3806 - categorical_crossentropy: 2.3589\n",
      "Epoch 15/250\n",
      "32/32 [==============================] - 21s 630ms/step - loss: 2.2948 - accuracy: 0.3947 - categorical_crossentropy: 2.2948\n",
      "Epoch 16/250\n",
      "32/32 [==============================] - 21s 625ms/step - loss: 2.2315 - accuracy: 0.4159 - categorical_crossentropy: 2.2315\n",
      "Epoch 17/250\n",
      "32/32 [==============================] - 20s 618ms/step - loss: 2.1601 - accuracy: 0.4201 - categorical_crossentropy: 2.1601\n",
      "Epoch 18/250\n",
      "32/32 [==============================] - 20s 622ms/step - loss: 2.0895 - accuracy: 0.4386 - categorical_crossentropy: 2.0895\n",
      "Epoch 19/250\n",
      "32/32 [==============================] - 21s 631ms/step - loss: 2.0186 - accuracy: 0.4600 - categorical_crossentropy: 2.0186\n",
      "Epoch 20/250\n",
      "32/32 [==============================] - 20s 621ms/step - loss: 1.9359 - accuracy: 0.4754 - categorical_crossentropy: 1.9359\n",
      "Epoch 21/250\n",
      "32/32 [==============================] - 20s 620ms/step - loss: 1.9079 - accuracy: 0.4815 - categorical_crossentropy: 1.9079\n",
      "Epoch 22/250\n",
      "32/32 [==============================] - 20s 619ms/step - loss: 1.8390 - accuracy: 0.5023 - categorical_crossentropy: 1.8390\n",
      "Epoch 23/250\n",
      "32/32 [==============================] - 21s 628ms/step - loss: 1.8196 - accuracy: 0.5023 - categorical_crossentropy: 1.8196\n",
      "Epoch 24/250\n",
      "32/32 [==============================] - 20s 618ms/step - loss: 1.7418 - accuracy: 0.5245 - categorical_crossentropy: 1.7418\n",
      "Epoch 25/250\n",
      "32/32 [==============================] - 20s 621ms/step - loss: 1.8445 - accuracy: 0.4926 - categorical_crossentropy: 1.8445\n",
      "Epoch 26/250\n",
      "32/32 [==============================] - 20s 623ms/step - loss: 1.7827 - accuracy: 0.5100 - categorical_crossentropy: 1.7827\n",
      "Epoch 27/250\n",
      "32/32 [==============================] - 21s 633ms/step - loss: 1.6530 - accuracy: 0.5477 - categorical_crossentropy: 1.6530\n",
      "Epoch 28/250\n",
      "32/32 [==============================] - 20s 608ms/step - loss: 1.5891 - accuracy: 0.5620 - categorical_crossentropy: 1.5891\n",
      "Epoch 29/250\n",
      "32/32 [==============================] - 20s 614ms/step - loss: 1.5561 - accuracy: 0.5699 - categorical_crossentropy: 1.5561\n",
      "Epoch 30/250\n",
      "32/32 [==============================] - 20s 614ms/step - loss: 1.5238 - accuracy: 0.5784 - categorical_crossentropy: 1.5238\n",
      "Epoch 31/250\n",
      "32/32 [==============================] - 20s 618ms/step - loss: 1.4851 - accuracy: 0.5872 - categorical_crossentropy: 1.4851\n",
      "Epoch 32/250\n",
      "32/32 [==============================] - 20s 610ms/step - loss: 1.4282 - accuracy: 0.6004 - categorical_crossentropy: 1.4282\n",
      "Epoch 33/250\n",
      "32/32 [==============================] - 20s 614ms/step - loss: 1.5183 - accuracy: 0.5820 - categorical_crossentropy: 1.5183\n",
      "Epoch 34/250\n",
      "32/32 [==============================] - 20s 617ms/step - loss: 1.5184 - accuracy: 0.5749 - categorical_crossentropy: 1.5184\n",
      "Epoch 35/250\n",
      "32/32 [==============================] - 20s 620ms/step - loss: 1.3987 - accuracy: 0.6086 - categorical_crossentropy: 1.3987\n",
      "Epoch 36/250\n",
      "32/32 [==============================] - 20s 611ms/step - loss: 1.3050 - accuracy: 0.6369 - categorical_crossentropy: 1.3050\n",
      "Epoch 37/250\n",
      "32/32 [==============================] - 20s 611ms/step - loss: 1.3081 - accuracy: 0.6336 - categorical_crossentropy: 1.3081\n",
      "Epoch 38/250\n",
      "32/32 [==============================] - 20s 618ms/step - loss: 1.2662 - accuracy: 0.6404 - categorical_crossentropy: 1.2662\n",
      "Epoch 39/250\n",
      "32/32 [==============================] - 20s 623ms/step - loss: 1.1901 - accuracy: 0.6568 - categorical_crossentropy: 1.1901\n",
      "Epoch 40/250\n",
      "32/32 [==============================] - 20s 613ms/step - loss: 1.2411 - accuracy: 0.6441 - categorical_crossentropy: 1.2411\n",
      "Epoch 41/250\n",
      "32/32 [==============================] - 20s 617ms/step - loss: 1.1833 - accuracy: 0.6597 - categorical_crossentropy: 1.1833\n",
      "Epoch 42/250\n",
      "32/32 [==============================] - 20s 617ms/step - loss: 1.1194 - accuracy: 0.6755 - categorical_crossentropy: 1.1194\n",
      "Epoch 43/250\n",
      "32/32 [==============================] - 21s 627ms/step - loss: 1.0991 - accuracy: 0.6825 - categorical_crossentropy: 1.0991\n",
      "Epoch 44/250\n",
      "32/32 [==============================] - 20s 617ms/step - loss: 1.0984 - accuracy: 0.6891 - categorical_crossentropy: 1.0984\n",
      "Epoch 45/250\n",
      "32/32 [==============================] - 20s 615ms/step - loss: 1.0971 - accuracy: 0.6762 - categorical_crossentropy: 1.0971\n",
      "Epoch 46/250\n",
      "32/32 [==============================] - 20s 622ms/step - loss: 1.0719 - accuracy: 0.6910 - categorical_crossentropy: 1.0719\n",
      "Epoch 47/250\n",
      "32/32 [==============================] - 20s 620ms/step - loss: 1.0037 - accuracy: 0.7055 - categorical_crossentropy: 1.0037\n",
      "Epoch 48/250\n",
      "32/32 [==============================] - 20s 613ms/step - loss: 1.0044 - accuracy: 0.7055 - categorical_crossentropy: 1.0044\n",
      "Epoch 49/250\n",
      "32/32 [==============================] - 20s 613ms/step - loss: 0.9681 - accuracy: 0.7145 - categorical_crossentropy: 0.9681\n",
      "Epoch 50/250\n",
      "32/32 [==============================] - 20s 622ms/step - loss: 0.9674 - accuracy: 0.7172 - categorical_crossentropy: 0.9674\n",
      "Epoch 51/250\n",
      "32/32 [==============================] - 20s 623ms/step - loss: 0.9041 - accuracy: 0.7365 - categorical_crossentropy: 0.9041\n",
      "Epoch 52/250\n",
      "32/32 [==============================] - 20s 620ms/step - loss: 0.8966 - accuracy: 0.7332 - categorical_crossentropy: 0.8966\n",
      "Epoch 53/250\n",
      "32/32 [==============================] - 20s 615ms/step - loss: 0.8774 - accuracy: 0.7425 - categorical_crossentropy: 0.8774\n",
      "Epoch 54/250\n",
      "32/32 [==============================] - 20s 623ms/step - loss: 0.8456 - accuracy: 0.7483 - categorical_crossentropy: 0.8456\n",
      "Epoch 55/250\n",
      "32/32 [==============================] - 20s 626ms/step - loss: 0.8503 - accuracy: 0.7457 - categorical_crossentropy: 0.8503\n",
      "Epoch 56/250\n",
      "32/32 [==============================] - 20s 618ms/step - loss: 0.8653 - accuracy: 0.7437 - categorical_crossentropy: 0.8653\n",
      "Epoch 57/250\n",
      "32/32 [==============================] - 20s 618ms/step - loss: 0.8158 - accuracy: 0.7556 - categorical_crossentropy: 0.8158\n",
      "Epoch 58/250\n",
      "32/32 [==============================] - 21s 629ms/step - loss: 0.7713 - accuracy: 0.7673 - categorical_crossentropy: 0.7713\n",
      "Epoch 59/250\n",
      "32/32 [==============================] - 21s 638ms/step - loss: 0.7599 - accuracy: 0.7720 - categorical_crossentropy: 0.7599\n",
      "Epoch 60/250\n",
      "32/32 [==============================] - 20s 620ms/step - loss: 0.7643 - accuracy: 0.7673 - categorical_crossentropy: 0.7643\n",
      "Epoch 61/250\n",
      "32/32 [==============================] - 20s 623ms/step - loss: 0.7532 - accuracy: 0.7712 - categorical_crossentropy: 0.7532\n",
      "Epoch 62/250\n",
      "32/32 [==============================] - 20s 625ms/step - loss: 0.7141 - accuracy: 0.7797 - categorical_crossentropy: 0.7141\n",
      "Epoch 63/250\n",
      "32/32 [==============================] - 21s 632ms/step - loss: 0.6815 - accuracy: 0.7923 - categorical_crossentropy: 0.6815\n",
      "Epoch 64/250\n",
      "32/32 [==============================] - 20s 621ms/step - loss: 0.6757 - accuracy: 0.7893 - categorical_crossentropy: 0.6757\n",
      "Epoch 65/250\n",
      "32/32 [==============================] - 20s 619ms/step - loss: 0.6565 - accuracy: 0.8060 - categorical_crossentropy: 0.6565\n",
      "Epoch 66/250\n",
      "32/32 [==============================] - 20s 620ms/step - loss: 0.6529 - accuracy: 0.8001 - categorical_crossentropy: 0.6529\n",
      "Epoch 67/250\n",
      "32/32 [==============================] - 21s 625ms/step - loss: 0.6237 - accuracy: 0.8079 - categorical_crossentropy: 0.6237\n",
      "Epoch 68/250\n",
      "32/32 [==============================] - 20s 620ms/step - loss: 0.6031 - accuracy: 0.8113 - categorical_crossentropy: 0.6031\n",
      "Epoch 69/250\n",
      "32/32 [==============================] - 20s 621ms/step - loss: 0.5855 - accuracy: 0.8190 - categorical_crossentropy: 0.5855\n",
      "Epoch 70/250\n",
      "32/32 [==============================] - 21s 627ms/step - loss: 0.5891 - accuracy: 0.8217 - categorical_crossentropy: 0.5891\n",
      "Epoch 71/250\n",
      "32/32 [==============================] - 21s 635ms/step - loss: 0.5863 - accuracy: 0.8181 - categorical_crossentropy: 0.5863\n",
      "Epoch 72/250\n",
      "32/32 [==============================] - 20s 623ms/step - loss: 0.5510 - accuracy: 0.8292 - categorical_crossentropy: 0.5510\n",
      "Epoch 73/250\n",
      "32/32 [==============================] - 21s 628ms/step - loss: 0.5612 - accuracy: 0.8255 - categorical_crossentropy: 0.5612\n",
      "Epoch 74/250\n",
      "32/32 [==============================] - 21s 629ms/step - loss: 0.5246 - accuracy: 0.8356 - categorical_crossentropy: 0.5246\n",
      "Epoch 75/250\n",
      "32/32 [==============================] - 21s 633ms/step - loss: 0.5255 - accuracy: 0.8400 - categorical_crossentropy: 0.5255\n",
      "Epoch 76/250\n",
      "32/32 [==============================] - 20s 622ms/step - loss: 0.5307 - accuracy: 0.8337 - categorical_crossentropy: 0.5307\n",
      "Epoch 77/250\n",
      "32/32 [==============================] - 21s 629ms/step - loss: 0.5040 - accuracy: 0.8393 - categorical_crossentropy: 0.5040\n",
      "Epoch 78/250\n",
      "32/32 [==============================] - 21s 630ms/step - loss: 0.4749 - accuracy: 0.8549 - categorical_crossentropy: 0.4749\n",
      "Epoch 79/250\n",
      "32/32 [==============================] - 21s 634ms/step - loss: 0.4897 - accuracy: 0.8452 - categorical_crossentropy: 0.4897\n",
      "Epoch 80/250\n",
      "32/32 [==============================] - 20s 625ms/step - loss: 0.4632 - accuracy: 0.8534 - categorical_crossentropy: 0.4632\n",
      "Epoch 81/250\n",
      "32/32 [==============================] - 20s 617ms/step - loss: 0.4785 - accuracy: 0.8510 - categorical_crossentropy: 0.4785\n",
      "Epoch 82/250\n",
      "32/32 [==============================] - 20s 624ms/step - loss: 0.4631 - accuracy: 0.8561 - categorical_crossentropy: 0.4631\n",
      "Epoch 83/250\n",
      "32/32 [==============================] - 21s 627ms/step - loss: 0.4283 - accuracy: 0.8654 - categorical_crossentropy: 0.4283\n",
      "Epoch 84/250\n",
      "32/32 [==============================] - 20s 617ms/step - loss: 0.4014 - accuracy: 0.8731 - categorical_crossentropy: 0.4014\n",
      "Epoch 85/250\n",
      "32/32 [==============================] - 20s 620ms/step - loss: 0.4029 - accuracy: 0.8722 - categorical_crossentropy: 0.4029\n",
      "Epoch 86/250\n",
      "32/32 [==============================] - 20s 621ms/step - loss: 0.4140 - accuracy: 0.8727 - categorical_crossentropy: 0.4140\n",
      "Epoch 87/250\n",
      "32/32 [==============================] - 21s 633ms/step - loss: 0.3999 - accuracy: 0.8768 - categorical_crossentropy: 0.3999\n",
      "Epoch 88/250\n",
      "32/32 [==============================] - 20s 617ms/step - loss: 0.3966 - accuracy: 0.8747 - categorical_crossentropy: 0.3966\n",
      "Epoch 89/250\n",
      "32/32 [==============================] - 20s 619ms/step - loss: 0.3882 - accuracy: 0.8765 - categorical_crossentropy: 0.3882\n",
      "Epoch 90/250\n",
      "32/32 [==============================] - 20s 621ms/step - loss: 0.3970 - accuracy: 0.8777 - categorical_crossentropy: 0.3970\n",
      "Epoch 91/250\n",
      "32/32 [==============================] - 20s 626ms/step - loss: 0.3967 - accuracy: 0.8785 - categorical_crossentropy: 0.3967\n",
      "Epoch 92/250\n",
      "32/32 [==============================] - 20s 616ms/step - loss: 0.4119 - accuracy: 0.8688 - categorical_crossentropy: 0.4119\n",
      "Epoch 93/250\n",
      "32/32 [==============================] - 20s 619ms/step - loss: 0.4134 - accuracy: 0.8683 - categorical_crossentropy: 0.4134\n",
      "Epoch 94/250\n",
      "32/32 [==============================] - 20s 624ms/step - loss: 0.3772 - accuracy: 0.8818 - categorical_crossentropy: 0.3772\n",
      "Epoch 95/250\n",
      "32/32 [==============================] - 20s 621ms/step - loss: 0.3970 - accuracy: 0.8771 - categorical_crossentropy: 0.3970\n",
      "Epoch 96/250\n",
      "32/32 [==============================] - 20s 602ms/step - loss: 0.3700 - accuracy: 0.8859 - categorical_crossentropy: 0.3700\n",
      "Epoch 97/250\n",
      "32/32 [==============================] - 20s 610ms/step - loss: 0.3459 - accuracy: 0.8881 - categorical_crossentropy: 0.3459\n",
      "Epoch 98/250\n",
      "32/32 [==============================] - 20s 612ms/step - loss: 0.3585 - accuracy: 0.8869 - categorical_crossentropy: 0.3585\n",
      "Epoch 99/250\n",
      "32/32 [==============================] - 20s 625ms/step - loss: 0.3476 - accuracy: 0.8925 - categorical_crossentropy: 0.3476\n",
      "Epoch 100/250\n",
      "32/32 [==============================] - 20s 607ms/step - loss: 0.3810 - accuracy: 0.8780 - categorical_crossentropy: 0.3810\n",
      "Epoch 101/250\n",
      "32/32 [==============================] - 20s 612ms/step - loss: 0.3545 - accuracy: 0.8873 - categorical_crossentropy: 0.3545\n",
      "Epoch 102/250\n",
      "32/32 [==============================] - 20s 606ms/step - loss: 0.3374 - accuracy: 0.8952 - categorical_crossentropy: 0.3374\n",
      "Epoch 103/250\n",
      "32/32 [==============================] - 20s 622ms/step - loss: 0.2975 - accuracy: 0.9052 - categorical_crossentropy: 0.2975\n",
      "Epoch 104/250\n",
      "32/32 [==============================] - 20s 608ms/step - loss: 0.3110 - accuracy: 0.8980 - categorical_crossentropy: 0.3110\n",
      "Epoch 105/250\n",
      "32/32 [==============================] - 20s 621ms/step - loss: 0.3063 - accuracy: 0.9030 - categorical_crossentropy: 0.3063\n",
      "Epoch 106/250\n",
      "32/32 [==============================] - 21s 629ms/step - loss: 0.3183 - accuracy: 0.9006 - categorical_crossentropy: 0.3183\n",
      "Epoch 107/250\n",
      "32/32 [==============================] - 20s 622ms/step - loss: 0.3162 - accuracy: 0.8979 - categorical_crossentropy: 0.3162\n",
      "Epoch 108/250\n",
      "32/32 [==============================] - 20s 612ms/step - loss: 0.2919 - accuracy: 0.9077 - categorical_crossentropy: 0.2919\n",
      "Epoch 109/250\n",
      "32/32 [==============================] - 20s 623ms/step - loss: 0.2716 - accuracy: 0.9116 - categorical_crossentropy: 0.2716\n",
      "Epoch 110/250\n",
      "32/32 [==============================] - 20s 622ms/step - loss: 0.2821 - accuracy: 0.9096 - categorical_crossentropy: 0.2821\n",
      "Epoch 111/250\n",
      "32/32 [==============================] - 21s 642ms/step - loss: 0.2733 - accuracy: 0.9085 - categorical_crossentropy: 0.2733\n",
      "Epoch 112/250\n",
      "32/32 [==============================] - 20s 621ms/step - loss: 0.2832 - accuracy: 0.9112 - categorical_crossentropy: 0.2832\n",
      "Epoch 113/250\n",
      "32/32 [==============================] - 21s 635ms/step - loss: 0.3277 - accuracy: 0.8967 - categorical_crossentropy: 0.3277\n",
      "Epoch 114/250\n",
      "32/32 [==============================] - 20s 622ms/step - loss: 0.4715 - accuracy: 0.8587 - categorical_crossentropy: 0.4715\n",
      "Epoch 115/250\n",
      "32/32 [==============================] - 21s 628ms/step - loss: 0.5668 - accuracy: 0.8318 - categorical_crossentropy: 0.5668\n",
      "Epoch 116/250\n",
      "32/32 [==============================] - 20s 618ms/step - loss: 0.4632 - accuracy: 0.8557 - categorical_crossentropy: 0.4632\n",
      "Epoch 117/250\n",
      "32/32 [==============================] - 20s 618ms/step - loss: 0.4864 - accuracy: 0.8499 - categorical_crossentropy: 0.4864\n",
      "Epoch 118/250\n",
      "32/32 [==============================] - 20s 624ms/step - loss: 0.6691 - accuracy: 0.7992 - categorical_crossentropy: 0.6691\n",
      "Epoch 119/250\n",
      "32/32 [==============================] - 20s 618ms/step - loss: 0.4293 - accuracy: 0.8694 - categorical_crossentropy: 0.4293\n",
      "Epoch 120/250\n",
      "32/32 [==============================] - 20s 613ms/step - loss: 0.3758 - accuracy: 0.8834 - categorical_crossentropy: 0.3758\n",
      "Epoch 121/250\n",
      "32/32 [==============================] - 20s 615ms/step - loss: 0.3948 - accuracy: 0.8788 - categorical_crossentropy: 0.3948\n",
      "Epoch 122/250\n",
      "32/32 [==============================] - 20s 615ms/step - loss: 0.3345 - accuracy: 0.8953 - categorical_crossentropy: 0.3345\n",
      "Epoch 123/250\n",
      "32/32 [==============================] - 20s 621ms/step - loss: 0.3644 - accuracy: 0.8858 - categorical_crossentropy: 0.3644\n",
      "Epoch 124/250\n",
      "32/32 [==============================] - 20s 610ms/step - loss: 0.3625 - accuracy: 0.8858 - categorical_crossentropy: 0.3625\n",
      "Epoch 125/250\n",
      "32/32 [==============================] - 20s 608ms/step - loss: 0.3616 - accuracy: 0.8862 - categorical_crossentropy: 0.3616\n",
      "Epoch 126/250\n",
      "32/32 [==============================] - 20s 605ms/step - loss: 0.2993 - accuracy: 0.9049 - categorical_crossentropy: 0.2993\n",
      "Epoch 127/250\n",
      "32/32 [==============================] - 20s 616ms/step - loss: 0.3505 - accuracy: 0.8894 - categorical_crossentropy: 0.3505\n",
      "Epoch 128/250\n",
      "32/32 [==============================] - 20s 611ms/step - loss: 0.3080 - accuracy: 0.9054 - categorical_crossentropy: 0.3080\n",
      "Epoch 129/250\n",
      "32/32 [==============================] - 20s 605ms/step - loss: 0.2474 - accuracy: 0.9208 - categorical_crossentropy: 0.2474\n",
      "Epoch 130/250\n",
      "32/32 [==============================] - 20s 605ms/step - loss: 0.2771 - accuracy: 0.9151 - categorical_crossentropy: 0.2771\n",
      "Epoch 131/250\n",
      "32/32 [==============================] - 20s 621ms/step - loss: 0.2859 - accuracy: 0.9078 - categorical_crossentropy: 0.2859\n",
      "Epoch 132/250\n",
      "32/32 [==============================] - 20s 605ms/step - loss: 0.2240 - accuracy: 0.9292 - categorical_crossentropy: 0.2240\n",
      "Epoch 133/250\n",
      "32/32 [==============================] - 20s 607ms/step - loss: 0.2368 - accuracy: 0.9237 - categorical_crossentropy: 0.2368\n",
      "Epoch 134/250\n",
      "32/32 [==============================] - 20s 604ms/step - loss: 0.2546 - accuracy: 0.9200 - categorical_crossentropy: 0.2546\n",
      "Epoch 135/250\n",
      "32/32 [==============================] - 20s 616ms/step - loss: 0.2543 - accuracy: 0.9227 - categorical_crossentropy: 0.2543\n",
      "Epoch 136/250\n",
      "32/32 [==============================] - 20s 604ms/step - loss: 0.2225 - accuracy: 0.9296 - categorical_crossentropy: 0.2225\n",
      "Epoch 137/250\n",
      "32/32 [==============================] - 20s 610ms/step - loss: 0.2442 - accuracy: 0.9251 - categorical_crossentropy: 0.2442\n",
      "Epoch 138/250\n",
      "32/32 [==============================] - 20s 609ms/step - loss: 0.2924 - accuracy: 0.9082 - categorical_crossentropy: 0.2924\n",
      "Epoch 139/250\n",
      "32/32 [==============================] - 20s 608ms/step - loss: 0.2255 - accuracy: 0.9290 - categorical_crossentropy: 0.2255\n",
      "Epoch 140/250\n",
      "32/32 [==============================] - 20s 605ms/step - loss: 0.2069 - accuracy: 0.9343 - categorical_crossentropy: 0.2069\n",
      "Epoch 141/250\n",
      "32/32 [==============================] - 20s 619ms/step - loss: 0.2129 - accuracy: 0.9337 - categorical_crossentropy: 0.2129\n",
      "Epoch 142/250\n",
      "32/32 [==============================] - 21s 628ms/step - loss: 0.2024 - accuracy: 0.9339 - categorical_crossentropy: 0.2024\n",
      "Epoch 143/250\n",
      "32/32 [==============================] - 21s 635ms/step - loss: 0.2064 - accuracy: 0.9346 - categorical_crossentropy: 0.2064\n",
      "Epoch 144/250\n",
      "32/32 [==============================] - 20s 612ms/step - loss: 0.3394 - accuracy: 0.9084 - categorical_crossentropy: 0.3394\n",
      "Epoch 145/250\n",
      "32/32 [==============================] - 20s 615ms/step - loss: 1.2234 - accuracy: 0.6557 - categorical_crossentropy: 1.2234\n",
      "Epoch 146/250\n",
      "32/32 [==============================] - 20s 617ms/step - loss: 0.6225 - accuracy: 0.8145 - categorical_crossentropy: 0.6225\n",
      "Epoch 147/250\n",
      "32/32 [==============================] - 20s 622ms/step - loss: 0.4444 - accuracy: 0.8557 - categorical_crossentropy: 0.4444\n",
      "Epoch 148/250\n",
      "32/32 [==============================] - 20s 617ms/step - loss: 0.3811 - accuracy: 0.8794 - categorical_crossentropy: 0.3811\n",
      "Epoch 149/250\n",
      "32/32 [==============================] - 21s 629ms/step - loss: 0.3285 - accuracy: 0.8973 - categorical_crossentropy: 0.3285\n",
      "Epoch 150/250\n",
      "32/32 [==============================] - 20s 622ms/step - loss: 0.2795 - accuracy: 0.9117 - categorical_crossentropy: 0.2795\n",
      "Epoch 151/250\n",
      "32/32 [==============================] - 21s 627ms/step - loss: 0.2688 - accuracy: 0.9111 - categorical_crossentropy: 0.2688\n",
      "Epoch 152/250\n",
      "32/32 [==============================] - 20s 623ms/step - loss: 0.2641 - accuracy: 0.9121 - categorical_crossentropy: 0.2641\n",
      "Epoch 153/250\n",
      "32/32 [==============================] - 20s 622ms/step - loss: 0.2745 - accuracy: 0.9090 - categorical_crossentropy: 0.2745\n",
      "Epoch 154/250\n",
      "32/32 [==============================] - 21s 630ms/step - loss: 0.2578 - accuracy: 0.9171 - categorical_crossentropy: 0.2578\n",
      "Epoch 155/250\n",
      "32/32 [==============================] - 21s 630ms/step - loss: 0.2865 - accuracy: 0.9087 - categorical_crossentropy: 0.2865\n",
      "Epoch 156/250\n",
      "32/32 [==============================] - 20s 621ms/step - loss: 0.2700 - accuracy: 0.9105 - categorical_crossentropy: 0.2700\n",
      "Epoch 157/250\n",
      "32/32 [==============================] - 21s 626ms/step - loss: 0.2330 - accuracy: 0.9243 - categorical_crossentropy: 0.2330\n",
      "Epoch 158/250\n",
      "32/32 [==============================] - 20s 620ms/step - loss: 0.2219 - accuracy: 0.9290 - categorical_crossentropy: 0.2219\n",
      "Epoch 159/250\n",
      "32/32 [==============================] - 20s 625ms/step - loss: 0.2404 - accuracy: 0.9218 - categorical_crossentropy: 0.2404\n",
      "Epoch 160/250\n",
      "32/32 [==============================] - 20s 618ms/step - loss: 0.1930 - accuracy: 0.9365 - categorical_crossentropy: 0.1930\n",
      "Epoch 161/250\n",
      "32/32 [==============================] - 20s 616ms/step - loss: 0.2081 - accuracy: 0.9334 - categorical_crossentropy: 0.2081\n",
      "Epoch 162/250\n",
      "32/32 [==============================] - 20s 623ms/step - loss: 0.2162 - accuracy: 0.9314 - categorical_crossentropy: 0.2162\n",
      "Epoch 163/250\n",
      "32/32 [==============================] - 20s 624ms/step - loss: 0.1974 - accuracy: 0.9369 - categorical_crossentropy: 0.1974\n",
      "Epoch 164/250\n",
      "32/32 [==============================] - 20s 614ms/step - loss: 0.2063 - accuracy: 0.9326 - categorical_crossentropy: 0.2063\n",
      "Epoch 165/250\n",
      "32/32 [==============================] - 20s 620ms/step - loss: 0.2113 - accuracy: 0.9320 - categorical_crossentropy: 0.2113\n",
      "Epoch 166/250\n",
      "32/32 [==============================] - 20s 617ms/step - loss: 0.1893 - accuracy: 0.9403 - categorical_crossentropy: 0.1893\n",
      "Epoch 167/250\n",
      "32/32 [==============================] - 21s 637ms/step - loss: 0.2016 - accuracy: 0.9374 - categorical_crossentropy: 0.2016\n",
      "Epoch 168/250\n",
      "32/32 [==============================] - 20s 615ms/step - loss: 0.1982 - accuracy: 0.9361 - categorical_crossentropy: 0.1982\n",
      "Epoch 169/250\n",
      "32/32 [==============================] - 20s 614ms/step - loss: 0.2484 - accuracy: 0.9227 - categorical_crossentropy: 0.2484\n",
      "Epoch 170/250\n",
      "32/32 [==============================] - 20s 619ms/step - loss: 0.2217 - accuracy: 0.9282 - categorical_crossentropy: 0.2217\n",
      "Epoch 171/250\n",
      "32/32 [==============================] - 20s 625ms/step - loss: 0.2052 - accuracy: 0.9365 - categorical_crossentropy: 0.2052\n",
      "Epoch 172/250\n",
      "32/32 [==============================] - 20s 624ms/step - loss: 0.1762 - accuracy: 0.9394 - categorical_crossentropy: 0.1762\n",
      "Epoch 173/250\n",
      "32/32 [==============================] - 20s 614ms/step - loss: 0.1939 - accuracy: 0.9353 - categorical_crossentropy: 0.1939\n",
      "Epoch 174/250\n",
      "32/32 [==============================] - 20s 616ms/step - loss: 0.1667 - accuracy: 0.9472 - categorical_crossentropy: 0.1667\n",
      "Epoch 175/250\n",
      "32/32 [==============================] - 20s 622ms/step - loss: 0.1788 - accuracy: 0.9442 - categorical_crossentropy: 0.1788\n",
      "Epoch 176/250\n",
      "32/32 [==============================] - 20s 615ms/step - loss: 0.1591 - accuracy: 0.9456 - categorical_crossentropy: 0.1591\n",
      "Epoch 177/250\n",
      "32/32 [==============================] - 20s 614ms/step - loss: 0.1694 - accuracy: 0.9462 - categorical_crossentropy: 0.1694\n",
      "Epoch 178/250\n",
      "32/32 [==============================] - 20s 615ms/step - loss: 0.1592 - accuracy: 0.9493 - categorical_crossentropy: 0.1592\n",
      "Epoch 179/250\n",
      "32/32 [==============================] - 21s 628ms/step - loss: 0.1650 - accuracy: 0.9436 - categorical_crossentropy: 0.1650\n",
      "Epoch 180/250\n",
      "32/32 [==============================] - 20s 613ms/step - loss: 0.1663 - accuracy: 0.9477 - categorical_crossentropy: 0.1663\n",
      "Epoch 181/250\n",
      "32/32 [==============================] - 20s 617ms/step - loss: 0.1695 - accuracy: 0.9460 - categorical_crossentropy: 0.1695\n",
      "Epoch 182/250\n",
      "32/32 [==============================] - 20s 619ms/step - loss: 0.1539 - accuracy: 0.9488 - categorical_crossentropy: 0.1539\n",
      "Epoch 183/250\n",
      "32/32 [==============================] - 20s 618ms/step - loss: 0.1543 - accuracy: 0.9458 - categorical_crossentropy: 0.1543\n",
      "Epoch 184/250\n",
      "32/32 [==============================] - 20s 612ms/step - loss: 0.1515 - accuracy: 0.9506 - categorical_crossentropy: 0.1515\n",
      "Epoch 185/250\n",
      "32/32 [==============================] - 20s 623ms/step - loss: 0.1671 - accuracy: 0.9457 - categorical_crossentropy: 0.1671\n",
      "Epoch 186/250\n",
      "32/32 [==============================] - 20s 620ms/step - loss: 0.1679 - accuracy: 0.9480 - categorical_crossentropy: 0.1679\n",
      "Epoch 187/250\n",
      "32/32 [==============================] - 20s 621ms/step - loss: 0.1584 - accuracy: 0.9494 - categorical_crossentropy: 0.1584\n",
      "Epoch 188/250\n",
      "32/32 [==============================] - 20s 611ms/step - loss: 0.1421 - accuracy: 0.9518 - categorical_crossentropy: 0.1421\n",
      "Epoch 189/250\n",
      "32/32 [==============================] - 20s 616ms/step - loss: 0.1545 - accuracy: 0.9501 - categorical_crossentropy: 0.1545\n",
      "Epoch 190/250\n",
      "32/32 [==============================] - 20s 616ms/step - loss: 0.1588 - accuracy: 0.9482 - categorical_crossentropy: 0.1588\n",
      "Epoch 191/250\n",
      "32/32 [==============================] - 20s 623ms/step - loss: 0.1522 - accuracy: 0.9502 - categorical_crossentropy: 0.1522\n",
      "Epoch 192/250\n",
      "32/32 [==============================] - 20s 616ms/step - loss: 0.1280 - accuracy: 0.9588 - categorical_crossentropy: 0.1280\n",
      "Epoch 193/250\n",
      "32/32 [==============================] - 20s 612ms/step - loss: 0.1384 - accuracy: 0.9562 - categorical_crossentropy: 0.1384\n",
      "Epoch 194/250\n",
      "32/32 [==============================] - 20s 613ms/step - loss: 0.1328 - accuracy: 0.9566 - categorical_crossentropy: 0.1328\n",
      "Epoch 195/250\n",
      "32/32 [==============================] - 20s 621ms/step - loss: 0.1584 - accuracy: 0.9491 - categorical_crossentropy: 0.1584\n",
      "Epoch 196/250\n",
      "32/32 [==============================] - 20s 611ms/step - loss: 0.1625 - accuracy: 0.9462 - categorical_crossentropy: 0.1625\n",
      "Epoch 197/250\n",
      "32/32 [==============================] - 20s 613ms/step - loss: 0.1284 - accuracy: 0.9561 - categorical_crossentropy: 0.1284\n",
      "Epoch 198/250\n",
      "32/32 [==============================] - 20s 616ms/step - loss: 0.1467 - accuracy: 0.9559 - categorical_crossentropy: 0.1467\n",
      "Epoch 199/250\n",
      "32/32 [==============================] - 21s 626ms/step - loss: 0.1519 - accuracy: 0.9511 - categorical_crossentropy: 0.1519\n",
      "Epoch 200/250\n",
      "32/32 [==============================] - 20s 614ms/step - loss: 0.1375 - accuracy: 0.9568 - categorical_crossentropy: 0.1375\n",
      "Epoch 201/250\n",
      "32/32 [==============================] - 20s 616ms/step - loss: 0.1422 - accuracy: 0.9531 - categorical_crossentropy: 0.1422\n",
      "Epoch 202/250\n",
      "32/32 [==============================] - 20s 618ms/step - loss: 0.1213 - accuracy: 0.9589 - categorical_crossentropy: 0.1213\n",
      "Epoch 203/250\n",
      "32/32 [==============================] - 21s 626ms/step - loss: 0.1341 - accuracy: 0.9576 - categorical_crossentropy: 0.1341\n",
      "Epoch 204/250\n",
      "32/32 [==============================] - 20s 613ms/step - loss: 0.1216 - accuracy: 0.9590 - categorical_crossentropy: 0.1216\n",
      "Epoch 205/250\n",
      "32/32 [==============================] - 20s 614ms/step - loss: 0.1392 - accuracy: 0.9561 - categorical_crossentropy: 0.1392\n",
      "Epoch 206/250\n",
      "32/32 [==============================] - 20s 614ms/step - loss: 0.1313 - accuracy: 0.9571 - categorical_crossentropy: 0.1313\n",
      "Epoch 207/250\n",
      "32/32 [==============================] - 21s 626ms/step - loss: 0.1411 - accuracy: 0.9529 - categorical_crossentropy: 0.1411\n",
      "Epoch 208/250\n",
      "32/32 [==============================] - 20s 614ms/step - loss: 0.1364 - accuracy: 0.9533 - categorical_crossentropy: 0.1364\n",
      "Epoch 209/250\n",
      "32/32 [==============================] - 20s 610ms/step - loss: 0.1635 - accuracy: 0.9497 - categorical_crossentropy: 0.1635\n",
      "Epoch 210/250\n",
      "32/32 [==============================] - 20s 614ms/step - loss: 0.1535 - accuracy: 0.9539 - categorical_crossentropy: 0.1535\n",
      "Epoch 211/250\n",
      "32/32 [==============================] - 20s 627ms/step - loss: 0.1641 - accuracy: 0.9489 - categorical_crossentropy: 0.1641\n",
      "Epoch 212/250\n",
      "32/32 [==============================] - 20s 614ms/step - loss: 0.1498 - accuracy: 0.9520 - categorical_crossentropy: 0.1498\n",
      "Epoch 213/250\n",
      "32/32 [==============================] - 20s 616ms/step - loss: 0.1368 - accuracy: 0.9548 - categorical_crossentropy: 0.1368\n",
      "Epoch 214/250\n",
      "32/32 [==============================] - 20s 618ms/step - loss: 0.1418 - accuracy: 0.9535 - categorical_crossentropy: 0.1418\n",
      "Epoch 215/250\n",
      "32/32 [==============================] - 20s 615ms/step - loss: 0.1457 - accuracy: 0.9553 - categorical_crossentropy: 0.1457\n",
      "Epoch 216/250\n",
      "32/32 [==============================] - 20s 605ms/step - loss: 0.4031 - accuracy: 0.8810 - categorical_crossentropy: 0.4031\n",
      "Epoch 217/250\n",
      "32/32 [==============================] - 20s 610ms/step - loss: 0.2757 - accuracy: 0.9143 - categorical_crossentropy: 0.2757\n",
      "Epoch 218/250\n",
      "32/32 [==============================] - 20s 604ms/step - loss: 0.1878 - accuracy: 0.9391 - categorical_crossentropy: 0.1878\n",
      "Epoch 219/250\n",
      "32/32 [==============================] - 20s 620ms/step - loss: 0.1805 - accuracy: 0.9422 - categorical_crossentropy: 0.1805\n",
      "Epoch 220/250\n",
      "32/32 [==============================] - 20s 603ms/step - loss: 0.1517 - accuracy: 0.9518 - categorical_crossentropy: 0.1517\n",
      "Epoch 221/250\n",
      "32/32 [==============================] - 20s 616ms/step - loss: 0.1483 - accuracy: 0.9497 - categorical_crossentropy: 0.1483\n",
      "Epoch 222/250\n",
      "32/32 [==============================] - 20s 614ms/step - loss: 0.1419 - accuracy: 0.9549 - categorical_crossentropy: 0.1419\n",
      "Epoch 223/250\n",
      "32/32 [==============================] - 20s 623ms/step - loss: 0.1372 - accuracy: 0.9557 - categorical_crossentropy: 0.1372\n",
      "Epoch 224/250\n",
      "32/32 [==============================] - 20s 611ms/step - loss: 0.1269 - accuracy: 0.9611 - categorical_crossentropy: 0.1269\n",
      "Epoch 225/250\n",
      "32/32 [==============================] - 20s 610ms/step - loss: 0.1561 - accuracy: 0.9502 - categorical_crossentropy: 0.1561\n",
      "Epoch 226/250\n",
      "32/32 [==============================] - 20s 622ms/step - loss: 0.1440 - accuracy: 0.9523 - categorical_crossentropy: 0.1440\n",
      "Epoch 227/250\n",
      "32/32 [==============================] - 20s 621ms/step - loss: 0.1469 - accuracy: 0.9542 - categorical_crossentropy: 0.1469\n",
      "Epoch 228/250\n",
      "32/32 [==============================] - 20s 613ms/step - loss: 0.1410 - accuracy: 0.9550 - categorical_crossentropy: 0.1410\n",
      "Epoch 229/250\n",
      "32/32 [==============================] - 20s 617ms/step - loss: 0.1389 - accuracy: 0.9550 - categorical_crossentropy: 0.1389\n",
      "Epoch 230/250\n",
      "32/32 [==============================] - 20s 613ms/step - loss: 0.1176 - accuracy: 0.9611 - categorical_crossentropy: 0.1176\n",
      "Epoch 231/250\n",
      "32/32 [==============================] - 20s 621ms/step - loss: 0.1388 - accuracy: 0.9576 - categorical_crossentropy: 0.1388\n",
      "Epoch 232/250\n",
      "32/32 [==============================] - 20s 611ms/step - loss: 0.1232 - accuracy: 0.9604 - categorical_crossentropy: 0.1232\n",
      "Epoch 233/250\n",
      "32/32 [==============================] - 20s 617ms/step - loss: 0.1246 - accuracy: 0.9579 - categorical_crossentropy: 0.1246\n",
      "Epoch 234/250\n",
      "32/32 [==============================] - 20s 612ms/step - loss: 0.1567 - accuracy: 0.9543 - categorical_crossentropy: 0.1567\n",
      "Epoch 235/250\n",
      "32/32 [==============================] - 20s 625ms/step - loss: 0.1175 - accuracy: 0.9627 - categorical_crossentropy: 0.1175\n",
      "Epoch 236/250\n",
      "32/32 [==============================] - 20s 611ms/step - loss: 0.1044 - accuracy: 0.9643 - categorical_crossentropy: 0.1044\n",
      "Epoch 237/250\n",
      "32/32 [==============================] - 20s 612ms/step - loss: 0.1340 - accuracy: 0.9584 - categorical_crossentropy: 0.1340\n",
      "Epoch 238/250\n",
      "32/32 [==============================] - 20s 614ms/step - loss: 0.1372 - accuracy: 0.9527 - categorical_crossentropy: 0.1372\n",
      "Epoch 239/250\n",
      "32/32 [==============================] - 20s 624ms/step - loss: 0.1325 - accuracy: 0.9589 - categorical_crossentropy: 0.1325\n",
      "Epoch 240/250\n",
      "32/32 [==============================] - 20s 612ms/step - loss: 0.1450 - accuracy: 0.9567 - categorical_crossentropy: 0.1450\n",
      "Epoch 241/250\n",
      "32/32 [==============================] - 20s 613ms/step - loss: 0.1273 - accuracy: 0.9586 - categorical_crossentropy: 0.1273\n",
      "Epoch 242/250\n",
      "32/32 [==============================] - 20s 616ms/step - loss: 0.1224 - accuracy: 0.9601 - categorical_crossentropy: 0.1224\n",
      "Epoch 243/250\n",
      "32/32 [==============================] - 21s 629ms/step - loss: 0.1133 - accuracy: 0.9608 - categorical_crossentropy: 0.1133\n",
      "Epoch 244/250\n",
      "32/32 [==============================] - 20s 617ms/step - loss: 0.1334 - accuracy: 0.9594 - categorical_crossentropy: 0.1334\n",
      "Epoch 245/250\n",
      "32/32 [==============================] - 20s 621ms/step - loss: 0.1406 - accuracy: 0.9542 - categorical_crossentropy: 0.1406\n",
      "Epoch 246/250\n",
      "32/32 [==============================] - 20s 621ms/step - loss: 0.1416 - accuracy: 0.9562 - categorical_crossentropy: 0.1416\n",
      "Epoch 247/250\n",
      "32/32 [==============================] - 21s 628ms/step - loss: 0.1242 - accuracy: 0.9630 - categorical_crossentropy: 0.1242\n",
      "Epoch 248/250\n",
      "32/32 [==============================] - 20s 618ms/step - loss: 0.1181 - accuracy: 0.9609 - categorical_crossentropy: 0.1181\n",
      "Epoch 249/250\n",
      "32/32 [==============================] - 20s 618ms/step - loss: 0.1187 - accuracy: 0.9631 - categorical_crossentropy: 0.1187\n",
      "Epoch 250/250\n",
      "32/32 [==============================] - 20s 624ms/step - loss: 0.0983 - accuracy: 0.9665 - categorical_crossentropy: 0.0983\n"
     ]
    },
    {
     "data": {
      "text/plain": [
       "<keras.callbacks.History at 0x1a611410940>"
      ]
     },
     "execution_count": 22,
     "metadata": {},
     "output_type": "execute_result"
    }
   ],
   "source": [
    "model.compile(optimizer=optimizer, loss=loss_func, metrics=[\"accuracy\", \"categorical_crossentropy\"])\n",
    "model.fit(train_datagen.flow(x_training_np, y_training_np, batch_size=batch_size), epochs=epochs, shuffle=True)"
   ]
  },
  {
   "cell_type": "code",
   "execution_count": 23,
   "metadata": {},
   "outputs": [
    {
     "name": "stderr",
     "output_type": "stream",
     "text": [
      "WARNING:absl:Found untraced functions such as _jit_compiled_convolution_op, _jit_compiled_convolution_op, _jit_compiled_convolution_op, _jit_compiled_convolution_op, _jit_compiled_convolution_op while saving (showing 5 of 81). These functions will not be directly callable after loading.\n"
     ]
    },
    {
     "name": "stdout",
     "output_type": "stream",
     "text": [
      "INFO:tensorflow:Assets written to: models\\efficientnet_b0\\model_final_101_recycling_fp32\\assets\n"
     ]
    },
    {
     "name": "stderr",
     "output_type": "stream",
     "text": [
      "INFO:tensorflow:Assets written to: models\\efficientnet_b0\\model_final_101_recycling_fp32\\assets\n"
     ]
    }
   ],
   "source": [
    "tf.keras.models.save_model(model, os.path.join(model_dir, model_name, \"model_final_101_recycling_fp32\"))"
   ]
  },
  {
   "cell_type": "markdown",
   "metadata": {},
   "source": [
    "Testing"
   ]
  },
  {
   "cell_type": "code",
   "execution_count": 24,
   "metadata": {},
   "outputs": [
    {
     "name": "stdout",
     "output_type": "stream",
     "text": [
      "32/32 [==============================] - 5s 105ms/step - loss: 0.1109 - accuracy: 0.9681 - categorical_crossentropy: 0.1109\n"
     ]
    },
    {
     "data": {
      "text/plain": [
       "[0.11094701290130615, 0.9680889844894409, 0.11094701290130615]"
      ]
     },
     "execution_count": 24,
     "metadata": {},
     "output_type": "execute_result"
    }
   ],
   "source": [
    "model.evaluate(x_training_np, y_training_np, batch_size=batch_size)"
   ]
  },
  {
   "cell_type": "markdown",
   "metadata": {},
   "source": [
    "Visual Testing"
   ]
  },
  {
   "cell_type": "code",
   "execution_count": 45,
   "metadata": {},
   "outputs": [
    {
     "data": {
      "image/png": "[encoded data removed]",
      "text/plain": [
       "<Figure size 432x288 with 1 Axes>"
      ]
     },
     "metadata": {
      "needs_background": "light"
     },
     "output_type": "display_data"
    },
    {
     "name": "stdout",
     "output_type": "stream",
     "text": [
      "creamers\n"
     ]
    }
   ],
   "source": [
    "test_index = 6692\n",
    "plt.imshow(x_training_np[test_index])\n",
    "plt.show()\n",
    "pred_index = tf.math.argmax(tf.squeeze(model(tf.expand_dims(x_training_np[test_index], axis=0), training=False), axis=0))\n",
    "prediction = labels_list[pred_index-1]\n",
    "print(prediction)"
   ]
  },
  {
   "cell_type": "code",
   "execution_count": 32,
   "metadata": {},
   "outputs": [
    {
     "name": "stdout",
     "output_type": "stream",
     "text": [
      "['plasticBag', 'dirtyBag', 'helmet', 'plasticCup', 'paperCup', 'styroCup', 'paperBento', 'receipt', 'chipBag', 'rubberBand', 'chipCan', 'pizzaBox', 'rainCoat', 'porcelain', 'portablePaperBag', 'comb', 'soapDispenser', 'mask', 'trashBag', 'rawKitchenWaste', 'cookedFoodWaste', 'plasticSpoon', 'eggCarton', 'pen', 'plushToy', 'facialCleanser', 'productPackaging', 'onionBag', 'chargingCable', 'pottedPlants', 'yakult', 'advertisingFlyer', 'transparentContainer', 'wood', 'lunchTray', 'creamers', 'cigaretteCase', 'yogaMat', 'toiletBrush', 'paperDiapers', 'fruitNet', 'milkCarton', 'disposableChopsticks', 'waterFilter', 'headphones', 'phoneCase', 'yogurtCup', 'mirror', 'bubbleWrap', 'litter', 'lipstick', 'shreddedPaper', 'shoe', 'foamPeanuts', 'coatHanger', 'pencil', 'newspaper', 'hotCoffeeCup', 'boosterPack', 'spoutBag', 'snackPaperBag', 'aluminumFoil', 'quiltPillow', 'plasticStraw', 'wasteMedicine', 'instantNoodleBowl', 'glassBottle', 'whiteout', 'toy', 'staple', 'capsuleCoffee', 'coffeePod', 'cottonSwab', 'lighter', 'shatteredGlass', 'toiletPaperPackaging', 'milkPowderCan', 'contactLenses', 'cardboardBox', 'CD', 'juiceBox', 'mop', 'nonWovenBag', 'travelLuggage', 'toothpaste', 'creditCard', 'marker', 'mouse', 'flipFlops', 'umbrella', 'dentalFloss', 'aluminumCan', 'plasticWrap', 'paintBucket', 'plasticFoodTray', 'bottle', 'billingEnvelope', 'toothbrush', 'skincareBottle', 'highPressureBottle', 'giftBox', 'clothing', 'ecoBag']\n"
     ]
    }
   ],
   "source": [
    "print(labels_list)"
   ]
  }
 ],
 "metadata": {
  "interpreter": {
   "hash": "c5b6d09c6aa7fff57d7a8369c5cfbd30b60cd54efea322b6d32834da73899050"
  },
  "kernelspec": {
   "display_name": "Python 3.8.3 ('venv': venv)",
   "language": "python",
   "name": "python3"
  },
  "language_info": {
   "codemirror_mode": {
    "name": "ipython",
    "version": 3
   },
   "file_extension": ".py",
   "mimetype": "text/x-python",
   "name": "python",
   "nbconvert_exporter": "python",
   "pygments_lexer": "ipython3",
   "version": "3.8.3"
  },
  "orig_nbformat": 4
 },
 "nbformat": 4,
 "nbformat_minor": 2
}
