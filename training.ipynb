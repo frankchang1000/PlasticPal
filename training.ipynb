{
 "cells": [
  {
   "cell_type": "markdown",
   "metadata": {},
   "source": [
    "Import Requirements"
   ]
  },
  {
   "cell_type": "code",
   "execution_count": 1,
   "metadata": {},
   "outputs": [],
   "source": [
    "import os\n",
    "import random\n",
    "\n",
    "import cv2\n",
    "import numpy as np\n",
    "import tensorflow as tf\n",
    "import albumentations as A\n",
    "import matplotlib.pyplot as plt"
   ]
  },
  {
   "cell_type": "markdown",
   "metadata": {},
   "source": [
    "Set the Hyperparameters"
   ]
  },
  {
   "cell_type": "code",
   "execution_count": 2,
   "metadata": {},
   "outputs": [],
   "source": [
    "model_name = \"efficientnet_b0\"\n",
    "weights = None #\"imagenet\"\n",
    "input_dims = (128, 128, 3)\n",
    "num_classes = 101\n",
    "epochs = 250\n",
    "batch_size = 256\n",
    "shuffle_size = 16\n",
    "learning_rate = 0.01\n",
    "precision = \"mixed_float16\" #\"float32\"\n",
    "model_dir = \"models\"\n",
    "testing_set = 0.15"
   ]
  },
  {
   "cell_type": "code",
   "execution_count": 3,
   "metadata": {},
   "outputs": [
    {
     "name": "stdout",
     "output_type": "stream",
     "text": [
      "INFO:tensorflow:Mixed precision compatibility check (mixed_float16): OK\n",
      "Your GPU will likely run quickly with dtype policy mixed_float16 as it has compute capability of at least 7.0. Your GPU: NVIDIA GeForce RTX 3060, compute capability 8.6\n"
     ]
    }
   ],
   "source": [
    "policy = tf.keras.mixed_precision.Policy(precision)\n",
    "tf.keras.mixed_precision.set_global_policy(policy)"
   ]
  },
  {
   "cell_type": "markdown",
   "metadata": {},
   "source": [
    "Create the EfficientNet Model"
   ]
  },
  {
   "cell_type": "code",
   "execution_count": 4,
   "metadata": {},
   "outputs": [],
   "source": [
    "dropout = 0.2\n",
    "DENSE_KERNEL_INITIALIZER = {\n",
    "    'class_name': 'VarianceScaling',\n",
    "    'config': {\n",
    "        'scale': 1. / 3.,\n",
    "        'mode': 'fan_out',\n",
    "        'distribution': 'uniform'\n",
    "    }\n",
    "}"
   ]
  },
  {
   "cell_type": "code",
   "execution_count": 5,
   "metadata": {},
   "outputs": [],
   "source": [
    "models = {\n",
    "    'efficientnet_b0': tf.keras.applications.EfficientNetB0,\n",
    "    'efficientnet_b1': tf.keras.applications.EfficientNetB1,\n",
    "    'efficientnet_b2': tf.keras.applications.EfficientNetB2,\n",
    "    'efficientnet_b3': tf.keras.applications.EfficientNetB3,\n",
    "    'efficientnet_b4': tf.keras.applications.EfficientNetB4,\n",
    "    'efficientnet_b5': tf.keras.applications.EfficientNetB5,\n",
    "    'efficientnet_b6': tf.keras.applications.EfficientNetB6,\n",
    "    'efficientnet_b7': tf.keras.applications.EfficientNetB7\n",
    "}\n",
    "inputs = tf.keras.Input(shape=input_dims)\n",
    "backbone = models[model_name](include_top=False,\n",
    "                              weights=weights,\n",
    "                              input_shape=input_dims,\n",
    "                              classes=num_classes)(inputs)\n",
    "backbone.trainable = True\n",
    "# Output Arch\n",
    "x = tf.keras.layers.GlobalAveragePooling2D(name='avg_pool')(backbone)\n",
    "x = tf.keras.layers.Dropout(dropout, name='top_dropout')(x)\n",
    "output = tf.keras.layers.Dense(\n",
    "    num_classes,\n",
    "    activation=\"softmax\",\n",
    "    kernel_initializer=DENSE_KERNEL_INITIALIZER,\n",
    "    name=\"predictions\",\n",
    "    dtype=\"float32\")(x)\n",
    "model = tf.keras.Model(inputs=inputs, outputs=output, name=model_name)"
   ]
  },
  {
   "cell_type": "code",
   "execution_count": 6,
   "metadata": {},
   "outputs": [
    {
     "name": "stdout",
     "output_type": "stream",
     "text": [
      "Model: \"efficientnet_b0\"\n",
      "_________________________________________________________________\n",
      " Layer (type)                Output Shape              Param #   \n",
      "=================================================================\n",
      " input_1 (InputLayer)        [(None, 128, 128, 3)]     0         \n",
      "                                                                 \n",
      " efficientnetb0 (Functional)  (None, 4, 4, 1280)       4049571   \n",
      "                                                                 \n",
      " avg_pool (GlobalAveragePool  (None, 1280)             0         \n",
      " ing2D)                                                          \n",
      "                                                                 \n",
      " top_dropout (Dropout)       (None, 1280)              0         \n",
      "                                                                 \n",
      " predictions (Dense)         (None, 101)               129381    \n",
      "                                                                 \n",
      "=================================================================\n",
      "Total params: 4,178,952\n",
      "Trainable params: 4,136,929\n",
      "Non-trainable params: 42,023\n",
      "_________________________________________________________________\n"
     ]
    }
   ],
   "source": [
    "model.summary()"
   ]
  },
  {
   "cell_type": "markdown",
   "metadata": {},
   "source": [
    "Import training data (CIFAR-10)"
   ]
  },
  {
   "cell_type": "code",
   "execution_count": 7,
   "metadata": {},
   "outputs": [
    {
     "data": {
      "text/plain": [
       "'\\n(x_train, y_train), (x_test, y_test) = tf.keras.datasets.cifar10.load_data()\\nprint(x_train.shape)\\nprint(y_train.shape)\\n'"
      ]
     },
     "execution_count": 7,
     "metadata": {},
     "output_type": "execute_result"
    }
   ],
   "source": [
    "\"\"\"\n",
    "(x_train, y_train), (x_test, y_test) = tf.keras.datasets.cifar10.load_data()\n",
    "print(x_train.shape)\n",
    "print(y_train.shape)\n",
    "\"\"\""
   ]
  },
  {
   "cell_type": "markdown",
   "metadata": {},
   "source": [
    "Import Real Training Data"
   ]
  },
  {
   "cell_type": "code",
   "execution_count": 8,
   "metadata": {},
   "outputs": [],
   "source": [
    "x_train = []\n",
    "y_train = []\n",
    "labels_list = []\n",
    "\n",
    "labels = os.listdir(\"data\")\n",
    "label_cn = 0\n",
    "for label in labels:\n",
    "    images_in_labels = os.listdir(\"data/\" + label)\n",
    "    for image in images_in_labels:\n",
    "        labels_list.append(image)\n",
    "        sub_images = os.path.join(\"data\", label, image)\n",
    "        for _t in os.listdir(sub_images):\n",
    "            try:\n",
    "                if _t.endswith(\".jpg\") or _t.endswith(\".png\") or _t.endswith(\".jpeg\"):\n",
    "                    im = np.array(\n",
    "                            cv2.imread(\n",
    "                                os.path.join(sub_images, _t)))\n",
    "                    if len(im.shape) == 3:\n",
    "                        x_train.append(im)\n",
    "                        y_train.append(int(label))\n",
    "            except:\n",
    "                pass\n",
    "    label_cn += 1"
   ]
  },
  {
   "cell_type": "markdown",
   "metadata": {},
   "source": [
    "Preprocessing"
   ]
  },
  {
   "cell_type": "code",
   "execution_count": 9,
   "metadata": {},
   "outputs": [],
   "source": [
    "def augment_preprocess(image):\n",
    "    image = np.array(image)\n",
    "    image = cv2.cvtColor(image, cv2.COLOR_BGR2RGB)\n",
    "    image = cv2.resize(image, (input_dims[0], input_dims[1]))\n",
    "    return image\n",
    "\n",
    "def one_hot(indicies):\n",
    "    return tf.one_hot(indicies, num_classes)[0]"
   ]
  },
  {
   "cell_type": "code",
   "execution_count": 10,
   "metadata": {},
   "outputs": [],
   "source": [
    "# Load the data into RAM for extremely fast training\n",
    "x_list = [augment_preprocess(image) for image in x_train]\n",
    "y_list = [one_hot([label]) for label in y_train]\n",
    "\n",
    "combined = list(zip(x_list, y_list))\n",
    "random.shuffle(combined)\n",
    "x_list, y_list = zip(*combined)\n",
    "\n",
    "x_list = list(x_list)\n",
    "y_list = list(y_list)"
   ]
  },
  {
   "cell_type": "code",
   "execution_count": 11,
   "metadata": {},
   "outputs": [],
   "source": [
    "test_split = int(len(x_list) * (1-testing_set))\n",
    "\n",
    "x_training = np.array(x_list[:test_split])\n",
    "y_training = np.array(y_list[:test_split])\n",
    "\n",
    "x_testing = np.array(x_list[test_split:len(x_list)])\n",
    "y_testing = np.array(y_list[test_split:len(x_list)])"
   ]
  },
  {
   "cell_type": "code",
   "execution_count": 12,
   "metadata": {},
   "outputs": [
    {
     "name": "stdout",
     "output_type": "stream",
     "text": [
      "10934\n",
      "10934\n"
     ]
    }
   ],
   "source": [
    "print(test_split)\n",
    "print(len(x_training))"
   ]
  },
  {
   "cell_type": "code",
   "execution_count": 13,
   "metadata": {},
   "outputs": [
    {
     "name": "stdout",
     "output_type": "stream",
     "text": [
      "Training image shapes (10934, 128, 128, 3)\n",
      "Training label shapes (10934, 101)\n",
      "Testing image shapes (1930, 128, 128, 3)\n",
      "Training set size 10934\n"
     ]
    }
   ],
   "source": [
    "print(\"Training image shapes \" + str(x_training.shape))\n",
    "print(\"Training label shapes \" + str(y_training.shape))\n",
    "\n",
    "print(\"Testing image shapes \" + str(x_testing.shape))\n",
    "\n",
    "print(\"Training set size \" + str(len(x_training)))"
   ]
  },
  {
   "cell_type": "markdown",
   "metadata": {},
   "source": [
    "Datagenerator"
   ]
  },
  {
   "cell_type": "code",
   "execution_count": 14,
   "metadata": {},
   "outputs": [],
   "source": [
    "from tensorflow.keras.preprocessing.image import ImageDataGenerator"
   ]
  },
  {
   "cell_type": "code",
   "execution_count": 15,
   "metadata": {},
   "outputs": [],
   "source": [
    "train_datagen = ImageDataGenerator(rotation_range=5,  # rotation\n",
    "                                   width_shift_range=0.2,  # horizontal shift\n",
    "                                   zoom_range=0.2,  # zoom\n",
    "                                   horizontal_flip=True,  # horizontal flip\n",
    "                                   brightness_range=[0.3, 1.0])  # brightness"
   ]
  },
  {
   "cell_type": "code",
   "execution_count": 16,
   "metadata": {},
   "outputs": [
    {
     "data": {
      "image/png": "[encoded data removed]",
      "text/plain": [
       "<Figure size 720x720 with 2 Axes>"
      ]
     },
     "metadata": {
      "needs_background": "light"
     },
     "output_type": "display_data"
    }
   ],
   "source": [
    "# View the original and augmented images\n",
    "image = x_training[2229]\n",
    "aug_image = train_datagen.random_transform(image)/255\n",
    "figure = plt.figure(figsize=(10, 10))\n",
    "figure.add_subplot(1, 2, 1)\n",
    "plt.imshow(image)\n",
    "figure.add_subplot(1, 2, 2)\n",
    "plt.imshow(aug_image)\n",
    "plt.show()"
   ]
  },
  {
   "cell_type": "markdown",
   "metadata": {},
   "source": [
    "Training Settings"
   ]
  },
  {
   "cell_type": "code",
   "execution_count": 17,
   "metadata": {},
   "outputs": [],
   "source": [
    "optimizer = tf.keras.optimizers.Adam(learning_rate=learning_rate)\n",
    "loss_func = tf.keras.losses.CategoricalCrossentropy(from_logits=False)"
   ]
  },
  {
   "cell_type": "code",
   "execution_count": 18,
   "metadata": {},
   "outputs": [],
   "source": [
    "tensorboard_cb = tf.keras.callbacks.TensorBoard(\n",
    "    log_dir=os.path.join(model_dir, model_name, \"tensorboard\"),\n",
    "    histogram_freq=0,\n",
    "    write_graph=True,\n",
    "    write_images=False,\n",
    "    write_steps_per_second=False,\n",
    "    update_freq=\"epoch\",\n",
    "    profile_batch=0,\n",
    "    embeddings_freq=0,\n",
    "    embeddings_metadata=None)\n",
    "learning_rate_cb = tf.keras.callbacks.ReduceLROnPlateau(\n",
    "    monitor=\"val_loss\",\n",
    "    factor=0.1,\n",
    "    patience=50,\n",
    "    verbose=0,\n",
    "    mode=\"auto\",\n",
    "    min_delta=0.0001,\n",
    "    cooldown=0,\n",
    "    min_lr=0)"
   ]
  },
  {
   "cell_type": "markdown",
   "metadata": {},
   "source": [
    "Training"
   ]
  },
  {
   "cell_type": "code",
   "execution_count": 19,
   "metadata": {},
   "outputs": [
    {
     "name": "stdout",
     "output_type": "stream",
     "text": [
      "Epoch 1/250\n",
      "43/43 [==============================] - 57s 847ms/step - loss: 4.7171 - accuracy: 0.0509 - categorical_crossentropy: 4.7171 - val_loss: 4.7459 - val_accuracy: 0.0611 - val_categorical_crossentropy: 4.7459 - lr: 0.0100\n",
      "Epoch 2/250\n",
      "43/43 [==============================] - 33s 754ms/step - loss: 4.1514 - accuracy: 0.0772 - categorical_crossentropy: 4.1514 - val_loss: nan - val_accuracy: 0.0606 - val_categorical_crossentropy: nan - lr: 0.0100\n",
      "Epoch 3/250\n",
      "43/43 [==============================] - 33s 763ms/step - loss: 3.9468 - accuracy: 0.0991 - categorical_crossentropy: 3.9468 - val_loss: 5.2000 - val_accuracy: 0.0637 - val_categorical_crossentropy: 5.2000 - lr: 0.0100\n",
      "Epoch 4/250\n",
      "43/43 [==============================] - 33s 755ms/step - loss: 3.7990 - accuracy: 0.1182 - categorical_crossentropy: 3.7990 - val_loss: 4.5380 - val_accuracy: 0.0466 - val_categorical_crossentropy: 4.5380 - lr: 0.0100\n",
      "Epoch 5/250\n",
      "43/43 [==============================] - 34s 780ms/step - loss: 3.6842 - accuracy: 0.1381 - categorical_crossentropy: 3.6842 - val_loss: 4.8407 - val_accuracy: 0.0358 - val_categorical_crossentropy: 4.8407 - lr: 0.0100\n",
      "Epoch 6/250\n",
      "43/43 [==============================] - 33s 752ms/step - loss: 3.5764 - accuracy: 0.1556 - categorical_crossentropy: 3.5764 - val_loss: 5.1029 - val_accuracy: 0.0482 - val_categorical_crossentropy: 5.1029 - lr: 0.0100\n",
      "Epoch 7/250\n",
      "43/43 [==============================] - 33s 763ms/step - loss: 3.5051 - accuracy: 0.1686 - categorical_crossentropy: 3.5051 - val_loss: 4.5286 - val_accuracy: 0.0870 - val_categorical_crossentropy: 4.5286 - lr: 0.0100\n",
      "Epoch 8/250\n",
      "43/43 [==============================] - 33s 769ms/step - loss: 3.4277 - accuracy: 0.1838 - categorical_crossentropy: 3.4277 - val_loss: 5.4195 - val_accuracy: 0.1254 - val_categorical_crossentropy: 5.4195 - lr: 0.0100\n",
      "Epoch 9/250\n",
      "43/43 [==============================] - 33s 753ms/step - loss: 3.3403 - accuracy: 0.1979 - categorical_crossentropy: 3.3403 - val_loss: 4.9710 - val_accuracy: 0.0927 - val_categorical_crossentropy: 4.9710 - lr: 0.0100\n",
      "Epoch 10/250\n",
      "43/43 [==============================] - 33s 766ms/step - loss: 3.2505 - accuracy: 0.2119 - categorical_crossentropy: 3.2505 - val_loss: 4.6314 - val_accuracy: 0.1617 - val_categorical_crossentropy: 4.6314 - lr: 0.0100\n",
      "Epoch 11/250\n",
      "43/43 [==============================] - 34s 769ms/step - loss: 3.1728 - accuracy: 0.2301 - categorical_crossentropy: 3.1728 - val_loss: 4.9514 - val_accuracy: 0.1440 - val_categorical_crossentropy: 4.9514 - lr: 0.0100\n",
      "Epoch 12/250\n",
      "43/43 [==============================] - 33s 760ms/step - loss: 3.0879 - accuracy: 0.2479 - categorical_crossentropy: 3.0879 - val_loss: 4.9965 - val_accuracy: 0.1477 - val_categorical_crossentropy: 4.9965 - lr: 0.0100\n",
      "Epoch 13/250\n",
      "43/43 [==============================] - 35s 793ms/step - loss: 2.9832 - accuracy: 0.2652 - categorical_crossentropy: 2.9832 - val_loss: 5.4130 - val_accuracy: 0.1606 - val_categorical_crossentropy: 5.4130 - lr: 0.0100\n",
      "Epoch 14/250\n",
      "43/43 [==============================] - 33s 756ms/step - loss: 2.9311 - accuracy: 0.2745 - categorical_crossentropy: 2.9311 - val_loss: 4.3407 - val_accuracy: 0.1725 - val_categorical_crossentropy: 4.3407 - lr: 0.0100\n",
      "Epoch 15/250\n",
      "43/43 [==============================] - 33s 758ms/step - loss: 2.8640 - accuracy: 0.2921 - categorical_crossentropy: 2.8640 - val_loss: 5.2658 - val_accuracy: 0.1865 - val_categorical_crossentropy: 5.2658 - lr: 0.0100\n",
      "Epoch 16/250\n",
      "43/43 [==============================] - 33s 765ms/step - loss: 2.9113 - accuracy: 0.2789 - categorical_crossentropy: 2.9113 - val_loss: 7.0789 - val_accuracy: 0.1181 - val_categorical_crossentropy: 7.0789 - lr: 0.0100\n",
      "Epoch 17/250\n",
      "43/43 [==============================] - 33s 761ms/step - loss: 2.7743 - accuracy: 0.3052 - categorical_crossentropy: 2.7743 - val_loss: 5.1696 - val_accuracy: 0.1736 - val_categorical_crossentropy: 5.1696 - lr: 0.0100\n",
      "Epoch 18/250\n",
      "43/43 [==============================] - 33s 763ms/step - loss: 2.6709 - accuracy: 0.3282 - categorical_crossentropy: 2.6709 - val_loss: 3.5974 - val_accuracy: 0.2560 - val_categorical_crossentropy: 3.5974 - lr: 0.0100\n",
      "Epoch 19/250\n",
      "43/43 [==============================] - 33s 764ms/step - loss: 2.5870 - accuracy: 0.3489 - categorical_crossentropy: 2.5870 - val_loss: 3.6756 - val_accuracy: 0.2720 - val_categorical_crossentropy: 3.6756 - lr: 0.0100\n",
      "Epoch 20/250\n",
      "43/43 [==============================] - 33s 753ms/step - loss: 2.5353 - accuracy: 0.3502 - categorical_crossentropy: 2.5353 - val_loss: 3.6916 - val_accuracy: 0.2705 - val_categorical_crossentropy: 3.6916 - lr: 0.0100\n",
      "Epoch 21/250\n",
      "43/43 [==============================] - 33s 766ms/step - loss: 2.4438 - accuracy: 0.3742 - categorical_crossentropy: 2.4438 - val_loss: 3.4062 - val_accuracy: 0.3078 - val_categorical_crossentropy: 3.4062 - lr: 0.0100\n",
      "Epoch 22/250\n",
      "43/43 [==============================] - 33s 767ms/step - loss: 2.3839 - accuracy: 0.3855 - categorical_crossentropy: 2.3839 - val_loss: 4.0566 - val_accuracy: 0.2845 - val_categorical_crossentropy: 4.0566 - lr: 0.0100\n",
      "Epoch 23/250\n",
      "43/43 [==============================] - 33s 757ms/step - loss: 2.3339 - accuracy: 0.4019 - categorical_crossentropy: 2.3339 - val_loss: 4.0252 - val_accuracy: 0.2466 - val_categorical_crossentropy: 4.0252 - lr: 0.0100\n",
      "Epoch 24/250\n",
      "43/43 [==============================] - 33s 761ms/step - loss: 2.2859 - accuracy: 0.4038 - categorical_crossentropy: 2.2859 - val_loss: 3.7178 - val_accuracy: 0.2933 - val_categorical_crossentropy: 3.7178 - lr: 0.0100\n",
      "Epoch 25/250\n",
      "43/43 [==============================] - 33s 756ms/step - loss: 2.2217 - accuracy: 0.4215 - categorical_crossentropy: 2.2217 - val_loss: 4.1986 - val_accuracy: 0.2715 - val_categorical_crossentropy: 4.1986 - lr: 0.0100\n",
      "Epoch 26/250\n",
      "43/43 [==============================] - 34s 774ms/step - loss: 2.1695 - accuracy: 0.4321 - categorical_crossentropy: 2.1695 - val_loss: 3.9050 - val_accuracy: 0.2845 - val_categorical_crossentropy: 3.9050 - lr: 0.0100\n",
      "Epoch 27/250\n",
      "43/43 [==============================] - 33s 766ms/step - loss: 2.3378 - accuracy: 0.3976 - categorical_crossentropy: 2.3378 - val_loss: nan - val_accuracy: 0.0990 - val_categorical_crossentropy: nan - lr: 0.0100\n",
      "Epoch 28/250\n",
      "43/43 [==============================] - 33s 761ms/step - loss: 2.2380 - accuracy: 0.4201 - categorical_crossentropy: 2.2380 - val_loss: nan - val_accuracy: 0.2508 - val_categorical_crossentropy: nan - lr: 0.0100\n",
      "Epoch 29/250\n",
      "43/43 [==============================] - 35s 793ms/step - loss: 2.0993 - accuracy: 0.4483 - categorical_crossentropy: 2.0993 - val_loss: 3.5643 - val_accuracy: 0.2922 - val_categorical_crossentropy: 3.5643 - lr: 0.0100\n",
      "Epoch 30/250\n",
      "43/43 [==============================] - 33s 754ms/step - loss: 2.0997 - accuracy: 0.4515 - categorical_crossentropy: 2.0997 - val_loss: 4.5339 - val_accuracy: 0.2394 - val_categorical_crossentropy: 4.5339 - lr: 0.0100\n",
      "Epoch 31/250\n",
      "43/43 [==============================] - 33s 755ms/step - loss: 2.1116 - accuracy: 0.4424 - categorical_crossentropy: 2.1116 - val_loss: 4.0010 - val_accuracy: 0.2497 - val_categorical_crossentropy: 4.0010 - lr: 0.0100\n",
      "Epoch 32/250\n",
      "43/43 [==============================] - 33s 759ms/step - loss: 2.1250 - accuracy: 0.4470 - categorical_crossentropy: 2.1250 - val_loss: nan - val_accuracy: 0.0332 - val_categorical_crossentropy: nan - lr: 0.0100\n",
      "Epoch 33/250\n",
      "43/43 [==============================] - 33s 757ms/step - loss: 2.1201 - accuracy: 0.4483 - categorical_crossentropy: 2.1201 - val_loss: 3.5933 - val_accuracy: 0.2466 - val_categorical_crossentropy: 3.5933 - lr: 0.0100\n",
      "Epoch 34/250\n",
      "43/43 [==============================] - 34s 769ms/step - loss: 1.9460 - accuracy: 0.4855 - categorical_crossentropy: 1.9460 - val_loss: 3.5287 - val_accuracy: 0.3021 - val_categorical_crossentropy: 3.5287 - lr: 0.0100\n",
      "Epoch 35/250\n",
      "43/43 [==============================] - 33s 765ms/step - loss: 1.9387 - accuracy: 0.4859 - categorical_crossentropy: 1.9387 - val_loss: 3.2101 - val_accuracy: 0.3342 - val_categorical_crossentropy: 3.2101 - lr: 0.0100\n",
      "Epoch 36/250\n",
      "43/43 [==============================] - 33s 750ms/step - loss: 1.8475 - accuracy: 0.5052 - categorical_crossentropy: 1.8475 - val_loss: 3.0309 - val_accuracy: 0.3575 - val_categorical_crossentropy: 3.0309 - lr: 0.0100\n",
      "Epoch 37/250\n",
      "43/43 [==============================] - 34s 777ms/step - loss: 1.7844 - accuracy: 0.5223 - categorical_crossentropy: 1.7844 - val_loss: 3.3361 - val_accuracy: 0.3466 - val_categorical_crossentropy: 3.3361 - lr: 0.0100\n",
      "Epoch 38/250\n",
      "43/43 [==============================] - 33s 753ms/step - loss: 1.7755 - accuracy: 0.5166 - categorical_crossentropy: 1.7755 - val_loss: 2.8325 - val_accuracy: 0.3995 - val_categorical_crossentropy: 2.8325 - lr: 0.0100\n",
      "Epoch 39/250\n",
      "43/43 [==============================] - 33s 764ms/step - loss: 1.7030 - accuracy: 0.5401 - categorical_crossentropy: 1.7030 - val_loss: 2.7298 - val_accuracy: 0.3870 - val_categorical_crossentropy: 2.7298 - lr: 0.0100\n",
      "Epoch 40/250\n",
      "43/43 [==============================] - 33s 768ms/step - loss: 1.6697 - accuracy: 0.5473 - categorical_crossentropy: 1.6697 - val_loss: 3.0872 - val_accuracy: 0.4078 - val_categorical_crossentropy: 3.0872 - lr: 0.0100\n",
      "Epoch 41/250\n",
      "43/43 [==============================] - 33s 765ms/step - loss: 1.6542 - accuracy: 0.5533 - categorical_crossentropy: 1.6542 - val_loss: 2.8425 - val_accuracy: 0.4228 - val_categorical_crossentropy: 2.8425 - lr: 0.0100\n",
      "Epoch 42/250\n",
      "43/43 [==============================] - 33s 755ms/step - loss: 1.6026 - accuracy: 0.5616 - categorical_crossentropy: 1.6026 - val_loss: 2.7335 - val_accuracy: 0.4073 - val_categorical_crossentropy: 2.7335 - lr: 0.0100\n",
      "Epoch 43/250\n",
      "43/43 [==============================] - 33s 764ms/step - loss: 1.5372 - accuracy: 0.5823 - categorical_crossentropy: 1.5372 - val_loss: 2.9378 - val_accuracy: 0.4041 - val_categorical_crossentropy: 2.9378 - lr: 0.0100\n",
      "Epoch 44/250\n",
      "43/43 [==============================] - 33s 751ms/step - loss: 1.5490 - accuracy: 0.5776 - categorical_crossentropy: 1.5490 - val_loss: 2.7191 - val_accuracy: 0.4451 - val_categorical_crossentropy: 2.7191 - lr: 0.0100\n",
      "Epoch 45/250\n",
      "43/43 [==============================] - 34s 772ms/step - loss: 1.4668 - accuracy: 0.5990 - categorical_crossentropy: 1.4668 - val_loss: 3.3205 - val_accuracy: 0.3876 - val_categorical_crossentropy: 3.3205 - lr: 0.0100\n",
      "Epoch 46/250\n",
      "43/43 [==============================] - 33s 757ms/step - loss: 1.4992 - accuracy: 0.5831 - categorical_crossentropy: 1.4992 - val_loss: nan - val_accuracy: 0.3249 - val_categorical_crossentropy: nan - lr: 0.0100\n",
      "Epoch 47/250\n",
      "43/43 [==============================] - 33s 752ms/step - loss: 1.4871 - accuracy: 0.5892 - categorical_crossentropy: 1.4871 - val_loss: 3.0257 - val_accuracy: 0.3845 - val_categorical_crossentropy: 3.0257 - lr: 0.0100\n",
      "Epoch 48/250\n",
      "43/43 [==============================] - 33s 759ms/step - loss: 1.5914 - accuracy: 0.5683 - categorical_crossentropy: 1.5914 - val_loss: 4.3166 - val_accuracy: 0.2933 - val_categorical_crossentropy: 4.3166 - lr: 0.0100\n",
      "Epoch 49/250\n",
      "43/43 [==============================] - 33s 763ms/step - loss: 1.4946 - accuracy: 0.5879 - categorical_crossentropy: 1.4946 - val_loss: nan - val_accuracy: 0.3275 - val_categorical_crossentropy: nan - lr: 0.0100\n",
      "Epoch 50/250\n",
      "43/43 [==============================] - 33s 765ms/step - loss: 1.4133 - accuracy: 0.6069 - categorical_crossentropy: 1.4133 - val_loss: 2.8865 - val_accuracy: 0.4383 - val_categorical_crossentropy: 2.8865 - lr: 0.0100\n",
      "Epoch 51/250\n",
      "43/43 [==============================] - 33s 757ms/step - loss: 1.3741 - accuracy: 0.6172 - categorical_crossentropy: 1.3741 - val_loss: nan - val_accuracy: 0.4798 - val_categorical_crossentropy: nan - lr: 0.0100\n",
      "Epoch 52/250\n",
      "43/43 [==============================] - 33s 758ms/step - loss: 1.3291 - accuracy: 0.6288 - categorical_crossentropy: 1.3291 - val_loss: 2.5644 - val_accuracy: 0.4580 - val_categorical_crossentropy: 2.5644 - lr: 0.0100\n",
      "Epoch 53/250\n",
      "43/43 [==============================] - 34s 772ms/step - loss: 1.3191 - accuracy: 0.6292 - categorical_crossentropy: 1.3191 - val_loss: nan - val_accuracy: 0.4451 - val_categorical_crossentropy: nan - lr: 0.0100\n",
      "Epoch 54/250\n",
      "43/43 [==============================] - 33s 761ms/step - loss: 1.3814 - accuracy: 0.6168 - categorical_crossentropy: 1.3814 - val_loss: nan - val_accuracy: 0.4233 - val_categorical_crossentropy: nan - lr: 0.0100\n",
      "Epoch 55/250\n",
      "43/43 [==============================] - 33s 761ms/step - loss: 1.2732 - accuracy: 0.6407 - categorical_crossentropy: 1.2732 - val_loss: 2.7506 - val_accuracy: 0.4663 - val_categorical_crossentropy: 2.7506 - lr: 0.0100\n",
      "Epoch 56/250\n",
      "43/43 [==============================] - 34s 780ms/step - loss: 1.2538 - accuracy: 0.6493 - categorical_crossentropy: 1.2538 - val_loss: 3.1955 - val_accuracy: 0.3912 - val_categorical_crossentropy: 3.1955 - lr: 0.0100\n",
      "Epoch 57/250\n",
      "43/43 [==============================] - 33s 760ms/step - loss: 1.1802 - accuracy: 0.6635 - categorical_crossentropy: 1.1802 - val_loss: 2.8921 - val_accuracy: 0.4487 - val_categorical_crossentropy: 2.8921 - lr: 0.0100\n",
      "Epoch 58/250\n",
      "43/43 [==============================] - 34s 778ms/step - loss: 1.1103 - accuracy: 0.6832 - categorical_crossentropy: 1.1103 - val_loss: 2.2198 - val_accuracy: 0.5301 - val_categorical_crossentropy: 2.2198 - lr: 0.0100\n",
      "Epoch 59/250\n",
      "43/43 [==============================] - 33s 754ms/step - loss: 1.0964 - accuracy: 0.6869 - categorical_crossentropy: 1.0964 - val_loss: nan - val_accuracy: 0.4839 - val_categorical_crossentropy: nan - lr: 0.0100\n",
      "Epoch 60/250\n",
      "43/43 [==============================] - 33s 758ms/step - loss: 1.0905 - accuracy: 0.6852 - categorical_crossentropy: 1.0905 - val_loss: nan - val_accuracy: 0.3948 - val_categorical_crossentropy: nan - lr: 0.0100\n",
      "Epoch 61/250\n",
      "43/43 [==============================] - 33s 760ms/step - loss: 1.1607 - accuracy: 0.6692 - categorical_crossentropy: 1.1607 - val_loss: nan - val_accuracy: 0.4456 - val_categorical_crossentropy: nan - lr: 0.0100\n",
      "Epoch 62/250\n",
      "43/43 [==============================] - 33s 764ms/step - loss: 1.1768 - accuracy: 0.6660 - categorical_crossentropy: 1.1768 - val_loss: nan - val_accuracy: 0.4052 - val_categorical_crossentropy: nan - lr: 0.0100\n",
      "Epoch 63/250\n",
      "43/43 [==============================] - 33s 754ms/step - loss: 1.1062 - accuracy: 0.6774 - categorical_crossentropy: 1.1062 - val_loss: 2.9174 - val_accuracy: 0.4508 - val_categorical_crossentropy: 2.9174 - lr: 0.0100\n",
      "Epoch 64/250\n",
      "43/43 [==============================] - 33s 766ms/step - loss: 1.0136 - accuracy: 0.7034 - categorical_crossentropy: 1.0136 - val_loss: nan - val_accuracy: 0.4902 - val_categorical_crossentropy: nan - lr: 0.0100\n",
      "Epoch 65/250\n",
      "43/43 [==============================] - 33s 749ms/step - loss: 0.9713 - accuracy: 0.7161 - categorical_crossentropy: 0.9713 - val_loss: 2.7515 - val_accuracy: 0.4803 - val_categorical_crossentropy: 2.7515 - lr: 0.0100\n",
      "Epoch 66/250\n",
      "43/43 [==============================] - 33s 758ms/step - loss: 0.9679 - accuracy: 0.7171 - categorical_crossentropy: 0.9679 - val_loss: 2.9504 - val_accuracy: 0.4487 - val_categorical_crossentropy: 2.9504 - lr: 0.0100\n",
      "Epoch 67/250\n",
      "43/43 [==============================] - 33s 757ms/step - loss: 0.9535 - accuracy: 0.7217 - categorical_crossentropy: 0.9535 - val_loss: nan - val_accuracy: 0.4301 - val_categorical_crossentropy: nan - lr: 0.0100\n",
      "Epoch 68/250\n",
      "43/43 [==============================] - 34s 771ms/step - loss: 0.9124 - accuracy: 0.7287 - categorical_crossentropy: 0.9124 - val_loss: nan - val_accuracy: 0.4746 - val_categorical_crossentropy: nan - lr: 0.0100\n",
      "Epoch 69/250\n",
      "43/43 [==============================] - 33s 760ms/step - loss: 1.0666 - accuracy: 0.6997 - categorical_crossentropy: 1.0666 - val_loss: nan - val_accuracy: 0.1171 - val_categorical_crossentropy: nan - lr: 0.0100\n",
      "Epoch 70/250\n",
      "43/43 [==============================] - 34s 774ms/step - loss: 1.1962 - accuracy: 0.6587 - categorical_crossentropy: 1.1962 - val_loss: nan - val_accuracy: 0.3171 - val_categorical_crossentropy: nan - lr: 0.0100\n",
      "Epoch 71/250\n",
      "43/43 [==============================] - 33s 756ms/step - loss: 0.9813 - accuracy: 0.7159 - categorical_crossentropy: 0.9813 - val_loss: nan - val_accuracy: 0.4839 - val_categorical_crossentropy: nan - lr: 0.0100\n",
      "Epoch 72/250\n",
      "43/43 [==============================] - 33s 750ms/step - loss: 0.8988 - accuracy: 0.7369 - categorical_crossentropy: 0.8988 - val_loss: 2.9069 - val_accuracy: 0.4637 - val_categorical_crossentropy: 2.9069 - lr: 0.0100\n",
      "Epoch 73/250\n",
      "43/43 [==============================] - 33s 751ms/step - loss: 0.9594 - accuracy: 0.7185 - categorical_crossentropy: 0.9594 - val_loss: 3.0048 - val_accuracy: 0.4591 - val_categorical_crossentropy: 3.0048 - lr: 0.0100\n",
      "Epoch 74/250\n",
      "43/43 [==============================] - 33s 750ms/step - loss: 0.9119 - accuracy: 0.7299 - categorical_crossentropy: 0.9119 - val_loss: 2.7553 - val_accuracy: 0.4933 - val_categorical_crossentropy: 2.7553 - lr: 0.0100\n",
      "Epoch 75/250\n",
      "43/43 [==============================] - 34s 777ms/step - loss: 0.8015 - accuracy: 0.7624 - categorical_crossentropy: 0.8015 - val_loss: 2.7129 - val_accuracy: 0.4886 - val_categorical_crossentropy: 2.7129 - lr: 0.0100\n",
      "Epoch 76/250\n",
      "43/43 [==============================] - 33s 752ms/step - loss: 0.7894 - accuracy: 0.7603 - categorical_crossentropy: 0.7894 - val_loss: 2.5433 - val_accuracy: 0.5083 - val_categorical_crossentropy: 2.5433 - lr: 0.0100\n",
      "Epoch 77/250\n",
      "43/43 [==============================] - 33s 756ms/step - loss: 0.8047 - accuracy: 0.7605 - categorical_crossentropy: 0.8047 - val_loss: 2.4502 - val_accuracy: 0.5368 - val_categorical_crossentropy: 2.4502 - lr: 0.0100\n",
      "Epoch 78/250\n",
      "43/43 [==============================] - 33s 758ms/step - loss: 0.7678 - accuracy: 0.7683 - categorical_crossentropy: 0.7678 - val_loss: 2.6046 - val_accuracy: 0.5321 - val_categorical_crossentropy: 2.6046 - lr: 0.0100\n",
      "Epoch 79/250\n",
      "43/43 [==============================] - 33s 746ms/step - loss: 0.7161 - accuracy: 0.7871 - categorical_crossentropy: 0.7161 - val_loss: 2.7496 - val_accuracy: 0.5057 - val_categorical_crossentropy: 2.7496 - lr: 0.0100\n",
      "Epoch 80/250\n",
      "43/43 [==============================] - 33s 758ms/step - loss: 0.7147 - accuracy: 0.7808 - categorical_crossentropy: 0.7147 - val_loss: 2.9569 - val_accuracy: 0.5041 - val_categorical_crossentropy: 2.9569 - lr: 0.0100\n",
      "Epoch 81/250\n",
      "43/43 [==============================] - 34s 777ms/step - loss: 0.7295 - accuracy: 0.7785 - categorical_crossentropy: 0.7295 - val_loss: 2.7749 - val_accuracy: 0.5228 - val_categorical_crossentropy: 2.7749 - lr: 0.0100\n",
      "Epoch 82/250\n",
      "43/43 [==============================] - 33s 754ms/step - loss: 0.6958 - accuracy: 0.7867 - categorical_crossentropy: 0.6958 - val_loss: 2.5215 - val_accuracy: 0.5456 - val_categorical_crossentropy: 2.5215 - lr: 0.0100\n",
      "Epoch 83/250\n",
      "43/43 [==============================] - 33s 752ms/step - loss: 0.6805 - accuracy: 0.7894 - categorical_crossentropy: 0.6805 - val_loss: 2.7884 - val_accuracy: 0.5119 - val_categorical_crossentropy: 2.7884 - lr: 0.0100\n",
      "Epoch 84/250\n",
      "43/43 [==============================] - 34s 770ms/step - loss: 0.6461 - accuracy: 0.8038 - categorical_crossentropy: 0.6461 - val_loss: 2.5067 - val_accuracy: 0.5534 - val_categorical_crossentropy: 2.5067 - lr: 0.0100\n",
      "Epoch 85/250\n",
      "43/43 [==============================] - 33s 755ms/step - loss: 0.6207 - accuracy: 0.8075 - categorical_crossentropy: 0.6207 - val_loss: 2.5946 - val_accuracy: 0.5420 - val_categorical_crossentropy: 2.5946 - lr: 0.0100\n",
      "Epoch 86/250\n",
      "43/43 [==============================] - 33s 759ms/step - loss: 0.7044 - accuracy: 0.7827 - categorical_crossentropy: 0.7044 - val_loss: 3.0759 - val_accuracy: 0.4964 - val_categorical_crossentropy: 3.0759 - lr: 0.0100\n",
      "Epoch 87/250\n",
      "43/43 [==============================] - 34s 768ms/step - loss: 0.6874 - accuracy: 0.7956 - categorical_crossentropy: 0.6874 - val_loss: 3.1221 - val_accuracy: 0.4731 - val_categorical_crossentropy: 3.1221 - lr: 0.0100\n",
      "Epoch 88/250\n",
      "43/43 [==============================] - 34s 769ms/step - loss: 0.7454 - accuracy: 0.7821 - categorical_crossentropy: 0.7454 - val_loss: 3.6950 - val_accuracy: 0.4472 - val_categorical_crossentropy: 3.6950 - lr: 0.0100\n",
      "Epoch 89/250\n",
      "43/43 [==============================] - 33s 754ms/step - loss: 0.9909 - accuracy: 0.7283 - categorical_crossentropy: 0.9909 - val_loss: 7.1608 - val_accuracy: 0.1922 - val_categorical_crossentropy: 7.1608 - lr: 0.0100\n",
      "Epoch 90/250\n",
      "43/43 [==============================] - 34s 786ms/step - loss: 1.6510 - accuracy: 0.5683 - categorical_crossentropy: 1.6510 - val_loss: nan - val_accuracy: 0.1953 - val_categorical_crossentropy: nan - lr: 0.0100\n",
      "Epoch 91/250\n",
      "43/43 [==============================] - 34s 773ms/step - loss: 1.2786 - accuracy: 0.6520 - categorical_crossentropy: 1.2786 - val_loss: 4.1359 - val_accuracy: 0.3513 - val_categorical_crossentropy: 4.1359 - lr: 0.0100\n",
      "Epoch 92/250\n",
      "43/43 [==============================] - 33s 751ms/step - loss: 1.0065 - accuracy: 0.7196 - categorical_crossentropy: 1.0065 - val_loss: 3.4606 - val_accuracy: 0.3793 - val_categorical_crossentropy: 3.4606 - lr: 0.0100\n",
      "Epoch 93/250\n",
      "43/43 [==============================] - 33s 750ms/step - loss: 1.5210 - accuracy: 0.6304 - categorical_crossentropy: 1.5210 - val_loss: 10.6706 - val_accuracy: 0.0751 - val_categorical_crossentropy: 10.6706 - lr: 0.0100\n",
      "Epoch 94/250\n",
      "43/43 [==============================] - 33s 749ms/step - loss: 1.5715 - accuracy: 0.5699 - categorical_crossentropy: 1.5715 - val_loss: 3.8001 - val_accuracy: 0.3845 - val_categorical_crossentropy: 3.8001 - lr: 0.0100\n",
      "Epoch 95/250\n",
      "43/43 [==============================] - 33s 750ms/step - loss: 1.8091 - accuracy: 0.5829 - categorical_crossentropy: 1.8091 - val_loss: nan - val_accuracy: 0.0601 - val_categorical_crossentropy: nan - lr: 0.0100\n",
      "Epoch 96/250\n",
      "43/43 [==============================] - 34s 781ms/step - loss: 1.4914 - accuracy: 0.5881 - categorical_crossentropy: 1.4914 - val_loss: 4.1107 - val_accuracy: 0.3326 - val_categorical_crossentropy: 4.1107 - lr: 0.0100\n",
      "Epoch 97/250\n",
      "43/43 [==============================] - 33s 768ms/step - loss: 1.3580 - accuracy: 0.6598 - categorical_crossentropy: 1.3580 - val_loss: 3.4838 - val_accuracy: 0.3896 - val_categorical_crossentropy: 3.4838 - lr: 0.0100\n",
      "Epoch 98/250\n",
      "43/43 [==============================] - 33s 756ms/step - loss: 2.1763 - accuracy: 0.5279 - categorical_crossentropy: 2.1763 - val_loss: 6.7064 - val_accuracy: 0.1477 - val_categorical_crossentropy: 6.7064 - lr: 0.0100\n",
      "Epoch 99/250\n",
      "43/43 [==============================] - 33s 752ms/step - loss: 1.8249 - accuracy: 0.5206 - categorical_crossentropy: 1.8249 - val_loss: 3.7191 - val_accuracy: 0.3358 - val_categorical_crossentropy: 3.7191 - lr: 0.0100\n",
      "Epoch 100/250\n",
      "43/43 [==============================] - 33s 751ms/step - loss: 1.2900 - accuracy: 0.6455 - categorical_crossentropy: 1.2900 - val_loss: 3.0974 - val_accuracy: 0.4026 - val_categorical_crossentropy: 3.0974 - lr: 0.0100\n",
      "Epoch 101/250\n",
      "43/43 [==============================] - 33s 761ms/step - loss: 1.8451 - accuracy: 0.5992 - categorical_crossentropy: 1.8451 - val_loss: 5.9152 - val_accuracy: 0.0352 - val_categorical_crossentropy: 5.9152 - lr: 0.0100\n",
      "Epoch 102/250\n",
      "43/43 [==============================] - 33s 759ms/step - loss: 2.4178 - accuracy: 0.4716 - categorical_crossentropy: 2.4178 - val_loss: 11.6753 - val_accuracy: 0.0145 - val_categorical_crossentropy: 11.6753 - lr: 0.0100\n",
      "Epoch 103/250\n",
      "43/43 [==============================] - 33s 755ms/step - loss: 1.3661 - accuracy: 0.6102 - categorical_crossentropy: 1.3661 - val_loss: 4.4434 - val_accuracy: 0.2601 - val_categorical_crossentropy: 4.4434 - lr: 0.0100\n",
      "Epoch 104/250\n",
      "43/43 [==============================] - 34s 770ms/step - loss: 1.2615 - accuracy: 0.6607 - categorical_crossentropy: 1.2615 - val_loss: 2.6989 - val_accuracy: 0.4280 - val_categorical_crossentropy: 2.6989 - lr: 0.0100\n",
      "Epoch 105/250\n",
      "43/43 [==============================] - 34s 775ms/step - loss: 1.9486 - accuracy: 0.5605 - categorical_crossentropy: 1.9486 - val_loss: 4.3735 - val_accuracy: 0.2171 - val_categorical_crossentropy: 4.3735 - lr: 0.0100\n",
      "Epoch 106/250\n",
      "43/43 [==============================] - 33s 758ms/step - loss: 2.7818 - accuracy: 0.3979 - categorical_crossentropy: 2.7818 - val_loss: 5.3944 - val_accuracy: 0.1788 - val_categorical_crossentropy: 5.3944 - lr: 0.0100\n",
      "Epoch 107/250\n",
      "43/43 [==============================] - 34s 772ms/step - loss: 1.7710 - accuracy: 0.5285 - categorical_crossentropy: 1.7710 - val_loss: 3.7360 - val_accuracy: 0.3124 - val_categorical_crossentropy: 3.7360 - lr: 0.0100\n",
      "Epoch 108/250\n",
      "43/43 [==============================] - 33s 752ms/step - loss: 2.4265 - accuracy: 0.4773 - categorical_crossentropy: 2.4265 - val_loss: 19.6298 - val_accuracy: 0.1135 - val_categorical_crossentropy: 19.6298 - lr: 0.0100\n",
      "Epoch 109/250\n",
      "43/43 [==============================] - 33s 756ms/step - loss: 2.3991 - accuracy: 0.4646 - categorical_crossentropy: 2.3991 - val_loss: 3.2858 - val_accuracy: 0.3363 - val_categorical_crossentropy: 3.2858 - lr: 1.0000e-03\n",
      "Epoch 110/250\n",
      "43/43 [==============================] - 33s 758ms/step - loss: 2.0702 - accuracy: 0.5177 - categorical_crossentropy: 2.0702 - val_loss: 2.6756 - val_accuracy: 0.4332 - val_categorical_crossentropy: 2.6756 - lr: 1.0000e-03\n",
      "Epoch 111/250\n",
      "43/43 [==============================] - 33s 754ms/step - loss: 1.9626 - accuracy: 0.5368 - categorical_crossentropy: 1.9626 - val_loss: 2.4364 - val_accuracy: 0.4539 - val_categorical_crossentropy: 2.4364 - lr: 1.0000e-03\n",
      "Epoch 112/250\n",
      "43/43 [==============================] - 34s 781ms/step - loss: 1.8202 - accuracy: 0.5577 - categorical_crossentropy: 1.8202 - val_loss: 2.3188 - val_accuracy: 0.4845 - val_categorical_crossentropy: 2.3188 - lr: 1.0000e-03\n",
      "Epoch 113/250\n",
      "43/43 [==============================] - 34s 769ms/step - loss: 1.8355 - accuracy: 0.5701 - categorical_crossentropy: 1.8355 - val_loss: 2.1773 - val_accuracy: 0.4979 - val_categorical_crossentropy: 2.1773 - lr: 1.0000e-03\n",
      "Epoch 114/250\n",
      "43/43 [==============================] - 33s 758ms/step - loss: 1.7021 - accuracy: 0.5809 - categorical_crossentropy: 1.7021 - val_loss: 2.3664 - val_accuracy: 0.4834 - val_categorical_crossentropy: 2.3664 - lr: 1.0000e-03\n",
      "Epoch 115/250\n",
      "43/43 [==============================] - 34s 775ms/step - loss: 1.7624 - accuracy: 0.5900 - categorical_crossentropy: 1.7624 - val_loss: 2.4190 - val_accuracy: 0.5047 - val_categorical_crossentropy: 2.4190 - lr: 1.0000e-03\n",
      "Epoch 116/250\n",
      "43/43 [==============================] - 33s 761ms/step - loss: 1.6382 - accuracy: 0.5958 - categorical_crossentropy: 1.6382 - val_loss: 2.5404 - val_accuracy: 0.5062 - val_categorical_crossentropy: 2.5404 - lr: 1.0000e-03\n",
      "Epoch 117/250\n",
      "43/43 [==============================] - 33s 772ms/step - loss: 1.6437 - accuracy: 0.6065 - categorical_crossentropy: 1.6437 - val_loss: 2.1477 - val_accuracy: 0.5228 - val_categorical_crossentropy: 2.1477 - lr: 1.0000e-03\n",
      "Epoch 118/250\n",
      "43/43 [==============================] - 33s 750ms/step - loss: 1.7041 - accuracy: 0.6078 - categorical_crossentropy: 1.7041 - val_loss: 2.6075 - val_accuracy: 0.5150 - val_categorical_crossentropy: 2.6075 - lr: 1.0000e-03\n",
      "Epoch 119/250\n",
      "43/43 [==============================] - 33s 748ms/step - loss: 1.6904 - accuracy: 0.6119 - categorical_crossentropy: 1.6904 - val_loss: 2.1992 - val_accuracy: 0.4995 - val_categorical_crossentropy: 2.1992 - lr: 1.0000e-03\n",
      "Epoch 120/250\n",
      "43/43 [==============================] - 33s 764ms/step - loss: 1.7156 - accuracy: 0.6148 - categorical_crossentropy: 1.7156 - val_loss: 2.1950 - val_accuracy: 0.5181 - val_categorical_crossentropy: 2.1950 - lr: 1.0000e-03\n",
      "Epoch 121/250\n",
      "43/43 [==============================] - 33s 760ms/step - loss: 1.6032 - accuracy: 0.6195 - categorical_crossentropy: 1.6032 - val_loss: 2.1909 - val_accuracy: 0.5104 - val_categorical_crossentropy: 2.1909 - lr: 1.0000e-03\n",
      "Epoch 122/250\n",
      "43/43 [==============================] - 34s 779ms/step - loss: 1.5764 - accuracy: 0.6215 - categorical_crossentropy: 1.5764 - val_loss: 2.6955 - val_accuracy: 0.5176 - val_categorical_crossentropy: 2.6955 - lr: 1.0000e-03\n",
      "Epoch 123/250\n",
      "43/43 [==============================] - 34s 785ms/step - loss: 1.6733 - accuracy: 0.6255 - categorical_crossentropy: 1.6733 - val_loss: 2.3706 - val_accuracy: 0.5280 - val_categorical_crossentropy: 2.3706 - lr: 1.0000e-03\n",
      "Epoch 124/250\n",
      "43/43 [==============================] - 58s 1s/step - loss: 1.6303 - accuracy: 0.6266 - categorical_crossentropy: 1.6303 - val_loss: 2.4778 - val_accuracy: 0.5316 - val_categorical_crossentropy: 2.4778 - lr: 1.0000e-03\n",
      "Epoch 125/250\n",
      "43/43 [==============================] - 33s 766ms/step - loss: 1.6006 - accuracy: 0.6333 - categorical_crossentropy: 1.6006 - val_loss: 2.4292 - val_accuracy: 0.5440 - val_categorical_crossentropy: 2.4292 - lr: 1.0000e-03\n",
      "Epoch 126/250\n",
      "43/43 [==============================] - 33s 762ms/step - loss: 1.5344 - accuracy: 0.6448 - categorical_crossentropy: 1.5344 - val_loss: 2.3165 - val_accuracy: 0.5425 - val_categorical_crossentropy: 2.3165 - lr: 1.0000e-03\n",
      "Epoch 127/250\n",
      "43/43 [==============================] - 33s 753ms/step - loss: 1.5185 - accuracy: 0.6446 - categorical_crossentropy: 1.5185 - val_loss: 2.1898 - val_accuracy: 0.5415 - val_categorical_crossentropy: 2.1898 - lr: 1.0000e-03\n",
      "Epoch 128/250\n",
      "43/43 [==============================] - 33s 761ms/step - loss: 1.5360 - accuracy: 0.6399 - categorical_crossentropy: 1.5360 - val_loss: 2.0316 - val_accuracy: 0.5409 - val_categorical_crossentropy: 2.0316 - lr: 1.0000e-03\n",
      "Epoch 129/250\n",
      "43/43 [==============================] - 33s 758ms/step - loss: 1.7019 - accuracy: 0.6249 - categorical_crossentropy: 1.7019 - val_loss: 2.1631 - val_accuracy: 0.5363 - val_categorical_crossentropy: 2.1631 - lr: 1.0000e-03\n",
      "Epoch 130/250\n",
      "43/43 [==============================] - 33s 750ms/step - loss: 1.6831 - accuracy: 0.6289 - categorical_crossentropy: 1.6831 - val_loss: 2.2564 - val_accuracy: 0.5394 - val_categorical_crossentropy: 2.2564 - lr: 1.0000e-03\n",
      "Epoch 131/250\n",
      "43/43 [==============================] - 34s 776ms/step - loss: 1.6620 - accuracy: 0.6398 - categorical_crossentropy: 1.6620 - val_loss: 2.3155 - val_accuracy: 0.5301 - val_categorical_crossentropy: 2.3155 - lr: 1.0000e-03\n",
      "Epoch 132/250\n",
      "43/43 [==============================] - 34s 770ms/step - loss: 1.5615 - accuracy: 0.6348 - categorical_crossentropy: 1.5615 - val_loss: 2.0555 - val_accuracy: 0.5383 - val_categorical_crossentropy: 2.0555 - lr: 1.0000e-03\n",
      "Epoch 133/250\n",
      "43/43 [==============================] - 34s 786ms/step - loss: 1.6078 - accuracy: 0.6421 - categorical_crossentropy: 1.6078 - val_loss: 2.0930 - val_accuracy: 0.5337 - val_categorical_crossentropy: 2.0930 - lr: 1.0000e-03\n",
      "Epoch 134/250\n",
      "43/43 [==============================] - 33s 765ms/step - loss: 1.5943 - accuracy: 0.6395 - categorical_crossentropy: 1.5943 - val_loss: 1.9914 - val_accuracy: 0.5378 - val_categorical_crossentropy: 1.9914 - lr: 1.0000e-03\n",
      "Epoch 135/250\n",
      "43/43 [==============================] - 33s 747ms/step - loss: 1.4574 - accuracy: 0.6474 - categorical_crossentropy: 1.4574 - val_loss: 2.2300 - val_accuracy: 0.5383 - val_categorical_crossentropy: 2.2300 - lr: 1.0000e-03\n",
      "Epoch 136/250\n",
      "43/43 [==============================] - 33s 755ms/step - loss: 1.5222 - accuracy: 0.6339 - categorical_crossentropy: 1.5222 - val_loss: 2.0261 - val_accuracy: 0.5394 - val_categorical_crossentropy: 2.0261 - lr: 1.0000e-03\n",
      "Epoch 137/250\n",
      "43/43 [==============================] - 33s 761ms/step - loss: 1.4473 - accuracy: 0.6425 - categorical_crossentropy: 1.4473 - val_loss: 2.2383 - val_accuracy: 0.5518 - val_categorical_crossentropy: 2.2383 - lr: 1.0000e-03\n",
      "Epoch 138/250\n",
      "43/43 [==============================] - 33s 756ms/step - loss: 1.5386 - accuracy: 0.6469 - categorical_crossentropy: 1.5386 - val_loss: 2.1742 - val_accuracy: 0.5591 - val_categorical_crossentropy: 2.1742 - lr: 1.0000e-03\n",
      "Epoch 139/250\n",
      "43/43 [==============================] - 37s 847ms/step - loss: 1.4629 - accuracy: 0.6589 - categorical_crossentropy: 1.4629 - val_loss: 2.1745 - val_accuracy: 0.5477 - val_categorical_crossentropy: 2.1745 - lr: 1.0000e-03\n",
      "Epoch 140/250\n",
      "43/43 [==============================] - 33s 755ms/step - loss: 1.5077 - accuracy: 0.6539 - categorical_crossentropy: 1.5077 - val_loss: 2.0510 - val_accuracy: 0.5611 - val_categorical_crossentropy: 2.0510 - lr: 1.0000e-03\n",
      "Epoch 141/250\n",
      "43/43 [==============================] - 34s 771ms/step - loss: 1.3727 - accuracy: 0.6622 - categorical_crossentropy: 1.3727 - val_loss: 2.0544 - val_accuracy: 0.5601 - val_categorical_crossentropy: 2.0544 - lr: 1.0000e-03\n",
      "Epoch 142/250\n",
      "43/43 [==============================] - 33s 753ms/step - loss: 1.5994 - accuracy: 0.6672 - categorical_crossentropy: 1.5994 - val_loss: 2.1547 - val_accuracy: 0.5653 - val_categorical_crossentropy: 2.1547 - lr: 1.0000e-03\n",
      "Epoch 143/250\n",
      "43/43 [==============================] - 34s 775ms/step - loss: 1.4911 - accuracy: 0.6650 - categorical_crossentropy: 1.4911 - val_loss: 1.9658 - val_accuracy: 0.5674 - val_categorical_crossentropy: 1.9658 - lr: 1.0000e-03\n",
      "Epoch 144/250\n",
      "43/43 [==============================] - 33s 767ms/step - loss: 1.4581 - accuracy: 0.6550 - categorical_crossentropy: 1.4581 - val_loss: 1.9650 - val_accuracy: 0.5539 - val_categorical_crossentropy: 1.9650 - lr: 1.0000e-03\n",
      "Epoch 145/250\n",
      "43/43 [==============================] - 34s 774ms/step - loss: 1.4425 - accuracy: 0.6659 - categorical_crossentropy: 1.4425 - val_loss: 1.9076 - val_accuracy: 0.5544 - val_categorical_crossentropy: 1.9076 - lr: 1.0000e-03\n",
      "Epoch 146/250\n",
      "43/43 [==============================] - 34s 778ms/step - loss: 1.3841 - accuracy: 0.6604 - categorical_crossentropy: 1.3841 - val_loss: 1.9401 - val_accuracy: 0.5513 - val_categorical_crossentropy: 1.9401 - lr: 1.0000e-03\n",
      "Epoch 147/250\n",
      "43/43 [==============================] - 33s 753ms/step - loss: 1.4501 - accuracy: 0.6621 - categorical_crossentropy: 1.4501 - val_loss: 2.1250 - val_accuracy: 0.5492 - val_categorical_crossentropy: 2.1250 - lr: 1.0000e-03\n",
      "Epoch 148/250\n",
      "43/43 [==============================] - 34s 772ms/step - loss: 1.5301 - accuracy: 0.6653 - categorical_crossentropy: 1.5301 - val_loss: 1.8833 - val_accuracy: 0.5601 - val_categorical_crossentropy: 1.8833 - lr: 1.0000e-03\n",
      "Epoch 149/250\n",
      "43/43 [==============================] - 34s 770ms/step - loss: 1.3607 - accuracy: 0.6643 - categorical_crossentropy: 1.3607 - val_loss: 2.0028 - val_accuracy: 0.5585 - val_categorical_crossentropy: 2.0028 - lr: 1.0000e-03\n",
      "Epoch 150/250\n",
      "43/43 [==============================] - 33s 750ms/step - loss: 1.3448 - accuracy: 0.6716 - categorical_crossentropy: 1.3448 - val_loss: 2.3033 - val_accuracy: 0.5611 - val_categorical_crossentropy: 2.3033 - lr: 1.0000e-03\n",
      "Epoch 151/250\n",
      "43/43 [==============================] - 34s 772ms/step - loss: 1.3978 - accuracy: 0.6770 - categorical_crossentropy: 1.3978 - val_loss: 1.8903 - val_accuracy: 0.5648 - val_categorical_crossentropy: 1.8903 - lr: 1.0000e-03\n",
      "Epoch 152/250\n",
      "43/43 [==============================] - 34s 778ms/step - loss: 1.3614 - accuracy: 0.6654 - categorical_crossentropy: 1.3614 - val_loss: 1.9579 - val_accuracy: 0.5503 - val_categorical_crossentropy: 1.9579 - lr: 1.0000e-03\n",
      "Epoch 153/250\n",
      "43/43 [==============================] - 34s 770ms/step - loss: 1.4257 - accuracy: 0.6494 - categorical_crossentropy: 1.4257 - val_loss: 1.9860 - val_accuracy: 0.5482 - val_categorical_crossentropy: 1.9860 - lr: 1.0000e-03\n",
      "Epoch 154/250\n",
      "43/43 [==============================] - 34s 781ms/step - loss: 1.5054 - accuracy: 0.6628 - categorical_crossentropy: 1.5054 - val_loss: 1.9818 - val_accuracy: 0.5487 - val_categorical_crossentropy: 1.9818 - lr: 1.0000e-03\n",
      "Epoch 155/250\n",
      "43/43 [==============================] - 33s 757ms/step - loss: 1.4882 - accuracy: 0.6675 - categorical_crossentropy: 1.4882 - val_loss: 2.0505 - val_accuracy: 0.5497 - val_categorical_crossentropy: 2.0505 - lr: 1.0000e-03\n",
      "Epoch 156/250\n",
      "43/43 [==============================] - 33s 768ms/step - loss: 1.4782 - accuracy: 0.6746 - categorical_crossentropy: 1.4782 - val_loss: 2.2009 - val_accuracy: 0.5518 - val_categorical_crossentropy: 2.2009 - lr: 1.0000e-03\n",
      "Epoch 157/250\n",
      "43/43 [==============================] - 33s 754ms/step - loss: 1.4059 - accuracy: 0.6725 - categorical_crossentropy: 1.4059 - val_loss: 2.1600 - val_accuracy: 0.5617 - val_categorical_crossentropy: 2.1600 - lr: 1.0000e-03\n",
      "Epoch 158/250\n",
      "43/43 [==============================] - 33s 752ms/step - loss: 1.4385 - accuracy: 0.6690 - categorical_crossentropy: 1.4385 - val_loss: 2.1213 - val_accuracy: 0.5580 - val_categorical_crossentropy: 2.1213 - lr: 1.0000e-03\n",
      "Epoch 159/250\n",
      "43/43 [==============================] - 33s 753ms/step - loss: 1.4390 - accuracy: 0.6655 - categorical_crossentropy: 1.4390 - val_loss: 2.0598 - val_accuracy: 0.5674 - val_categorical_crossentropy: 2.0598 - lr: 1.0000e-03\n",
      "Epoch 160/250\n",
      "43/43 [==============================] - 33s 752ms/step - loss: 1.4334 - accuracy: 0.6736 - categorical_crossentropy: 1.4334 - val_loss: 2.0490 - val_accuracy: 0.5632 - val_categorical_crossentropy: 2.0490 - lr: 1.0000e-03\n",
      "Epoch 161/250\n",
      "43/43 [==============================] - 33s 751ms/step - loss: 1.2408 - accuracy: 0.6836 - categorical_crossentropy: 1.2408 - val_loss: 1.9851 - val_accuracy: 0.5725 - val_categorical_crossentropy: 1.9851 - lr: 1.0000e-03\n",
      "Epoch 162/250\n",
      "43/43 [==============================] - 33s 750ms/step - loss: 1.2875 - accuracy: 0.6775 - categorical_crossentropy: 1.2875 - val_loss: 1.9828 - val_accuracy: 0.5710 - val_categorical_crossentropy: 1.9828 - lr: 1.0000e-03\n",
      "Epoch 163/250\n",
      "43/43 [==============================] - 33s 757ms/step - loss: 1.4248 - accuracy: 0.6798 - categorical_crossentropy: 1.4248 - val_loss: 2.1227 - val_accuracy: 0.5601 - val_categorical_crossentropy: 2.1227 - lr: 1.0000e-03\n",
      "Epoch 164/250\n",
      "43/43 [==============================] - 33s 749ms/step - loss: 1.3372 - accuracy: 0.6846 - categorical_crossentropy: 1.3372 - val_loss: 1.9155 - val_accuracy: 0.5710 - val_categorical_crossentropy: 1.9155 - lr: 1.0000e-03\n",
      "Epoch 165/250\n",
      "43/43 [==============================] - 34s 776ms/step - loss: 1.2675 - accuracy: 0.6832 - categorical_crossentropy: 1.2675 - val_loss: 1.9509 - val_accuracy: 0.5585 - val_categorical_crossentropy: 1.9509 - lr: 1.0000e-03\n",
      "Epoch 166/250\n",
      "43/43 [==============================] - 34s 774ms/step - loss: 1.2475 - accuracy: 0.6793 - categorical_crossentropy: 1.2475 - val_loss: 2.0299 - val_accuracy: 0.5627 - val_categorical_crossentropy: 2.0299 - lr: 1.0000e-03\n",
      "Epoch 167/250\n",
      "43/43 [==============================] - 35s 803ms/step - loss: 1.2440 - accuracy: 0.6831 - categorical_crossentropy: 1.2440 - val_loss: 2.0273 - val_accuracy: 0.5570 - val_categorical_crossentropy: 2.0273 - lr: 1.0000e-03\n",
      "Epoch 168/250\n",
      "43/43 [==============================] - 34s 773ms/step - loss: 1.4036 - accuracy: 0.6808 - categorical_crossentropy: 1.4036 - val_loss: 2.1030 - val_accuracy: 0.5699 - val_categorical_crossentropy: 2.1030 - lr: 1.0000e-03\n",
      "Epoch 169/250\n",
      "43/43 [==============================] - 33s 763ms/step - loss: 1.3582 - accuracy: 0.6874 - categorical_crossentropy: 1.3582 - val_loss: 1.9961 - val_accuracy: 0.5699 - val_categorical_crossentropy: 1.9961 - lr: 1.0000e-03\n",
      "Epoch 170/250\n",
      "43/43 [==============================] - 33s 758ms/step - loss: 1.3958 - accuracy: 0.6860 - categorical_crossentropy: 1.3958 - val_loss: 1.9853 - val_accuracy: 0.5746 - val_categorical_crossentropy: 1.9853 - lr: 1.0000e-03\n",
      "Epoch 171/250\n",
      "43/43 [==============================] - 33s 750ms/step - loss: 1.3630 - accuracy: 0.6857 - categorical_crossentropy: 1.3630 - val_loss: 1.9845 - val_accuracy: 0.5554 - val_categorical_crossentropy: 1.9845 - lr: 1.0000e-03\n",
      "Epoch 172/250\n",
      "43/43 [==============================] - 33s 752ms/step - loss: 1.2396 - accuracy: 0.6804 - categorical_crossentropy: 1.2396 - val_loss: 2.0394 - val_accuracy: 0.5591 - val_categorical_crossentropy: 2.0394 - lr: 1.0000e-03\n",
      "Epoch 173/250\n",
      "43/43 [==============================] - 33s 762ms/step - loss: 1.4409 - accuracy: 0.6848 - categorical_crossentropy: 1.4409 - val_loss: 2.2279 - val_accuracy: 0.5632 - val_categorical_crossentropy: 2.2279 - lr: 1.0000e-03\n",
      "Epoch 174/250\n",
      "43/43 [==============================] - 33s 756ms/step - loss: 1.2205 - accuracy: 0.6952 - categorical_crossentropy: 1.2205 - val_loss: 2.2409 - val_accuracy: 0.5684 - val_categorical_crossentropy: 2.2409 - lr: 1.0000e-03\n",
      "Epoch 175/250\n",
      "43/43 [==============================] - 33s 757ms/step - loss: 1.2729 - accuracy: 0.6831 - categorical_crossentropy: 1.2729 - val_loss: 2.1820 - val_accuracy: 0.5560 - val_categorical_crossentropy: 2.1820 - lr: 1.0000e-03\n",
      "Epoch 176/250\n",
      "43/43 [==============================] - 33s 754ms/step - loss: 1.3441 - accuracy: 0.6854 - categorical_crossentropy: 1.3441 - val_loss: 2.0954 - val_accuracy: 0.5544 - val_categorical_crossentropy: 2.0954 - lr: 1.0000e-03\n",
      "Epoch 177/250\n",
      "43/43 [==============================] - 33s 764ms/step - loss: 1.4637 - accuracy: 0.6984 - categorical_crossentropy: 1.4637 - val_loss: 2.2794 - val_accuracy: 0.5632 - val_categorical_crossentropy: 2.2794 - lr: 1.0000e-03\n",
      "Epoch 178/250\n",
      "43/43 [==============================] - 33s 756ms/step - loss: 1.5584 - accuracy: 0.6863 - categorical_crossentropy: 1.5584 - val_loss: 1.9677 - val_accuracy: 0.5699 - val_categorical_crossentropy: 1.9677 - lr: 1.0000e-03\n",
      "Epoch 179/250\n",
      "43/43 [==============================] - 33s 753ms/step - loss: 1.5113 - accuracy: 0.6757 - categorical_crossentropy: 1.5113 - val_loss: 1.9163 - val_accuracy: 0.5720 - val_categorical_crossentropy: 1.9163 - lr: 1.0000e-03\n",
      "Epoch 180/250\n",
      "43/43 [==============================] - 33s 751ms/step - loss: 1.3952 - accuracy: 0.6969 - categorical_crossentropy: 1.3952 - val_loss: 1.8358 - val_accuracy: 0.5674 - val_categorical_crossentropy: 1.8358 - lr: 1.0000e-03\n",
      "Epoch 181/250\n",
      "43/43 [==============================] - 34s 779ms/step - loss: 1.2689 - accuracy: 0.6861 - categorical_crossentropy: 1.2689 - val_loss: 1.8630 - val_accuracy: 0.5767 - val_categorical_crossentropy: 1.8630 - lr: 1.0000e-03\n",
      "Epoch 182/250\n",
      "43/43 [==============================] - 33s 754ms/step - loss: 1.3923 - accuracy: 0.6902 - categorical_crossentropy: 1.3923 - val_loss: 1.9140 - val_accuracy: 0.5720 - val_categorical_crossentropy: 1.9140 - lr: 1.0000e-03\n",
      "Epoch 183/250\n",
      "43/43 [==============================] - 33s 762ms/step - loss: 1.4529 - accuracy: 0.6858 - categorical_crossentropy: 1.4529 - val_loss: 1.9928 - val_accuracy: 0.5549 - val_categorical_crossentropy: 1.9928 - lr: 1.0000e-03\n",
      "Epoch 184/250\n",
      "43/43 [==============================] - 33s 752ms/step - loss: 1.5082 - accuracy: 0.6732 - categorical_crossentropy: 1.5082 - val_loss: 2.2767 - val_accuracy: 0.5342 - val_categorical_crossentropy: 2.2767 - lr: 1.0000e-03\n",
      "Epoch 185/250\n",
      "43/43 [==============================] - 34s 777ms/step - loss: 1.7266 - accuracy: 0.6784 - categorical_crossentropy: 1.7266 - val_loss: 2.1813 - val_accuracy: 0.5503 - val_categorical_crossentropy: 2.1813 - lr: 1.0000e-03\n",
      "Epoch 186/250\n",
      "43/43 [==============================] - 33s 761ms/step - loss: 1.5701 - accuracy: 0.6796 - categorical_crossentropy: 1.5701 - val_loss: 2.0666 - val_accuracy: 0.5627 - val_categorical_crossentropy: 2.0666 - lr: 1.0000e-03\n",
      "Epoch 187/250\n",
      "43/43 [==============================] - 33s 763ms/step - loss: 1.3877 - accuracy: 0.6823 - categorical_crossentropy: 1.3877 - val_loss: 1.9074 - val_accuracy: 0.5762 - val_categorical_crossentropy: 1.9074 - lr: 1.0000e-03\n",
      "Epoch 188/250\n",
      "43/43 [==============================] - 33s 750ms/step - loss: 1.4533 - accuracy: 0.6652 - categorical_crossentropy: 1.4533 - val_loss: 1.9673 - val_accuracy: 0.5549 - val_categorical_crossentropy: 1.9673 - lr: 1.0000e-03\n",
      "Epoch 189/250\n",
      "43/43 [==============================] - 33s 751ms/step - loss: 1.3853 - accuracy: 0.6731 - categorical_crossentropy: 1.3853 - val_loss: 2.0582 - val_accuracy: 0.5611 - val_categorical_crossentropy: 2.0582 - lr: 1.0000e-03\n",
      "Epoch 190/250\n",
      "43/43 [==============================] - 33s 756ms/step - loss: 1.4941 - accuracy: 0.6799 - categorical_crossentropy: 1.4941 - val_loss: 2.0542 - val_accuracy: 0.5637 - val_categorical_crossentropy: 2.0542 - lr: 1.0000e-03\n",
      "Epoch 191/250\n",
      "43/43 [==============================] - 34s 776ms/step - loss: 1.2877 - accuracy: 0.6911 - categorical_crossentropy: 1.2877 - val_loss: 1.9647 - val_accuracy: 0.5694 - val_categorical_crossentropy: 1.9647 - lr: 1.0000e-03\n",
      "Epoch 192/250\n",
      "43/43 [==============================] - 34s 769ms/step - loss: 1.6079 - accuracy: 0.6881 - categorical_crossentropy: 1.6079 - val_loss: 2.2181 - val_accuracy: 0.5736 - val_categorical_crossentropy: 2.2181 - lr: 1.0000e-03\n",
      "Epoch 193/250\n",
      "43/43 [==============================] - 33s 748ms/step - loss: 1.8574 - accuracy: 0.6899 - categorical_crossentropy: 1.8574 - val_loss: 2.1664 - val_accuracy: 0.5668 - val_categorical_crossentropy: 2.1664 - lr: 1.0000e-03\n",
      "Epoch 194/250\n",
      "43/43 [==============================] - 34s 773ms/step - loss: 1.1898 - accuracy: 0.6897 - categorical_crossentropy: 1.1898 - val_loss: 2.0107 - val_accuracy: 0.5689 - val_categorical_crossentropy: 2.0107 - lr: 1.0000e-03\n",
      "Epoch 195/250\n",
      "43/43 [==============================] - 33s 752ms/step - loss: 1.1816 - accuracy: 0.6929 - categorical_crossentropy: 1.1816 - val_loss: 1.9605 - val_accuracy: 0.5762 - val_categorical_crossentropy: 1.9605 - lr: 1.0000e-03\n",
      "Epoch 196/250\n",
      "43/43 [==============================] - 34s 786ms/step - loss: 1.2439 - accuracy: 0.6875 - categorical_crossentropy: 1.2439 - val_loss: 2.0070 - val_accuracy: 0.5653 - val_categorical_crossentropy: 2.0070 - lr: 1.0000e-03\n",
      "Epoch 197/250\n",
      "43/43 [==============================] - 34s 776ms/step - loss: 1.3828 - accuracy: 0.6933 - categorical_crossentropy: 1.3828 - val_loss: 2.0555 - val_accuracy: 0.5777 - val_categorical_crossentropy: 2.0555 - lr: 1.0000e-03\n",
      "Epoch 198/250\n",
      "43/43 [==============================] - 33s 751ms/step - loss: 1.1164 - accuracy: 0.6963 - categorical_crossentropy: 1.1164 - val_loss: 1.9104 - val_accuracy: 0.5741 - val_categorical_crossentropy: 1.9104 - lr: 1.0000e-03\n",
      "Epoch 199/250\n",
      "43/43 [==============================] - 33s 767ms/step - loss: 1.1644 - accuracy: 0.6968 - categorical_crossentropy: 1.1644 - val_loss: 1.9437 - val_accuracy: 0.5777 - val_categorical_crossentropy: 1.9437 - lr: 1.0000e-03\n",
      "Epoch 200/250\n",
      "43/43 [==============================] - 34s 770ms/step - loss: 1.1887 - accuracy: 0.6986 - categorical_crossentropy: 1.1887 - val_loss: 1.9813 - val_accuracy: 0.5715 - val_categorical_crossentropy: 1.9813 - lr: 1.0000e-03\n",
      "Epoch 201/250\n",
      "43/43 [==============================] - 33s 752ms/step - loss: 1.3544 - accuracy: 0.6984 - categorical_crossentropy: 1.3544 - val_loss: 1.9800 - val_accuracy: 0.5834 - val_categorical_crossentropy: 1.9800 - lr: 1.0000e-03\n",
      "Epoch 202/250\n",
      "43/43 [==============================] - 33s 768ms/step - loss: 1.1666 - accuracy: 0.6975 - categorical_crossentropy: 1.1666 - val_loss: 1.9058 - val_accuracy: 0.5824 - val_categorical_crossentropy: 1.9058 - lr: 1.0000e-03\n",
      "Epoch 203/250\n",
      "43/43 [==============================] - 34s 774ms/step - loss: 1.4463 - accuracy: 0.6845 - categorical_crossentropy: 1.4463 - val_loss: 2.0209 - val_accuracy: 0.5720 - val_categorical_crossentropy: 2.0209 - lr: 1.0000e-03\n",
      "Epoch 204/250\n",
      "43/43 [==============================] - 34s 780ms/step - loss: 1.3185 - accuracy: 0.6911 - categorical_crossentropy: 1.3185 - val_loss: 2.3381 - val_accuracy: 0.5720 - val_categorical_crossentropy: 2.3381 - lr: 1.0000e-03\n",
      "Epoch 205/250\n",
      "43/43 [==============================] - 33s 762ms/step - loss: 1.1720 - accuracy: 0.6947 - categorical_crossentropy: 1.1720 - val_loss: 1.9659 - val_accuracy: 0.5699 - val_categorical_crossentropy: 1.9659 - lr: 1.0000e-03\n",
      "Epoch 206/250\n",
      "43/43 [==============================] - 33s 751ms/step - loss: 1.4907 - accuracy: 0.6847 - categorical_crossentropy: 1.4907 - val_loss: 2.2013 - val_accuracy: 0.5642 - val_categorical_crossentropy: 2.2013 - lr: 1.0000e-03\n",
      "Epoch 207/250\n",
      "43/43 [==============================] - 33s 749ms/step - loss: 1.2217 - accuracy: 0.6883 - categorical_crossentropy: 1.2217 - val_loss: 2.1698 - val_accuracy: 0.5653 - val_categorical_crossentropy: 2.1698 - lr: 1.0000e-03\n",
      "Epoch 208/250\n",
      "43/43 [==============================] - 33s 752ms/step - loss: 1.3338 - accuracy: 0.6864 - categorical_crossentropy: 1.3338 - val_loss: 2.1704 - val_accuracy: 0.5756 - val_categorical_crossentropy: 2.1704 - lr: 1.0000e-03\n",
      "Epoch 209/250\n",
      "43/43 [==============================] - 34s 785ms/step - loss: 1.2113 - accuracy: 0.6926 - categorical_crossentropy: 1.2113 - val_loss: 1.9501 - val_accuracy: 0.5705 - val_categorical_crossentropy: 1.9501 - lr: 1.0000e-03\n",
      "Epoch 210/250\n",
      "43/43 [==============================] - 34s 789ms/step - loss: 1.1772 - accuracy: 0.6967 - categorical_crossentropy: 1.1772 - val_loss: 2.2101 - val_accuracy: 0.5725 - val_categorical_crossentropy: 2.2101 - lr: 1.0000e-03\n",
      "Epoch 211/250\n",
      "43/43 [==============================] - 33s 749ms/step - loss: 1.1585 - accuracy: 0.7061 - categorical_crossentropy: 1.1585 - val_loss: 2.0910 - val_accuracy: 0.5720 - val_categorical_crossentropy: 2.0910 - lr: 1.0000e-03\n",
      "Epoch 212/250\n",
      "43/43 [==============================] - 33s 757ms/step - loss: 1.1588 - accuracy: 0.7052 - categorical_crossentropy: 1.1588 - val_loss: 2.0920 - val_accuracy: 0.5689 - val_categorical_crossentropy: 2.0920 - lr: 1.0000e-03\n",
      "Epoch 213/250\n",
      "43/43 [==============================] - 36s 816ms/step - loss: 1.1985 - accuracy: 0.6987 - categorical_crossentropy: 1.1985 - val_loss: 2.1823 - val_accuracy: 0.5746 - val_categorical_crossentropy: 2.1823 - lr: 1.0000e-03\n",
      "Epoch 214/250\n",
      "43/43 [==============================] - 34s 771ms/step - loss: 1.5083 - accuracy: 0.6906 - categorical_crossentropy: 1.5083 - val_loss: 2.0875 - val_accuracy: 0.5601 - val_categorical_crossentropy: 2.0875 - lr: 1.0000e-03\n",
      "Epoch 215/250\n",
      "43/43 [==============================] - 33s 761ms/step - loss: 1.1611 - accuracy: 0.6836 - categorical_crossentropy: 1.1611 - val_loss: 2.2749 - val_accuracy: 0.5627 - val_categorical_crossentropy: 2.2749 - lr: 1.0000e-03\n",
      "Epoch 216/250\n",
      "43/43 [==============================] - 34s 776ms/step - loss: 1.1510 - accuracy: 0.6911 - categorical_crossentropy: 1.1510 - val_loss: 2.3118 - val_accuracy: 0.5715 - val_categorical_crossentropy: 2.3118 - lr: 1.0000e-03\n",
      "Epoch 217/250\n",
      "43/43 [==============================] - 34s 781ms/step - loss: 1.2868 - accuracy: 0.6939 - categorical_crossentropy: 1.2868 - val_loss: 2.2853 - val_accuracy: 0.5575 - val_categorical_crossentropy: 2.2853 - lr: 1.0000e-03\n",
      "Epoch 218/250\n",
      "43/43 [==============================] - 33s 757ms/step - loss: 1.3458 - accuracy: 0.6962 - categorical_crossentropy: 1.3458 - val_loss: 2.2108 - val_accuracy: 0.5663 - val_categorical_crossentropy: 2.2108 - lr: 1.0000e-03\n",
      "Epoch 219/250\n",
      "43/43 [==============================] - 33s 767ms/step - loss: 1.1248 - accuracy: 0.6996 - categorical_crossentropy: 1.1248 - val_loss: 2.0543 - val_accuracy: 0.5736 - val_categorical_crossentropy: 2.0543 - lr: 1.0000e-03\n",
      "Epoch 220/250\n",
      "43/43 [==============================] - 33s 752ms/step - loss: 1.2581 - accuracy: 0.6968 - categorical_crossentropy: 1.2581 - val_loss: 2.0344 - val_accuracy: 0.5782 - val_categorical_crossentropy: 2.0344 - lr: 1.0000e-03\n",
      "Epoch 221/250\n",
      "43/43 [==============================] - 34s 783ms/step - loss: 1.2248 - accuracy: 0.7009 - categorical_crossentropy: 1.2248 - val_loss: 2.1120 - val_accuracy: 0.5627 - val_categorical_crossentropy: 2.1120 - lr: 1.0000e-03\n",
      "Epoch 222/250\n",
      "43/43 [==============================] - 33s 768ms/step - loss: 1.4748 - accuracy: 0.7015 - categorical_crossentropy: 1.4748 - val_loss: 2.0828 - val_accuracy: 0.5751 - val_categorical_crossentropy: 2.0828 - lr: 1.0000e-03\n",
      "Epoch 223/250\n",
      "43/43 [==============================] - 34s 771ms/step - loss: 1.2668 - accuracy: 0.6911 - categorical_crossentropy: 1.2668 - val_loss: 2.1092 - val_accuracy: 0.5705 - val_categorical_crossentropy: 2.1092 - lr: 1.0000e-03\n",
      "Epoch 224/250\n",
      "43/43 [==============================] - 33s 758ms/step - loss: 1.2319 - accuracy: 0.6971 - categorical_crossentropy: 1.2319 - val_loss: 2.1428 - val_accuracy: 0.5689 - val_categorical_crossentropy: 2.1428 - lr: 1.0000e-03\n",
      "Epoch 225/250\n",
      "43/43 [==============================] - 33s 755ms/step - loss: 1.3840 - accuracy: 0.6960 - categorical_crossentropy: 1.3840 - val_loss: 2.1100 - val_accuracy: 0.5705 - val_categorical_crossentropy: 2.1100 - lr: 1.0000e-03\n",
      "Epoch 226/250\n",
      "43/43 [==============================] - 33s 762ms/step - loss: 1.2708 - accuracy: 0.6989 - categorical_crossentropy: 1.2708 - val_loss: 2.0537 - val_accuracy: 0.5710 - val_categorical_crossentropy: 2.0537 - lr: 1.0000e-03\n",
      "Epoch 227/250\n",
      "43/43 [==============================] - 34s 781ms/step - loss: 1.9162 - accuracy: 0.6926 - categorical_crossentropy: 1.9162 - val_loss: 2.2507 - val_accuracy: 0.5585 - val_categorical_crossentropy: 2.2507 - lr: 1.0000e-03\n",
      "Epoch 228/250\n",
      "43/43 [==============================] - 33s 757ms/step - loss: 1.5803 - accuracy: 0.6867 - categorical_crossentropy: 1.5803 - val_loss: 2.6130 - val_accuracy: 0.5601 - val_categorical_crossentropy: 2.6130 - lr: 1.0000e-03\n",
      "Epoch 229/250\n",
      "43/43 [==============================] - 33s 765ms/step - loss: 1.3042 - accuracy: 0.6863 - categorical_crossentropy: 1.3042 - val_loss: 2.1785 - val_accuracy: 0.5699 - val_categorical_crossentropy: 2.1785 - lr: 1.0000e-03\n",
      "Epoch 230/250\n",
      "43/43 [==============================] - 33s 759ms/step - loss: 1.3710 - accuracy: 0.6899 - categorical_crossentropy: 1.3710 - val_loss: 2.1838 - val_accuracy: 0.5777 - val_categorical_crossentropy: 2.1838 - lr: 1.0000e-03\n",
      "Epoch 231/250\n",
      "43/43 [==============================] - 34s 772ms/step - loss: 1.4063 - accuracy: 0.6930 - categorical_crossentropy: 1.4063 - val_loss: 2.1162 - val_accuracy: 0.5798 - val_categorical_crossentropy: 2.1162 - lr: 1.0000e-04\n",
      "Epoch 232/250\n",
      "43/43 [==============================] - 33s 755ms/step - loss: 1.2942 - accuracy: 0.6917 - categorical_crossentropy: 1.2942 - val_loss: 2.0408 - val_accuracy: 0.5839 - val_categorical_crossentropy: 2.0408 - lr: 1.0000e-04\n",
      "Epoch 233/250\n",
      "43/43 [==============================] - 34s 778ms/step - loss: 1.4065 - accuracy: 0.6961 - categorical_crossentropy: 1.4065 - val_loss: 2.0920 - val_accuracy: 0.5824 - val_categorical_crossentropy: 2.0920 - lr: 1.0000e-04\n",
      "Epoch 234/250\n",
      "43/43 [==============================] - 34s 782ms/step - loss: 1.2457 - accuracy: 0.6970 - categorical_crossentropy: 1.2457 - val_loss: 2.0767 - val_accuracy: 0.5798 - val_categorical_crossentropy: 2.0767 - lr: 1.0000e-04\n",
      "Epoch 235/250\n",
      "43/43 [==============================] - 33s 752ms/step - loss: 1.3984 - accuracy: 0.7009 - categorical_crossentropy: 1.3984 - val_loss: 2.0979 - val_accuracy: 0.5839 - val_categorical_crossentropy: 2.0979 - lr: 1.0000e-04\n",
      "Epoch 236/250\n",
      "43/43 [==============================] - 33s 751ms/step - loss: 1.2439 - accuracy: 0.7029 - categorical_crossentropy: 1.2439 - val_loss: 2.1007 - val_accuracy: 0.5813 - val_categorical_crossentropy: 2.1007 - lr: 1.0000e-04\n",
      "Epoch 237/250\n",
      "43/43 [==============================] - 34s 773ms/step - loss: 1.3205 - accuracy: 0.7046 - categorical_crossentropy: 1.3205 - val_loss: 2.0052 - val_accuracy: 0.5793 - val_categorical_crossentropy: 2.0052 - lr: 1.0000e-04\n",
      "Epoch 238/250\n",
      "43/43 [==============================] - 33s 754ms/step - loss: 1.1709 - accuracy: 0.7014 - categorical_crossentropy: 1.1709 - val_loss: 1.9839 - val_accuracy: 0.5798 - val_categorical_crossentropy: 1.9839 - lr: 1.0000e-04\n",
      "Epoch 239/250\n",
      "43/43 [==============================] - 33s 759ms/step - loss: 1.2595 - accuracy: 0.7040 - categorical_crossentropy: 1.2595 - val_loss: 1.9612 - val_accuracy: 0.5808 - val_categorical_crossentropy: 1.9612 - lr: 1.0000e-04\n",
      "Epoch 240/250\n",
      "43/43 [==============================] - 33s 760ms/step - loss: 1.2790 - accuracy: 0.7023 - categorical_crossentropy: 1.2790 - val_loss: 1.9307 - val_accuracy: 0.5808 - val_categorical_crossentropy: 1.9307 - lr: 1.0000e-04\n",
      "Epoch 241/250\n",
      "43/43 [==============================] - 34s 774ms/step - loss: 1.2455 - accuracy: 0.7006 - categorical_crossentropy: 1.2455 - val_loss: 1.9445 - val_accuracy: 0.5824 - val_categorical_crossentropy: 1.9445 - lr: 1.0000e-04\n",
      "Epoch 242/250\n",
      "43/43 [==============================] - 33s 758ms/step - loss: 1.1912 - accuracy: 0.7079 - categorical_crossentropy: 1.1912 - val_loss: 1.9446 - val_accuracy: 0.5845 - val_categorical_crossentropy: 1.9446 - lr: 1.0000e-04\n",
      "Epoch 243/250\n",
      "43/43 [==============================] - 33s 755ms/step - loss: 1.1356 - accuracy: 0.7054 - categorical_crossentropy: 1.1356 - val_loss: 1.9429 - val_accuracy: 0.5876 - val_categorical_crossentropy: 1.9429 - lr: 1.0000e-04\n",
      "Epoch 244/250\n",
      "43/43 [==============================] - 34s 773ms/step - loss: 1.1254 - accuracy: 0.7072 - categorical_crossentropy: 1.1254 - val_loss: 1.9438 - val_accuracy: 0.5850 - val_categorical_crossentropy: 1.9438 - lr: 1.0000e-04\n",
      "Epoch 245/250\n",
      "43/43 [==============================] - 33s 770ms/step - loss: 1.2767 - accuracy: 0.7055 - categorical_crossentropy: 1.2767 - val_loss: 1.9598 - val_accuracy: 0.5834 - val_categorical_crossentropy: 1.9598 - lr: 1.0000e-04\n",
      "Epoch 246/250\n",
      "43/43 [==============================] - 33s 753ms/step - loss: 1.1533 - accuracy: 0.7037 - categorical_crossentropy: 1.1533 - val_loss: 1.9798 - val_accuracy: 0.5819 - val_categorical_crossentropy: 1.9798 - lr: 1.0000e-04\n",
      "Epoch 247/250\n",
      "43/43 [==============================] - 33s 750ms/step - loss: 1.2638 - accuracy: 0.7093 - categorical_crossentropy: 1.2638 - val_loss: 1.9691 - val_accuracy: 0.5808 - val_categorical_crossentropy: 1.9691 - lr: 1.0000e-04\n",
      "Epoch 248/250\n",
      "43/43 [==============================] - 33s 752ms/step - loss: 1.1199 - accuracy: 0.7062 - categorical_crossentropy: 1.1199 - val_loss: 1.9577 - val_accuracy: 0.5839 - val_categorical_crossentropy: 1.9577 - lr: 1.0000e-04\n",
      "Epoch 249/250\n",
      "43/43 [==============================] - 33s 751ms/step - loss: 1.1674 - accuracy: 0.7046 - categorical_crossentropy: 1.1674 - val_loss: 1.9372 - val_accuracy: 0.5839 - val_categorical_crossentropy: 1.9372 - lr: 1.0000e-04\n",
      "Epoch 250/250\n",
      "43/43 [==============================] - 34s 771ms/step - loss: 1.0949 - accuracy: 0.7090 - categorical_crossentropy: 1.0949 - val_loss: 1.9530 - val_accuracy: 0.5850 - val_categorical_crossentropy: 1.9530 - lr: 1.0000e-04\n"
     ]
    },
    {
     "data": {
      "text/plain": [
       "<keras.callbacks.History at 0x240f304daf0>"
      ]
     },
     "execution_count": 19,
     "metadata": {},
     "output_type": "execute_result"
    }
   ],
   "source": [
    "model.compile(optimizer=optimizer, loss=loss_func, metrics=[\"accuracy\", \"categorical_crossentropy\"])\n",
    "model.fit(train_datagen.flow(x_training, y_training, batch_size=batch_size), epochs=epochs, shuffle=True, callbacks=[tensorboard_cb, learning_rate_cb], validation_data=(x_testing, y_testing))"
   ]
  },
  {
   "cell_type": "code",
   "execution_count": 20,
   "metadata": {},
   "outputs": [
    {
     "name": "stderr",
     "output_type": "stream",
     "text": [
      "WARNING:absl:Found untraced functions such as _jit_compiled_convolution_op, _jit_compiled_convolution_op, _jit_compiled_convolution_op, _jit_compiled_convolution_op, _jit_compiled_convolution_op while saving (showing 5 of 81). These functions will not be directly callable after loading.\n"
     ]
    },
    {
     "name": "stdout",
     "output_type": "stream",
     "text": [
      "INFO:tensorflow:Assets written to: models\\efficientnet_b0\\model_final_extradata_101_recycling_fp32\\assets\n"
     ]
    },
    {
     "name": "stderr",
     "output_type": "stream",
     "text": [
      "INFO:tensorflow:Assets written to: models\\efficientnet_b0\\model_final_extradata_101_recycling_fp32\\assets\n"
     ]
    }
   ],
   "source": [
    "tf.keras.models.save_model(model, os.path.join(model_dir, model_name, \"model_final_extradata_101_recycling_fp32\"))"
   ]
  },
  {
   "cell_type": "markdown",
   "metadata": {},
   "source": [
    "Testing"
   ]
  },
  {
   "cell_type": "code",
   "execution_count": 21,
   "metadata": {},
   "outputs": [
    {
     "name": "stdout",
     "output_type": "stream",
     "text": [
      "8/8 [==============================] - 2s 279ms/step - loss: 1.9532 - accuracy: 0.5845 - categorical_crossentropy: 1.9532\n"
     ]
    },
    {
     "data": {
      "text/plain": [
       "[1.9531731605529785, 0.5844559669494629, 1.9531731605529785]"
      ]
     },
     "execution_count": 21,
     "metadata": {},
     "output_type": "execute_result"
    }
   ],
   "source": [
    "model.evaluate(x_testing, y_testing, batch_size=batch_size)"
   ]
  },
  {
   "cell_type": "markdown",
   "metadata": {},
   "source": [
    "Visual Testing"
   ]
  },
  {
   "cell_type": "code",
   "execution_count": 22,
   "metadata": {},
   "outputs": [
    {
     "data": {
      "image/png": "[encoded data removed]",
      "text/plain": [
       "<Figure size 432x288 with 1 Axes>"
      ]
     },
     "metadata": {
      "needs_background": "light"
     },
     "output_type": "display_data"
    },
    {
     "name": "stdout",
     "output_type": "stream",
     "text": [
      "nonWovenBag\n"
     ]
    }
   ],
   "source": [
    "test_index = 336\n",
    "plt.imshow(x_training[test_index])\n",
    "plt.show()\n",
    "pred_index = tf.math.argmax(tf.squeeze(model(tf.expand_dims(x_training[test_index], axis=0), training=False), axis=0))\n",
    "prediction = labels_list[pred_index-1]\n",
    "print(prediction)"
   ]
  },
  {
   "cell_type": "code",
   "execution_count": 23,
   "metadata": {},
   "outputs": [
    {
     "name": "stdout",
     "output_type": "stream",
     "text": [
      "['plasticBag', 'dirtyBag', 'helmet', 'plasticCup', 'paperCup', 'styroCup', 'paperBento', 'receipt', 'chipBag', 'rubberBand', 'chipCan', 'pizzaBox', 'rainCoat', 'porcelain', 'portablePaperBag', 'comb', 'soapDispenser', 'mask', 'trashBag', 'rawKitchenWaste', 'cookedFoodWaste', 'plasticSpoon', 'eggCarton', 'pen', 'plushToy', 'facialCleanser', 'productPackaging', 'onionBag', 'chargingCable', 'pottedPlants', 'yakult', 'advertisingFlyer', 'transparentContainer', 'wood', 'lunchTray', 'creamers', 'cigaretteCase', 'yogaMat', 'toiletBrush', 'paperDiapers', 'fruitNet', 'milkCarton', 'disposableChopsticks', 'waterFilter', 'headphones', 'phoneCase', 'yogurtCup', 'mirror', 'bubbleWrap', 'litter', 'lipstick', 'shreddedPaper', 'shoe', 'foamPeanuts', 'coatHanger', 'pencil', 'newspaper', 'hotCoffeeCup', 'boosterPack', 'spoutBag', 'snackPaperBag', 'aluminumFoil', 'quiltPillow', 'plasticStraw', 'wasteMedicine', 'instantNoodleBowl', 'glassBottle', 'whiteout', 'toy', 'staple', 'capsuleCoffee', 'coffeePod', 'cottonSwab', 'lighter', 'shatteredGlass', 'toiletPaperPackaging', 'milkPowderCan', 'contactLenses', 'cardboardBox', 'CD', 'juiceBox', 'mop', 'nonWovenBag', 'travelLuggage', 'toothpaste', 'creditCard', 'marker', 'mouse', 'flipFlops', 'umbrella', 'dentalFloss', 'aluminumCan', 'plasticWrap', 'paintBucket', 'plasticFoodTray', 'bottle', 'billingEnvelope', 'toothbrush', 'skincareBottle', 'highPressureBottle', 'giftBox', 'clothing', 'ecoBag']\n"
     ]
    }
   ],
   "source": [
    "print(labels_list)"
   ]
  }
 ],
 "metadata": {
  "interpreter": {
   "hash": "c5b6d09c6aa7fff57d7a8369c5cfbd30b60cd54efea322b6d32834da73899050"
  },
  "kernelspec": {
   "display_name": "Python 3.8.3 ('venv': venv)",
   "language": "python",
   "name": "python3"
  },
  "language_info": {
   "codemirror_mode": {
    "name": "ipython",
    "version": 3
   },
   "file_extension": ".py",
   "mimetype": "text/x-python",
   "name": "python",
   "nbconvert_exporter": "python",
   "pygments_lexer": "ipython3",
   "version": "3.8.3"
  },
  "orig_nbformat": 4
 },
 "nbformat": 4,
 "nbformat_minor": 2
}
