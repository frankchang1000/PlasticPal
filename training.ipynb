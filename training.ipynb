{
 "cells": [
  {
   "cell_type": "markdown",
   "metadata": {},
   "source": [
    "Import Requirements"
   ]
  },
  {
   "cell_type": "code",
   "execution_count": 1,
   "metadata": {},
   "outputs": [],
   "source": [
    "import numpy as np\n",
    "import tensorflow as tf\n",
    "import matplotlib.pyplot as plt\n",
    "import albumentations as A"
   ]
  },
  {
   "cell_type": "markdown",
   "metadata": {},
   "source": [
    "Set the Hyperparameters"
   ]
  },
  {
   "cell_type": "code",
   "execution_count": 2,
   "metadata": {},
   "outputs": [],
   "source": [
    "model_name = \"efficientnet_b0\"\n",
    "weights = None #\"imagenet\"\n",
    "input_dims = (32, 32, 3)\n",
    "num_classes = 10\n",
    "epochs = 250\n",
    "batch_size = 4112\n",
    "shuffle_size = 16\n",
    "learning_rate = 0.01\n",
    "precision = \"float32\"\n",
    "model_dir = \"models\""
   ]
  },
  {
   "cell_type": "markdown",
   "metadata": {},
   "source": [
    "Create the Models"
   ]
  },
  {
   "cell_type": "code",
   "execution_count": 3,
   "metadata": {},
   "outputs": [
    {
     "data": {
      "text/plain": [
       "'\\nimport resnet as resnet\\n\\ninputs = tf.keras.layers.Input(shape=input_dims)\\nbb = resnet.ResNet50V2(input_shape=input_dims, num_classes=num_classes, pretrain=False)(inputs)\\nmodel = tf.keras.Model(inputs, bb)\\n'"
      ]
     },
     "execution_count": 3,
     "metadata": {},
     "output_type": "execute_result"
    }
   ],
   "source": [
    "\"\"\"\n",
    "import resnet as resnet\n",
    "\n",
    "inputs = tf.keras.layers.Input(shape=input_dims)\n",
    "bb = resnet.ResNet50V2(input_shape=input_dims, num_classes=num_classes, pretrain=False)(inputs)\n",
    "model = tf.keras.Model(inputs, bb)\n",
    "\"\"\""
   ]
  },
  {
   "cell_type": "code",
   "execution_count": 4,
   "metadata": {},
   "outputs": [],
   "source": [
    "models = {\n",
    "    'efficientnet_b0': tf.keras.applications.EfficientNetB0,\n",
    "    'efficientnet_b1': tf.keras.applications.EfficientNetB1,\n",
    "    'efficientnet_b2': tf.keras.applications.EfficientNetB2,\n",
    "    'efficientnet_b3': tf.keras.applications.EfficientNetB3,\n",
    "    'efficientnet_b4': tf.keras.applications.EfficientNetB4,\n",
    "    'efficientnet_b5': tf.keras.applications.EfficientNetB5,\n",
    "    'efficientnet_b6': tf.keras.applications.EfficientNetB6,\n",
    "    'efficientnet_b7': tf.keras.applications.EfficientNetB7\n",
    "}\n",
    "inputs = tf.keras.Input(shape=input_dims)\n",
    "backbone = models[model_name](include_top=True,\n",
    "                        weights=weights,\n",
    "                        input_shape=input_dims,\n",
    "                        classes=num_classes)(inputs)\n",
    "backbone.trainable = True\n",
    "# backbone = tf.keras.layers.Dense(num_classes, activation=\"softmax\")(backbone)\n",
    "model = tf.keras.Model(inputs=inputs, outputs=backbone, name=model_name)"
   ]
  },
  {
   "cell_type": "code",
   "execution_count": 5,
   "metadata": {},
   "outputs": [
    {
     "name": "stdout",
     "output_type": "stream",
     "text": [
      "Model: \"efficientnet_b0\"\n",
      "_________________________________________________________________\n",
      " Layer (type)                Output Shape              Param #   \n",
      "=================================================================\n",
      " input_1 (InputLayer)        [(None, 32, 32, 3)]       0         \n",
      "                                                                 \n",
      " efficientnetb0 (Functional)  (None, 10)               4062381   \n",
      "                                                                 \n",
      "=================================================================\n",
      "Total params: 4,062,381\n",
      "Trainable params: 4,020,358\n",
      "Non-trainable params: 42,023\n",
      "_________________________________________________________________\n"
     ]
    }
   ],
   "source": [
    "model.summary()"
   ]
  },
  {
   "cell_type": "markdown",
   "metadata": {},
   "source": [
    "Import test training data (MNIST)"
   ]
  },
  {
   "cell_type": "code",
   "execution_count": 6,
   "metadata": {},
   "outputs": [
    {
     "name": "stdout",
     "output_type": "stream",
     "text": [
      "(50000, 32, 32, 3)\n",
      "(50000, 1)\n"
     ]
    }
   ],
   "source": [
    "(x_train, y_train), (x_test, y_test) = tf.keras.datasets.cifar10.load_data()\n",
    "print(x_train.shape)\n",
    "print(y_train.shape)"
   ]
  },
  {
   "cell_type": "markdown",
   "metadata": {},
   "source": [
    "Import Real Training Data"
   ]
  },
  {
   "cell_type": "code",
   "execution_count": null,
   "metadata": {},
   "outputs": [],
   "source": [
    "x_train = []\n",
    "y_train = []\n",
    "\n"
   ]
  },
  {
   "cell_type": "markdown",
   "metadata": {},
   "source": [
    "Preprocessing"
   ]
  },
  {
   "cell_type": "code",
   "execution_count": 7,
   "metadata": {},
   "outputs": [],
   "source": [
    "def augment_preprocess(image):\n",
    "    image = np.array(image)\n",
    "    transform = A.Compose([\n",
    "        A.Flip(p=0.5),\n",
    "        A.RandomRotate90(p=0.5),\n",
    "        A.RandomBrightnessContrast(p=0.2),\n",
    "        A.Resize(height=input_dims[0], width=input_dims[1]),\n",
    "    ])\n",
    "    transformed_image = np.array(transform(image=image)[\"image\"])\n",
    "    return transformed_image\n",
    "\n",
    "def one_hot(indicies):\n",
    "    return tf.one_hot(indicies, num_classes)[0]"
   ]
  },
  {
   "cell_type": "code",
   "execution_count": 8,
   "metadata": {},
   "outputs": [],
   "source": [
    "x_training_np = np.array([augment_preprocess(image) for image in x_train])\n",
    "y_training_np = np.array([one_hot(label) for label in y_train])"
   ]
  },
  {
   "cell_type": "code",
   "execution_count": 9,
   "metadata": {},
   "outputs": [
    {
     "name": "stdout",
     "output_type": "stream",
     "text": [
      "Image shapes(50000, 32, 32, 3)\n",
      "Label shape(50000, 10)\n"
     ]
    }
   ],
   "source": [
    "print(\"Image shapes\" + str(x_training_np.shape))\n",
    "print(\"Label shape\" + str(y_training_np.shape))"
   ]
  },
  {
   "cell_type": "markdown",
   "metadata": {},
   "source": [
    "Datagenerator"
   ]
  },
  {
   "cell_type": "code",
   "execution_count": 12,
   "metadata": {},
   "outputs": [],
   "source": [
    "from tensorflow.keras.preprocessing.image import ImageDataGenerator"
   ]
  },
  {
   "cell_type": "code",
   "execution_count": 13,
   "metadata": {},
   "outputs": [],
   "source": [
    "train_datagen = ImageDataGenerator(rotation_range=5,  # rotation\n",
    "                                   width_shift_range=0.2,  # horizontal shift\n",
    "                                   zoom_range=0.2,  # zoom\n",
    "                                   horizontal_flip=True,  # horizontal flip\n",
    "                                   brightness_range=[0.2,0.8])  # brightness"
   ]
  },
  {
   "cell_type": "markdown",
   "metadata": {},
   "source": [
    "Training Settings"
   ]
  },
  {
   "cell_type": "code",
   "execution_count": 14,
   "metadata": {},
   "outputs": [],
   "source": [
    "optimizer = tf.keras.optimizers.Adam(learning_rate=learning_rate)\n",
    "loss_func = tf.keras.losses.CategoricalCrossentropy(from_logits=False)"
   ]
  },
  {
   "cell_type": "markdown",
   "metadata": {},
   "source": [
    "Training"
   ]
  },
  {
   "cell_type": "code",
   "execution_count": 18,
   "metadata": {},
   "outputs": [
    {
     "name": "stdout",
     "output_type": "stream",
     "text": [
      "Epoch 1/250\n",
      "13/13 [==============================] - 25s 1s/step - loss: 2.1308 - accuracy: 0.2518 - categorical_crossentropy: 2.1308\n",
      "Epoch 2/250\n",
      "13/13 [==============================] - 18s 1s/step - loss: 1.9888 - accuracy: 0.2893 - categorical_crossentropy: 1.9888\n",
      "Epoch 3/250\n",
      "13/13 [==============================] - 18s 1s/step - loss: 1.8321 - accuracy: 0.3469 - categorical_crossentropy: 1.8321\n",
      "Epoch 4/250\n",
      "13/13 [==============================] - 18s 1s/step - loss: 1.6656 - accuracy: 0.3909 - categorical_crossentropy: 1.6656\n",
      "Epoch 5/250\n",
      "13/13 [==============================] - 18s 1s/step - loss: 1.6798 - accuracy: 0.4159 - categorical_crossentropy: 1.6798\n",
      "Epoch 6/250\n",
      "13/13 [==============================] - 18s 1s/step - loss: 1.5817 - accuracy: 0.4380 - categorical_crossentropy: 1.5817\n",
      "Epoch 7/250\n",
      "13/13 [==============================] - 18s 1s/step - loss: 1.5535 - accuracy: 0.4494 - categorical_crossentropy: 1.5535\n",
      "Epoch 8/250\n",
      "13/13 [==============================] - 18s 1s/step - loss: 1.5796 - accuracy: 0.4444 - categorical_crossentropy: 1.5796\n",
      "Epoch 9/250\n",
      "13/13 [==============================] - 18s 1s/step - loss: 1.5274 - accuracy: 0.4650 - categorical_crossentropy: 1.5274\n",
      "Epoch 10/250\n",
      "13/13 [==============================] - 18s 1s/step - loss: 1.4657 - accuracy: 0.4895 - categorical_crossentropy: 1.4657\n",
      "Epoch 11/250\n",
      "13/13 [==============================] - 18s 1s/step - loss: 1.4647 - accuracy: 0.4919 - categorical_crossentropy: 1.4647\n",
      "Epoch 12/250\n",
      "13/13 [==============================] - 18s 1s/step - loss: 1.5038 - accuracy: 0.4952 - categorical_crossentropy: 1.5038\n",
      "Epoch 13/250\n",
      "13/13 [==============================] - 18s 1s/step - loss: 1.3721 - accuracy: 0.5170 - categorical_crossentropy: 1.3721\n",
      "Epoch 14/250\n",
      "13/13 [==============================] - 18s 1s/step - loss: 1.3678 - accuracy: 0.5245 - categorical_crossentropy: 1.3678\n",
      "Epoch 15/250\n",
      "13/13 [==============================] - 18s 1s/step - loss: 1.2778 - accuracy: 0.5449 - categorical_crossentropy: 1.2778\n",
      "Epoch 16/250\n",
      "13/13 [==============================] - 18s 1s/step - loss: 1.2307 - accuracy: 0.5636 - categorical_crossentropy: 1.2307\n",
      "Epoch 17/250\n",
      "13/13 [==============================] - 18s 1s/step - loss: 1.2127 - accuracy: 0.5725 - categorical_crossentropy: 1.2127\n",
      "Epoch 18/250\n",
      "13/13 [==============================] - 18s 1s/step - loss: 1.2175 - accuracy: 0.5799 - categorical_crossentropy: 1.2175\n",
      "Epoch 19/250\n",
      "13/13 [==============================] - 18s 1s/step - loss: 1.2241 - accuracy: 0.5669 - categorical_crossentropy: 1.2241\n",
      "Epoch 20/250\n",
      "13/13 [==============================] - 18s 1s/step - loss: 1.1578 - accuracy: 0.5871 - categorical_crossentropy: 1.1578\n",
      "Epoch 21/250\n",
      "13/13 [==============================] - 18s 1s/step - loss: 1.1208 - accuracy: 0.6050 - categorical_crossentropy: 1.1208\n",
      "Epoch 22/250\n",
      "13/13 [==============================] - 18s 1s/step - loss: 1.1333 - accuracy: 0.6028 - categorical_crossentropy: 1.1333\n",
      "Epoch 23/250\n",
      "13/13 [==============================] - 18s 1s/step - loss: 1.1047 - accuracy: 0.6173 - categorical_crossentropy: 1.1047\n",
      "Epoch 24/250\n",
      "13/13 [==============================] - 18s 1s/step - loss: 1.1667 - accuracy: 0.5964 - categorical_crossentropy: 1.1667\n",
      "Epoch 25/250\n",
      "13/13 [==============================] - 18s 1s/step - loss: 1.1404 - accuracy: 0.6031 - categorical_crossentropy: 1.1404\n",
      "Epoch 26/250\n",
      "13/13 [==============================] - 18s 1s/step - loss: 1.0727 - accuracy: 0.6305 - categorical_crossentropy: 1.0727\n",
      "Epoch 27/250\n",
      "13/13 [==============================] - 18s 1s/step - loss: 1.0845 - accuracy: 0.6295 - categorical_crossentropy: 1.0845\n",
      "Epoch 28/250\n",
      "13/13 [==============================] - 18s 1s/step - loss: 1.0940 - accuracy: 0.6239 - categorical_crossentropy: 1.0940\n",
      "Epoch 29/250\n",
      "13/13 [==============================] - 18s 1s/step - loss: 1.0468 - accuracy: 0.6405 - categorical_crossentropy: 1.0468\n",
      "Epoch 30/250\n",
      "13/13 [==============================] - 18s 1s/step - loss: 1.0090 - accuracy: 0.6500 - categorical_crossentropy: 1.0090\n",
      "Epoch 31/250\n",
      "13/13 [==============================] - 18s 1s/step - loss: 1.9017 - accuracy: 0.3258 - categorical_crossentropy: 1.9017\n",
      "Epoch 32/250\n",
      "13/13 [==============================] - 18s 1s/step - loss: 1.8702 - accuracy: 0.3117 - categorical_crossentropy: 1.8702\n",
      "Epoch 33/250\n",
      "13/13 [==============================] - 18s 1s/step - loss: 1.7393 - accuracy: 0.3630 - categorical_crossentropy: 1.7393\n",
      "Epoch 34/250\n",
      "13/13 [==============================] - 18s 1s/step - loss: 1.6370 - accuracy: 0.4010 - categorical_crossentropy: 1.6370\n",
      "Epoch 35/250\n",
      "13/13 [==============================] - 18s 1s/step - loss: 1.5388 - accuracy: 0.4388 - categorical_crossentropy: 1.5388\n",
      "Epoch 36/250\n",
      "13/13 [==============================] - 18s 1s/step - loss: 1.4786 - accuracy: 0.4634 - categorical_crossentropy: 1.4786\n",
      "Epoch 37/250\n",
      "13/13 [==============================] - 18s 1s/step - loss: 1.4159 - accuracy: 0.4878 - categorical_crossentropy: 1.4159\n",
      "Epoch 38/250\n",
      "13/13 [==============================] - 18s 1s/step - loss: 1.3948 - accuracy: 0.5023 - categorical_crossentropy: 1.3948\n",
      "Epoch 39/250\n",
      "13/13 [==============================] - 18s 1s/step - loss: 1.3753 - accuracy: 0.5059 - categorical_crossentropy: 1.3753\n",
      "Epoch 40/250\n",
      "13/13 [==============================] - 18s 1s/step - loss: 1.3436 - accuracy: 0.5176 - categorical_crossentropy: 1.3436\n",
      "Epoch 41/250\n",
      "13/13 [==============================] - 18s 1s/step - loss: 1.3049 - accuracy: 0.5331 - categorical_crossentropy: 1.3049\n",
      "Epoch 42/250\n",
      "13/13 [==============================] - 18s 1s/step - loss: 1.2641 - accuracy: 0.5454 - categorical_crossentropy: 1.2641\n",
      "Epoch 43/250\n",
      "13/13 [==============================] - 18s 1s/step - loss: 1.2577 - accuracy: 0.5529 - categorical_crossentropy: 1.2577\n",
      "Epoch 44/250\n",
      "13/13 [==============================] - 17s 1s/step - loss: 1.2222 - accuracy: 0.5667 - categorical_crossentropy: 1.2222\n",
      "Epoch 45/250\n",
      "13/13 [==============================] - 18s 1s/step - loss: 1.2159 - accuracy: 0.5686 - categorical_crossentropy: 1.2159\n",
      "Epoch 46/250\n",
      "13/13 [==============================] - 18s 1s/step - loss: 1.1869 - accuracy: 0.5803 - categorical_crossentropy: 1.1869\n",
      "Epoch 47/250\n",
      "13/13 [==============================] - 18s 1s/step - loss: 1.1780 - accuracy: 0.5824 - categorical_crossentropy: 1.1780\n",
      "Epoch 48/250\n",
      "13/13 [==============================] - 18s 1s/step - loss: 1.1691 - accuracy: 0.5918 - categorical_crossentropy: 1.1691\n",
      "Epoch 49/250\n",
      "13/13 [==============================] - 18s 1s/step - loss: 1.1354 - accuracy: 0.5986 - categorical_crossentropy: 1.1354\n",
      "Epoch 50/250\n",
      "13/13 [==============================] - 18s 1s/step - loss: 1.1171 - accuracy: 0.6014 - categorical_crossentropy: 1.1171\n",
      "Epoch 51/250\n",
      "13/13 [==============================] - 18s 1s/step - loss: 1.1022 - accuracy: 0.6112 - categorical_crossentropy: 1.1022\n",
      "Epoch 52/250\n",
      "13/13 [==============================] - 18s 1s/step - loss: 1.0692 - accuracy: 0.6167 - categorical_crossentropy: 1.0692\n",
      "Epoch 53/250\n",
      "13/13 [==============================] - 18s 1s/step - loss: 1.0504 - accuracy: 0.6262 - categorical_crossentropy: 1.0504\n",
      "Epoch 54/250\n",
      "13/13 [==============================] - 18s 1s/step - loss: 1.0508 - accuracy: 0.6267 - categorical_crossentropy: 1.0508\n",
      "Epoch 55/250\n",
      "13/13 [==============================] - 18s 1s/step - loss: 1.0296 - accuracy: 0.6341 - categorical_crossentropy: 1.0296\n",
      "Epoch 56/250\n",
      "13/13 [==============================] - 18s 1s/step - loss: 1.0328 - accuracy: 0.6347 - categorical_crossentropy: 1.0328\n",
      "Epoch 57/250\n",
      "13/13 [==============================] - 18s 1s/step - loss: 1.0397 - accuracy: 0.6332 - categorical_crossentropy: 1.0397\n",
      "Epoch 58/250\n",
      "13/13 [==============================] - 18s 1s/step - loss: 1.0177 - accuracy: 0.6389 - categorical_crossentropy: 1.0177\n",
      "Epoch 59/250\n",
      "13/13 [==============================] - 18s 1s/step - loss: 1.0180 - accuracy: 0.6432 - categorical_crossentropy: 1.0180\n",
      "Epoch 60/250\n",
      "13/13 [==============================] - 18s 1s/step - loss: 1.0166 - accuracy: 0.6437 - categorical_crossentropy: 1.0166\n",
      "Epoch 61/250\n",
      "13/13 [==============================] - 18s 1s/step - loss: 0.9867 - accuracy: 0.6492 - categorical_crossentropy: 0.9867\n",
      "Epoch 62/250\n",
      "13/13 [==============================] - 18s 1s/step - loss: 0.9833 - accuracy: 0.6522 - categorical_crossentropy: 0.9833\n",
      "Epoch 63/250\n",
      "13/13 [==============================] - 18s 1s/step - loss: 0.9838 - accuracy: 0.6546 - categorical_crossentropy: 0.9838\n",
      "Epoch 64/250\n",
      "13/13 [==============================] - 18s 1s/step - loss: 1.0189 - accuracy: 0.6440 - categorical_crossentropy: 1.0189\n",
      "Epoch 65/250\n",
      "13/13 [==============================] - 19s 1s/step - loss: 1.0235 - accuracy: 0.6393 - categorical_crossentropy: 1.0235\n",
      "Epoch 66/250\n",
      "13/13 [==============================] - 18s 1s/step - loss: 1.0047 - accuracy: 0.6509 - categorical_crossentropy: 1.0047\n",
      "Epoch 67/250\n",
      "13/13 [==============================] - 19s 1s/step - loss: 0.9549 - accuracy: 0.6629 - categorical_crossentropy: 0.9549\n",
      "Epoch 68/250\n",
      "13/13 [==============================] - 18s 1s/step - loss: 0.9460 - accuracy: 0.6682 - categorical_crossentropy: 0.9460\n",
      "Epoch 69/250\n",
      "13/13 [==============================] - 18s 1s/step - loss: 0.9381 - accuracy: 0.6682 - categorical_crossentropy: 0.9381\n",
      "Epoch 70/250\n",
      "13/13 [==============================] - 18s 1s/step - loss: 0.9283 - accuracy: 0.6721 - categorical_crossentropy: 0.9283\n",
      "Epoch 71/250\n",
      "13/13 [==============================] - 18s 1s/step - loss: 0.9213 - accuracy: 0.6777 - categorical_crossentropy: 0.9213\n",
      "Epoch 72/250\n",
      "13/13 [==============================] - 17s 1s/step - loss: 0.9129 - accuracy: 0.6776 - categorical_crossentropy: 0.9129\n",
      "Epoch 73/250\n",
      "13/13 [==============================] - 18s 1s/step - loss: 0.9051 - accuracy: 0.6796 - categorical_crossentropy: 0.9051\n",
      "Epoch 74/250\n",
      "13/13 [==============================] - 18s 1s/step - loss: 0.8919 - accuracy: 0.6873 - categorical_crossentropy: 0.8919\n",
      "Epoch 75/250\n",
      "13/13 [==============================] - 18s 1s/step - loss: 0.8867 - accuracy: 0.6884 - categorical_crossentropy: 0.8867\n",
      "Epoch 76/250\n",
      "13/13 [==============================] - 18s 1s/step - loss: 0.8867 - accuracy: 0.6887 - categorical_crossentropy: 0.8867\n",
      "Epoch 77/250\n",
      "13/13 [==============================] - 18s 1s/step - loss: 0.8769 - accuracy: 0.6908 - categorical_crossentropy: 0.8769\n",
      "Epoch 78/250\n",
      "13/13 [==============================] - 18s 1s/step - loss: 0.8595 - accuracy: 0.6974 - categorical_crossentropy: 0.8595\n",
      "Epoch 79/250\n",
      "13/13 [==============================] - 18s 1s/step - loss: 0.8514 - accuracy: 0.6989 - categorical_crossentropy: 0.8514\n",
      "Epoch 80/250\n",
      "13/13 [==============================] - 18s 1s/step - loss: 0.8525 - accuracy: 0.6999 - categorical_crossentropy: 0.8525\n",
      "Epoch 81/250\n",
      "13/13 [==============================] - 18s 1s/step - loss: 0.8423 - accuracy: 0.7010 - categorical_crossentropy: 0.8423\n",
      "Epoch 82/250\n",
      " 2/13 [===>..........................] - ETA: 15s - loss: 0.8320 - accuracy: 0.7033 - categorical_crossentropy: 0.8320"
     ]
    }
   ],
   "source": [
    "model.compile(optimizer=optimizer, loss=loss_func, metrics=[\"accuracy\", \"categorical_crossentropy\"])\n",
    "model.fit(train_datagen.flow(x_training_np, y_training_np, batch_size=batch_size), epochs=epochs, shuffle=True, validation_split=0.2)"
   ]
  },
  {
   "cell_type": "markdown",
   "metadata": {},
   "source": [
    "Testing"
   ]
  },
  {
   "cell_type": "code",
   "execution_count": null,
   "metadata": {},
   "outputs": [
    {
     "name": "stdout",
     "output_type": "stream",
     "text": [
      "tf.Tensor(0.083, shape=(), dtype=float32)\n"
     ]
    }
   ],
   "source": [
    "acc = tf.keras.metrics.CategoricalAccuracy()\n",
    "\n",
    "x_test_ds = tf.data.Dataset.from_tensor_slices(x_test)\n",
    "y_test_ds = tf.data.Dataset.from_tensor_slices(y_test)\n",
    "test_dataset = tf.data.Dataset.zip((x_test_ds, y_test_ds)).batch(batch_size)\n",
    "\n",
    "for x, y in test_dataset:\n",
    "    out = model(x, training=False)\n",
    "    acc.update_state(y_true=y[0], y_pred=out)\n",
    "print(acc.result())"
   ]
  }
 ],
 "metadata": {
  "interpreter": {
   "hash": "c5b6d09c6aa7fff57d7a8369c5cfbd30b60cd54efea322b6d32834da73899050"
  },
  "kernelspec": {
   "display_name": "Python 3.8.3 ('venv': venv)",
   "language": "python",
   "name": "python3"
  },
  "language_info": {
   "codemirror_mode": {
    "name": "ipython",
    "version": 3
   },
   "file_extension": ".py",
   "mimetype": "text/x-python",
   "name": "python",
   "nbconvert_exporter": "python",
   "pygments_lexer": "ipython3",
   "version": "3.8.3"
  },
  "orig_nbformat": 4
 },
 "nbformat": 4,
 "nbformat_minor": 2
}
