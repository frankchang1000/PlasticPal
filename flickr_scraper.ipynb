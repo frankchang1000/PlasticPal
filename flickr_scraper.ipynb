{
 "cells": [
  {
   "cell_type": "code",
   "execution_count": 1,
   "metadata": {},
   "outputs": [],
   "source": [
    "import os\n",
    "import shutil\n",
    "from flickr_scraper.flickr_scraper import get_urls\n",
    "from google_scraper.patch import webdriver_executable\n",
    "from google_scraper.GoogleImageScrapper import GoogleImageScraper"
   ]
  },
  {
   "cell_type": "markdown",
   "metadata": {},
   "source": [
    "Download the images to \"images\" folder"
   ]
  },
  {
   "cell_type": "code",
   "execution_count": 6,
   "metadata": {},
   "outputs": [],
   "source": [
    "num_images = 100\n",
    "headless = False\n",
    "min_resolution = (0,0)\n",
    "max_resolution = (9999,9999)"
   ]
  },
  {
   "cell_type": "markdown",
   "metadata": {},
   "source": [
    "Google"
   ]
  },
  {
   "cell_type": "code",
   "execution_count": 11,
   "metadata": {},
   "outputs": [],
   "source": [
    "webdriver_path = os.path.normpath(os.path.join(os.getcwd(), 'webdriver', webdriver_executable()))\n",
    "image_path = os.path.normpath(os.path.join(os.getcwd(), 'photos'))"
   ]
  },
  {
   "cell_type": "code",
   "execution_count": null,
   "metadata": {},
   "outputs": [],
   "source": [
    "labels = os.listdir(\"data\")\n",
    "if os.path.isdir(\"images_google\") is not True:\n",
    "    os.mkdir(\"images_google\")\n",
    "\n",
    "counter = 0\n",
    "for label in labels:\n",
    "    images_in_labels = os.listdir(\"data/\" + label)\n",
    "    counter += 1\n",
    "    for image in images_in_labels:\n",
    "        if counter > 0:\n",
    "            print(\"image\", image)\n",
    "            sub_images = os.path.join(\"data\", label, image)\n",
    "            savedir = os.path.join(\"images_google\", image)\n",
    "            if os.path.isdir(savedir) is not True:\n",
    "                os.mkdir(savedir)\n",
    "            image_scrapper = GoogleImageScraper(webdriver_path,savedir,image,num_images,headless,min_resolution,max_resolution)\n",
    "            image_urls = image_scrapper.find_image_urls()\n",
    "            image_scrapper.save_images(image_urls)"
   ]
  },
  {
   "cell_type": "markdown",
   "metadata": {},
   "source": [
    "Flickr"
   ]
  },
  {
   "cell_type": "code",
   "execution_count": null,
   "metadata": {},
   "outputs": [],
   "source": [
    "labels = os.listdir(\"data\")\n",
    "counter = 0\n",
    "for label in labels:\n",
    "    images_in_labels = os.listdir(\"data/\" + label)\n",
    "    counter += 1\n",
    "    for image in images_in_labels:\n",
    "        if counter > 0:\n",
    "            sub_images = os.path.join(\"data\", label, image)\n",
    "            print(sub_images)\n",
    "            get_urls(image, n=20, download=True)"
   ]
  },
  {
   "cell_type": "markdown",
   "metadata": {},
   "source": [
    "Move images folder files into the data folder"
   ]
  },
  {
   "cell_type": "code",
   "execution_count": 2,
   "metadata": {},
   "outputs": [],
   "source": [
    "import shutil\n",
    "\n",
    "images_dir = \"google_scraper/photos\"\n",
    "\n",
    "labels = os.listdir(\"data\")\n",
    "for label in labels:\n",
    "    images_in_labels = os.listdir(\"data/\" + label)\n",
    "    for image_class in images_in_labels:\n",
    "        data_folder_path = os.path.join(\"data\", label, image_class)\n",
    "        images_folder_path = os.path.join(images_dir, image_class)\n",
    "        for scraped_image in os.listdir(images_folder_path):\n",
    "            shutil.copy(\n",
    "                os.path.join(images_folder_path, scraped_image), \n",
    "                os.path.join(data_folder_path, scraped_image))"
   ]
  }
 ],
 "metadata": {
  "interpreter": {
   "hash": "c5b6d09c6aa7fff57d7a8369c5cfbd30b60cd54efea322b6d32834da73899050"
  },
  "kernelspec": {
   "display_name": "Python 3.8.3 ('venv': venv)",
   "language": "python",
   "name": "python3"
  },
  "language_info": {
   "codemirror_mode": {
    "name": "ipython",
    "version": 3
   },
   "file_extension": ".py",
   "mimetype": "text/x-python",
   "name": "python",
   "nbconvert_exporter": "python",
   "pygments_lexer": "ipython3",
   "version": "3.8.3"
  },
  "orig_nbformat": 4
 },
 "nbformat": 4,
 "nbformat_minor": 2
}
