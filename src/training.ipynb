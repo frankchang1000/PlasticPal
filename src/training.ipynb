{
 "cells": [
  {
   "cell_type": "markdown",
   "metadata": {},
   "source": [
    "Import Requirements"
   ]
  },
  {
   "cell_type": "code",
   "execution_count": 1,
   "metadata": {},
   "outputs": [],
   "source": [
    "import numpy as np\n",
    "import tensorflow as tf\n",
    "import matplotlib.pyplot as plt\n",
    "import albumentations as A"
   ]
  },
  {
   "cell_type": "markdown",
   "metadata": {},
   "source": [
    "Set the Hyperparameters"
   ]
  },
  {
   "cell_type": "code",
   "execution_count": 2,
   "metadata": {},
   "outputs": [],
   "source": [
    "model_name = \"efficientnet_b0\"\n",
    "weights = None #\"imagenet\"\n",
    "input_dims = (32, 32, 3)\n",
    "num_classes = 10\n",
    "epochs = 25\n",
    "batch_size = 1024\n",
    "shuffle_size = 16\n",
    "learning_rate = 0.01\n",
    "precision = \"float32\"\n",
    "model_dir = \"models\""
   ]
  },
  {
   "cell_type": "markdown",
   "metadata": {},
   "source": [
    "Create the Models"
   ]
  },
  {
   "cell_type": "code",
   "execution_count": 3,
   "metadata": {},
   "outputs": [],
   "source": [
    "import resnet as resnet\n",
    "\n",
    "inputs = tf.keras.layers.Input(shape=input_dims)\n",
    "bb = resnet.ResNet50V2(input_shape=input_dims, num_classes=num_classes, pretrain=False)(inputs)\n",
    "model = tf.keras.Model(inputs, bb)"
   ]
  },
  {
   "cell_type": "code",
   "execution_count": 4,
   "metadata": {},
   "outputs": [
    {
     "data": {
      "text/plain": [
       "'\\nodels = {\\n    \\'efficientnet_b0\\': tf.keras.applications.EfficientNetB0,\\n    \\'efficientnet_b1\\': tf.keras.applications.EfficientNetB1,\\n    \\'efficientnet_b2\\': tf.keras.applications.EfficientNetB2,\\n    \\'efficientnet_b3\\': tf.keras.applications.EfficientNetB3,\\n    \\'efficientnet_b4\\': tf.keras.applications.EfficientNetB4,\\n    \\'efficientnet_b5\\': tf.keras.applications.EfficientNetB5,\\n    \\'efficientnet_b6\\': tf.keras.applications.EfficientNetB6,\\n    \\'efficientnet_b7\\': tf.keras.applications.EfficientNetB7\\n}\\ninputs = tf.keras.Input(shape=input_dims)\\nbackbone = models[model_name](include_top=True,\\n                        weights=weights,\\n                        input_shape=input_dims,\\n                        classes=num_classes)(inputs)\\nbackbone.trainable = True\\n# backbone = tf.keras.layers.Dense(num_classes, activation=\"softmax\")(backbone)\\nmodel = tf.keras.Model(inputs=inputs, outputs=backbone, name=model_name)\\n\\n'"
      ]
     },
     "execution_count": 4,
     "metadata": {},
     "output_type": "execute_result"
    }
   ],
   "source": [
    "\"\"\"\n",
    "odels = {\n",
    "    'efficientnet_b0': tf.keras.applications.EfficientNetB0,\n",
    "    'efficientnet_b1': tf.keras.applications.EfficientNetB1,\n",
    "    'efficientnet_b2': tf.keras.applications.EfficientNetB2,\n",
    "    'efficientnet_b3': tf.keras.applications.EfficientNetB3,\n",
    "    'efficientnet_b4': tf.keras.applications.EfficientNetB4,\n",
    "    'efficientnet_b5': tf.keras.applications.EfficientNetB5,\n",
    "    'efficientnet_b6': tf.keras.applications.EfficientNetB6,\n",
    "    'efficientnet_b7': tf.keras.applications.EfficientNetB7\n",
    "}\n",
    "inputs = tf.keras.Input(shape=input_dims)\n",
    "backbone = models[model_name](include_top=True,\n",
    "                        weights=weights,\n",
    "                        input_shape=input_dims,\n",
    "                        classes=num_classes)(inputs)\n",
    "backbone.trainable = True\n",
    "# backbone = tf.keras.layers.Dense(num_classes, activation=\"softmax\")(backbone)\n",
    "model = tf.keras.Model(inputs=inputs, outputs=backbone, name=model_name)\n",
    "\n",
    "\"\"\""
   ]
  },
  {
   "cell_type": "code",
   "execution_count": 5,
   "metadata": {},
   "outputs": [
    {
     "name": "stdout",
     "output_type": "stream",
     "text": [
      "Model: \"model\"\n",
      "_________________________________________________________________\n",
      " Layer (type)                Output Shape              Param #   \n",
      "=================================================================\n",
      " input_1 (InputLayer)        [(None, 32, 32, 3)]       0         \n",
      "                                                                 \n",
      " sequential (Sequential)     (None, 10)                23585290  \n",
      "                                                                 \n",
      "=================================================================\n",
      "Total params: 23,585,290\n",
      "Trainable params: 23,539,850\n",
      "Non-trainable params: 45,440\n",
      "_________________________________________________________________\n"
     ]
    }
   ],
   "source": [
    "model.summary()"
   ]
  },
  {
   "cell_type": "markdown",
   "metadata": {},
   "source": [
    "Import test training data (MNIST)"
   ]
  },
  {
   "cell_type": "code",
   "execution_count": 6,
   "metadata": {},
   "outputs": [
    {
     "name": "stdout",
     "output_type": "stream",
     "text": [
      "(50000, 32, 32, 3)\n",
      "(50000, 1)\n"
     ]
    }
   ],
   "source": [
    "(x_train, y_train), (x_test, y_test) = tf.keras.datasets.cifar10.load_data()\n",
    "print(x_train.shape)\n",
    "print(y_train.shape)"
   ]
  },
  {
   "cell_type": "markdown",
   "metadata": {},
   "source": [
    "Preprocessing"
   ]
  },
  {
   "cell_type": "code",
   "execution_count": 7,
   "metadata": {},
   "outputs": [],
   "source": [
    "def augment_preprocess(image):\n",
    "    image = np.array(image)\n",
    "    transform = A.Compose([\n",
    "        A.RandomCrop(width=input_dims[0], height=input_dims[1]),\n",
    "        A.HorizontalFlip(p=0.5),\n",
    "        A.RandomBrightnessContrast(p=0.2),\n",
    "        A.Resize(height=input_dims[0], width=input_dims[1]),\n",
    "    ])\n",
    "    transformed_image = np.array(transform(image=image)[\"image\"])\n",
    "    return transformed_image\n",
    "\n",
    "def one_hot(indicies):\n",
    "    return tf.one_hot(indicies, num_classes)[0]"
   ]
  },
  {
   "cell_type": "code",
   "execution_count": 8,
   "metadata": {},
   "outputs": [],
   "source": [
    "x_training_np = np.array([augment_preprocess(image) for image in x_train])\n",
    "y_training_np = np.array([one_hot(label) for label in y_train])"
   ]
  },
  {
   "cell_type": "code",
   "execution_count": 9,
   "metadata": {},
   "outputs": [
    {
     "name": "stdout",
     "output_type": "stream",
     "text": [
      "Image shapes(50000, 32, 32, 3)\n",
      "Label shape(50000, 10)\n"
     ]
    }
   ],
   "source": [
    "print(\"Image shapes\" + str(x_training_np.shape))\n",
    "print(\"Label shape\" + str(y_training_np.shape))"
   ]
  },
  {
   "cell_type": "markdown",
   "metadata": {},
   "source": [
    "Training Settings"
   ]
  },
  {
   "cell_type": "code",
   "execution_count": 10,
   "metadata": {},
   "outputs": [],
   "source": [
    "optimizer = tf.keras.optimizers.Adam(learning_rate=learning_rate)\n",
    "loss_func = tf.keras.losses.CategoricalCrossentropy(from_logits=False)"
   ]
  },
  {
   "cell_type": "markdown",
   "metadata": {},
   "source": [
    "Training"
   ]
  },
  {
   "cell_type": "code",
   "execution_count": 11,
   "metadata": {},
   "outputs": [
    {
     "name": "stdout",
     "output_type": "stream",
     "text": [
      "Epoch 1/25\n",
      "1563/1563 [==============================] - 85s 48ms/step - loss: 4.7819 - accuracy: 0.2733 - categorical_crossentropy: 2.2100\n",
      "Epoch 2/25\n",
      "1563/1563 [==============================] - 76s 48ms/step - loss: 2.0054 - accuracy: 0.3926 - categorical_crossentropy: 1.6315\n",
      "Epoch 3/25\n",
      "1563/1563 [==============================] - 75s 48ms/step - loss: 1.7957 - accuracy: 0.4307 - categorical_crossentropy: 1.5372\n",
      "Epoch 4/25\n",
      "1563/1563 [==============================] - 76s 48ms/step - loss: 1.6759 - accuracy: 0.4745 - categorical_crossentropy: 1.4346\n",
      "Epoch 5/25\n",
      "1563/1563 [==============================] - 75s 48ms/step - loss: 1.5930 - accuracy: 0.5078 - categorical_crossentropy: 1.3514\n",
      "Epoch 6/25\n",
      "1563/1563 [==============================] - 76s 49ms/step - loss: 1.5245 - accuracy: 0.5317 - categorical_crossentropy: 1.2977\n",
      "Epoch 7/25\n",
      "1563/1563 [==============================] - 76s 48ms/step - loss: 1.4615 - accuracy: 0.5511 - categorical_crossentropy: 1.2505\n",
      "Epoch 8/25\n",
      "1563/1563 [==============================] - 76s 49ms/step - loss: 1.4395 - accuracy: 0.5594 - categorical_crossentropy: 1.2346\n",
      "Epoch 9/25\n",
      " 388/1563 [======>.......................] - ETA: 57s - loss: 1.4084 - accuracy: 0.5731 - categorical_crossentropy: 1.2040"
     ]
    }
   ],
   "source": [
    "model.compile(optimizer=optimizer, loss=loss_func, metrics=[\"accuracy\", \"categorical_crossentropy\"])\n",
    "model.fit(x_training_np, y_training_np, epochs=epochs)"
   ]
  },
  {
   "cell_type": "markdown",
   "metadata": {},
   "source": [
    "Testing"
   ]
  },
  {
   "cell_type": "code",
   "execution_count": null,
   "metadata": {},
   "outputs": [
    {
     "name": "stdout",
     "output_type": "stream",
     "text": [
      "tf.Tensor(0.1092, shape=(), dtype=float32)\n"
     ]
    }
   ],
   "source": [
    "acc = tf.keras.metrics.CategoricalAccuracy()\n",
    "\n",
    "x_test_ds = tf.data.Dataset.from_tensor_slices(x_test)\n",
    "y_test_ds = tf.data.Dataset.from_tensor_slices(y_test)\n",
    "test_dataset = tf.data.Dataset.zip((x_test_ds, y_test_ds)).batch(batch_size)\n",
    "\n",
    "for x, y in test_dataset:\n",
    "    out = model(x, training=False)\n",
    "    acc.update_state(y_true=y[0], y_pred=out)\n",
    "print(acc.result())"
   ]
  }
 ],
 "metadata": {
  "interpreter": {
   "hash": "c5b6d09c6aa7fff57d7a8369c5cfbd30b60cd54efea322b6d32834da73899050"
  },
  "kernelspec": {
   "display_name": "Python 3.8.3 ('venv': venv)",
   "language": "python",
   "name": "python3"
  },
  "language_info": {
   "codemirror_mode": {
    "name": "ipython",
    "version": 3
   },
   "file_extension": ".py",
   "mimetype": "text/x-python",
   "name": "python",
   "nbconvert_exporter": "python",
   "pygments_lexer": "ipython3",
   "version": "3.8.3"
  },
  "orig_nbformat": 4
 },
 "nbformat": 4,
 "nbformat_minor": 2
}
